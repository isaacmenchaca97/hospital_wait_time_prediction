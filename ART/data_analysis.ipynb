{
 "cells": [
  {
   "cell_type": "markdown",
   "metadata": {},
   "source": [
    "# Data Cleaning"
   ]
  },
  {
   "cell_type": "code",
   "execution_count": 20,
   "metadata": {},
   "outputs": [],
   "source": [
    "import pandas as pd\n",
    "import numpy as np\n",
    "import plotly.express as px\n",
    "import plotly.offline as py\n",
    "template_style = \"plotly_dark\"\n",
    "%matplotlib inline"
   ]
  },
  {
   "cell_type": "code",
   "execution_count": 21,
   "metadata": {},
   "outputs": [
    {
     "name": "stderr",
     "output_type": "stream",
     "text": [
      "/Users/isaacmenchaca/PycharmProjects/Tesis/.venv/lib/python3.12/site-packages/openpyxl/worksheet/_reader.py:329: UserWarning:\n",
      "\n",
      "Unknown extension is not supported and will be removed\n",
      "\n"
     ]
    }
   ],
   "source": [
    "df = pd.read_excel('../Database/basededatos.xlsx')"
   ]
  },
  {
   "cell_type": "markdown",
   "metadata": {},
   "source": [
    "##### Remove duplicates and null values  "
   ]
  },
  {
   "cell_type": "code",
   "execution_count": 22,
   "metadata": {},
   "outputs": [],
   "source": [
    "# the porcentage of missing values is   10,999 - 3.9%\n",
    "# the porcentage of duplicates is       9,160  - 3.3%\n",
    "df_without_duplicates = df.drop_duplicates()\n",
    "df_without_duplicates_and_na = df_without_duplicates.dropna()\n",
    "# 19008 data removed"
   ]
  },
  {
   "cell_type": "markdown",
   "metadata": {},
   "source": [
    "##### Convert values to absolute values"
   ]
  },
  {
   "cell_type": "code",
   "execution_count": 23,
   "metadata": {},
   "outputs": [],
   "source": [
    "df_absolut_values = df_without_duplicates_and_na.copy()\n",
    "df_absolut_values['tiempo_espera_triage'] = df_without_duplicates_and_na['tiempo_espera_triage'].abs()\n",
    "df_absolut_values['tiempo_en_triage'] = df_without_duplicates_and_na['tiempo_en_triage'].abs()\n",
    "df_absolut_values['tiempo_espera_despuestriage'] = df_without_duplicates_and_na['tiempo_espera_despuestriage'].abs()\n",
    "df_absolut_values['tiempo_en_consulta'] = df_without_duplicates_and_na['tiempo_en_consulta'].abs()\n",
    "df_absolut_values['edad'] = df_without_duplicates_and_na['edad'].abs()"
   ]
  },
  {
   "cell_type": "code",
   "execution_count": 24,
   "metadata": {},
   "outputs": [],
   "source": [
    "# create a column with the total time\n",
    "df_absolut_values['tiempo_total'] = df_absolut_values['tiempo_espera_triage'] + df_absolut_values['tiempo_en_triage'] + df_absolut_values['tiempo_espera_despuestriage'] + df_absolut_values['tiempo_en_consulta']"
   ]
  },
  {
   "cell_type": "code",
   "execution_count": 25,
   "metadata": {},
   "outputs": [],
   "source": [
    "# remove hora column and change name of 'Fecha' to 'fecha'\n",
    "df_absolut_values = df_absolut_values.drop(columns=['Hora'])\n",
    "df_absolut_values.rename(columns={'Fecha':'fecha'}, inplace=True)"
   ]
  },
  {
   "cell_type": "markdown",
   "metadata": {},
   "source": [
    "##### Outliers for 'tiempo_total' (IQR) interquartile range\n"
   ]
  },
  {
   "cell_type": "code",
   "execution_count": 26,
   "metadata": {},
   "outputs": [
    {
     "name": "stdout",
     "output_type": "stream",
     "text": [
      "Number of outliers: 726\n"
     ]
    }
   ],
   "source": [
    "# Calculate the percentiles\n",
    "twenty_fifth = df_absolut_values['tiempo_total'].quantile(0.25)\n",
    "seventy_fifth = df_absolut_values['tiempo_total'].quantile(0.75)\n",
    "\n",
    "# Obtain IQR\n",
    "iqr = seventy_fifth - twenty_fifth\n",
    "\n",
    "# Upper and lower thresholds\n",
    "upper = seventy_fifth + (10 * iqr)\n",
    "lower = twenty_fifth - (10 * iqr)\n",
    "\n",
    "# Subset the dataset\n",
    "outliers = df_absolut_values[(df_absolut_values['tiempo_total'] < lower) | (df_absolut_values['tiempo_total'] > upper)]\n",
    "\n",
    "print(f'Number of outliers: {len(outliers)}')"
   ]
  },
  {
   "cell_type": "markdown",
   "metadata": {},
   "source": [
    "##### Remove 'tiempo_total' Outliers"
   ]
  },
  {
   "cell_type": "code",
   "execution_count": 27,
   "metadata": {},
   "outputs": [],
   "source": [
    "# the porcentage of 'tiempo_total' outliers is      726 - 0.2%\n",
    "df_without_outliers = df_absolut_values.drop(outliers.index)"
   ]
  },
  {
   "cell_type": "markdown",
   "metadata": {},
   "source": [
    "##### Standardize the value of the age"
   ]
  },
  {
   "cell_type": "code",
   "execution_count": 28,
   "metadata": {},
   "outputs": [
    {
     "name": "stderr",
     "output_type": "stream",
     "text": [
      "/var/folders/k4/jmfcdlnj0737gj65_12sh9wm0000gn/T/ipykernel_19161/2472631517.py:4: FutureWarning:\n",
      "\n",
      "Downcasting behavior in `replace` is deprecated and will be removed in a future version. To retain the old behavior, explicitly call `result.infer_objects(copy=False)`. To opt-in to the future behavior, set `pd.set_option('future.no_silent_downcasting', True)`\n",
      "\n"
     ]
    }
   ],
   "source": [
    "df_cleaning_edad = df_without_outliers.copy()\n",
    "df_cleaning_edad.rename(columns={'Edad1': 'edad_unidad'}, inplace=True)\n",
    "# convert column edad_unidad to numeric.\n",
    "df_cleaning_edad['edad_unidad'] = df_cleaning_edad['edad_unidad'].replace({'Años': 1, 'Meses': 1/12, 'Dias': 1/365})\n",
    "# standardize the value of the age\n",
    "df_cleaning_edad['edad'] = df_cleaning_edad['edad'] * df_cleaning_edad['edad_unidad']"
   ]
  },
  {
   "cell_type": "markdown",
   "metadata": {},
   "source": [
    "##### Outliers for 'edad' (IQR)"
   ]
  },
  {
   "cell_type": "code",
   "execution_count": 29,
   "metadata": {},
   "outputs": [
    {
     "name": "stdout",
     "output_type": "stream",
     "text": [
      "Number of outliers: 3\n"
     ]
    }
   ],
   "source": [
    "df_cleaning_edad = df_cleaning_edad.copy()\n",
    "twenty_fifth = df_cleaning_edad['edad'].quantile(0.25)\n",
    "seventy_fifth = df_cleaning_edad['edad'].quantile(0.75)\n",
    "\n",
    "# Obtain IQR\n",
    "iqr = seventy_fifth - twenty_fifth\n",
    "\n",
    "# Upper and lower thresholds\n",
    "upper = seventy_fifth + (1.5 * iqr)\n",
    "lower = twenty_fifth - (1.5 * iqr)\n",
    "\n",
    "# Subset the dataset\n",
    "outliers_edad = df_cleaning_edad[(df_cleaning_edad['edad'] < lower) | (df_cleaning_edad['edad'] > upper)]\n",
    "\n",
    "print(f'Number of outliers: {len(outliers_edad)}')"
   ]
  },
  {
   "cell_type": "markdown",
   "metadata": {},
   "source": [
    "##### Rmove 'edad' Outliers"
   ]
  },
  {
   "cell_type": "code",
   "execution_count": 30,
   "metadata": {},
   "outputs": [],
   "source": [
    "# the porcentage of 'edad' outliers is      3 - 0.001%\n",
    "df_without_outliers_edad = df_cleaning_edad.drop(outliers_edad.index)"
   ]
  },
  {
   "cell_type": "markdown",
   "metadata": {},
   "source": [
    "##### Obtain gender"
   ]
  },
  {
   "cell_type": "code",
   "execution_count": 31,
   "metadata": {},
   "outputs": [],
   "source": [
    "df_gender_detector = df_without_outliers_edad.copy()\n",
    "import gender_guesser.detector as gender\n",
    "\n",
    "# Create an gender detector object\n",
    "d = gender.Detector()\n",
    "\n",
    "def obtener_genero(nombre):\n",
    "    # setting the second name, there is a total categorization between 'Ambiguo' y 'Desconocido' of 34,535 names\n",
    "    nombre = nombre.split()[-1] \n",
    "    nombre = nombre.title()\n",
    "    # if the name is 'Femenino' or 'Masculino' return the name\n",
    "    # total categorization between 'Ambiguo' y 'Desconocido' of 27,709 names. Recover 6,826 names\n",
    "    if nombre == 'Femenino' or nombre == 'Masculino':\n",
    "        return nombre\n",
    "    else:\n",
    "        return d.get_gender(nombre)\n",
    "\n",
    "df_gender_detector['genero'] = df_gender_detector['nombre'].apply(obtener_genero)\n",
    "\n",
    "df_gender_detector['genero'] = df_gender_detector['genero'].replace({\n",
    "    'male': 'Masculino',\n",
    "    'female': 'Femenino',\n",
    "    'andy': 'Ambiguo',\n",
    "    'unknown': 'Desconocido', \n",
    "    'mostly_male': 'Masculino',\n",
    "    'mostly_female': 'Femenino'\n",
    "})"
   ]
  },
  {
   "cell_type": "markdown",
   "metadata": {},
   "source": [
    "##### Remove 'Ambiguio' and 'Desconocido' values"
   ]
  },
  {
   "cell_type": "code",
   "execution_count": 32,
   "metadata": {},
   "outputs": [],
   "source": [
    "df_gender_detector_ambiguo = df_gender_detector[(df_gender_detector['genero'] == 'Ambiguo') | (df_gender_detector['genero'] == 'Desconocido')]\n",
    "# Drop 'Ambiguio' and 'Desconocido' values\n",
    "# the porcentage of 'df_gender_detector_ambiguo' is      27,709 - 9.9%\n",
    "df_gender_detector_clean = df_gender_detector.drop(df_gender_detector_ambiguo.index)"
   ]
  },
  {
   "cell_type": "markdown",
   "metadata": {},
   "source": [
    "##### Encode gender and clasification"
   ]
  },
  {
   "cell_type": "code",
   "execution_count": 33,
   "metadata": {},
   "outputs": [],
   "source": [
    "# Encode calsification of triage\n",
    "df_encode = df_gender_detector_clean.copy()\n",
    "df_encode['clasificacion'] = df_encode['clasificacion'].astype('category').cat.codes\n",
    "# Encode gender. 0: Femenino 1: Masculino\n",
    "df_encode['genero_encode'] = df_encode['genero'].astype('category').cat.codes"
   ]
  },
  {
   "cell_type": "code",
   "execution_count": 34,
   "metadata": {},
   "outputs": [],
   "source": [
    "# from sklearn.preprocessing import OneHotEncoder\n",
    "# df_encode = df_gender_detector_clean.copy()\n",
    "\n",
    "# # Codificar la columna 'genero' usando OneHotEncoder\n",
    "# encoder = OneHotEncoder(handle_unknown='ignore', sparse_output=False)\n",
    "# genero_encoded = encoder.fit_transform(df_encode[['genero']])\n",
    "# # Añadir las columnas codificadas al DataFrame original\n",
    "# df_encode = df_encode.join(pd.DataFrame(genero_encoded, columns=encoder.get_feature_names_out(['genero'])))\n",
    "\n",
    "\n",
    "# clasificacion_encoded = encoder.fit_transform(df_encode[['clasificacion']])\n",
    "# df_encode = df_encode.join(pd.DataFrame(clasificacion_encoded, columns=encoder.get_feature_names_out(['clasificacion'])))"
   ]
  },
  {
   "cell_type": "markdown",
   "metadata": {},
   "source": [
    "##### Date"
   ]
  },
  {
   "cell_type": "code",
   "execution_count": 35,
   "metadata": {},
   "outputs": [
    {
     "data": {
      "text/plain": [
       "fecha                          datetime64[ns]\n",
       "nombre                                 object\n",
       "tiempo_espera_triage                  float64\n",
       "tiempo_en_triage                      float64\n",
       "tiempo_espera_despuestriage           float64\n",
       "tiempo_en_consulta                    float64\n",
       "clasificacion                            int8\n",
       "edad                                  float64\n",
       "edad_unidad                           float64\n",
       "Dx                                     object\n",
       "tiempo_total                          float64\n",
       "genero                                 object\n",
       "genero_encode                            int8\n",
       "hora                                    int32\n",
       "minuto                                  int32\n",
       "mes                                     int32\n",
       "dia                                     int32\n",
       "dia_semana                              int32\n",
       "dtype: object"
      ]
     },
     "execution_count": 35,
     "metadata": {},
     "output_type": "execute_result"
    }
   ],
   "source": [
    "df_date = df_encode.copy()\n",
    "# Extract caracteristics from date\n",
    "df_date['hora'] = df_date['fecha'].dt.hour\n",
    "df_date['minuto'] = df_date['fecha'].dt.minute\n",
    "df_date['mes'] = df_date['fecha'].dt.month\n",
    "df_date['dia'] = df_date['fecha'].dt.day\n",
    "df_date['dia_semana'] = df_date['fecha'].dt.dayofweek\n",
    "df_date.dtypes"
   ]
  },
  {
   "cell_type": "code",
   "execution_count": 36,
   "metadata": {},
   "outputs": [
    {
     "data": {
      "text/html": [
       "<div>\n",
       "<style scoped>\n",
       "    .dataframe tbody tr th:only-of-type {\n",
       "        vertical-align: middle;\n",
       "    }\n",
       "\n",
       "    .dataframe tbody tr th {\n",
       "        vertical-align: top;\n",
       "    }\n",
       "\n",
       "    .dataframe thead th {\n",
       "        text-align: right;\n",
       "    }\n",
       "</style>\n",
       "<table border=\"1\" class=\"dataframe\">\n",
       "  <thead>\n",
       "    <tr style=\"text-align: right;\">\n",
       "      <th></th>\n",
       "      <th>fecha</th>\n",
       "      <th>nombre</th>\n",
       "      <th>tiempo_espera_triage</th>\n",
       "      <th>tiempo_en_triage</th>\n",
       "      <th>tiempo_espera_despuestriage</th>\n",
       "      <th>tiempo_en_consulta</th>\n",
       "      <th>clasificacion</th>\n",
       "      <th>edad</th>\n",
       "      <th>edad_unidad</th>\n",
       "      <th>Dx</th>\n",
       "      <th>tiempo_total</th>\n",
       "      <th>genero</th>\n",
       "      <th>genero_encode</th>\n",
       "      <th>hora</th>\n",
       "      <th>minuto</th>\n",
       "      <th>mes</th>\n",
       "      <th>dia</th>\n",
       "      <th>dia_semana</th>\n",
       "    </tr>\n",
       "  </thead>\n",
       "  <tbody>\n",
       "    <tr>\n",
       "      <th>0</th>\n",
       "      <td>2010-08-16 08:46:15.343</td>\n",
       "      <td>JORGE</td>\n",
       "      <td>7.0</td>\n",
       "      <td>5.0</td>\n",
       "      <td>18.0</td>\n",
       "      <td>14.0</td>\n",
       "      <td>0</td>\n",
       "      <td>42.0</td>\n",
       "      <td>1.0</td>\n",
       "      <td>HERIDA DEL LABIO SUPERIOR</td>\n",
       "      <td>44.0</td>\n",
       "      <td>Masculino</td>\n",
       "      <td>1</td>\n",
       "      <td>8</td>\n",
       "      <td>46</td>\n",
       "      <td>8</td>\n",
       "      <td>16</td>\n",
       "      <td>0</td>\n",
       "    </tr>\n",
       "    <tr>\n",
       "      <th>1</th>\n",
       "      <td>2010-08-16 09:00:35.700</td>\n",
       "      <td>MARIA TERESITA</td>\n",
       "      <td>4.0</td>\n",
       "      <td>5.0</td>\n",
       "      <td>16.0</td>\n",
       "      <td>26.0</td>\n",
       "      <td>0</td>\n",
       "      <td>45.0</td>\n",
       "      <td>1.0</td>\n",
       "      <td>PICADURA DE APIE</td>\n",
       "      <td>51.0</td>\n",
       "      <td>Femenino</td>\n",
       "      <td>0</td>\n",
       "      <td>9</td>\n",
       "      <td>0</td>\n",
       "      <td>8</td>\n",
       "      <td>16</td>\n",
       "      <td>0</td>\n",
       "    </tr>\n",
       "    <tr>\n",
       "      <th>5</th>\n",
       "      <td>2010-08-16 09:37:31.500</td>\n",
       "      <td>JONATHAN BRAYAN</td>\n",
       "      <td>5.0</td>\n",
       "      <td>5.0</td>\n",
       "      <td>51.0</td>\n",
       "      <td>13.0</td>\n",
       "      <td>0</td>\n",
       "      <td>8.0</td>\n",
       "      <td>1.0</td>\n",
       "      <td>FRACTURA DE  TERCIO    MEDIO  CLAVICULA IZQ</td>\n",
       "      <td>74.0</td>\n",
       "      <td>Masculino</td>\n",
       "      <td>1</td>\n",
       "      <td>9</td>\n",
       "      <td>37</td>\n",
       "      <td>8</td>\n",
       "      <td>16</td>\n",
       "      <td>0</td>\n",
       "    </tr>\n",
       "    <tr>\n",
       "      <th>7</th>\n",
       "      <td>2010-08-16 09:44:29.467</td>\n",
       "      <td>ALMA PATRICIA</td>\n",
       "      <td>5.0</td>\n",
       "      <td>4.0</td>\n",
       "      <td>44.0</td>\n",
       "      <td>0.0</td>\n",
       "      <td>0</td>\n",
       "      <td>33.0</td>\n",
       "      <td>1.0</td>\n",
       "      <td>COLICO RENOURETERAL REMITIDO + PB UROLITIASIS ...</td>\n",
       "      <td>53.0</td>\n",
       "      <td>Femenino</td>\n",
       "      <td>0</td>\n",
       "      <td>9</td>\n",
       "      <td>44</td>\n",
       "      <td>8</td>\n",
       "      <td>16</td>\n",
       "      <td>0</td>\n",
       "    </tr>\n",
       "    <tr>\n",
       "      <th>8</th>\n",
       "      <td>2010-08-16 09:49:16.543</td>\n",
       "      <td>ROBERTO</td>\n",
       "      <td>27.0</td>\n",
       "      <td>5.0</td>\n",
       "      <td>71.0</td>\n",
       "      <td>9.0</td>\n",
       "      <td>0</td>\n",
       "      <td>34.0</td>\n",
       "      <td>1.0</td>\n",
       "      <td>COLICO RENAL IZQ</td>\n",
       "      <td>112.0</td>\n",
       "      <td>Masculino</td>\n",
       "      <td>1</td>\n",
       "      <td>9</td>\n",
       "      <td>49</td>\n",
       "      <td>8</td>\n",
       "      <td>16</td>\n",
       "      <td>0</td>\n",
       "    </tr>\n",
       "  </tbody>\n",
       "</table>\n",
       "</div>"
      ],
      "text/plain": [
       "                    fecha           nombre  tiempo_espera_triage  \\\n",
       "0 2010-08-16 08:46:15.343            JORGE                   7.0   \n",
       "1 2010-08-16 09:00:35.700   MARIA TERESITA                   4.0   \n",
       "5 2010-08-16 09:37:31.500  JONATHAN BRAYAN                   5.0   \n",
       "7 2010-08-16 09:44:29.467    ALMA PATRICIA                   5.0   \n",
       "8 2010-08-16 09:49:16.543          ROBERTO                  27.0   \n",
       "\n",
       "   tiempo_en_triage  tiempo_espera_despuestriage  tiempo_en_consulta  \\\n",
       "0               5.0                         18.0                14.0   \n",
       "1               5.0                         16.0                26.0   \n",
       "5               5.0                         51.0                13.0   \n",
       "7               4.0                         44.0                 0.0   \n",
       "8               5.0                         71.0                 9.0   \n",
       "\n",
       "   clasificacion  edad  edad_unidad  \\\n",
       "0              0  42.0          1.0   \n",
       "1              0  45.0          1.0   \n",
       "5              0   8.0          1.0   \n",
       "7              0  33.0          1.0   \n",
       "8              0  34.0          1.0   \n",
       "\n",
       "                                                  Dx  tiempo_total     genero  \\\n",
       "0                          HERIDA DEL LABIO SUPERIOR          44.0  Masculino   \n",
       "1                                   PICADURA DE APIE          51.0   Femenino   \n",
       "5        FRACTURA DE  TERCIO    MEDIO  CLAVICULA IZQ          74.0  Masculino   \n",
       "7  COLICO RENOURETERAL REMITIDO + PB UROLITIASIS ...          53.0   Femenino   \n",
       "8                                   COLICO RENAL IZQ         112.0  Masculino   \n",
       "\n",
       "   genero_encode  hora  minuto  mes  dia  dia_semana  \n",
       "0              1     8      46    8   16           0  \n",
       "1              0     9       0    8   16           0  \n",
       "5              1     9      37    8   16           0  \n",
       "7              0     9      44    8   16           0  \n",
       "8              1     9      49    8   16           0  "
      ]
     },
     "execution_count": 36,
     "metadata": {},
     "output_type": "execute_result"
    }
   ],
   "source": [
    "df_date.head()"
   ]
  },
  {
   "cell_type": "markdown",
   "metadata": {},
   "source": [
    "# Regression Model"
   ]
  },
  {
   "cell_type": "code",
   "execution_count": 86,
   "metadata": {},
   "outputs": [],
   "source": [
    "df_regresion = df_date.copy()"
   ]
  },
  {
   "cell_type": "code",
   "execution_count": 89,
   "metadata": {},
   "outputs": [],
   "source": [
    "from gensim.models import Doc2Vec\n",
    "from gensim.models.doc2vec import TaggedDocument\n",
    "\n",
    "# the porcentage of not string values is   9 - 0.003%\n",
    "df_not_string = df_regresion[~df_regresion['Dx'].apply(lambda x: isinstance(x, str))]\n",
    "df_regresion = df_regresion.drop(df_not_string.index)\n",
    "\n",
    "\n",
    "# Create a TaggedDocument object\n",
    "tagged_data = [TaggedDocument(words=text.split(), tags=[str(i)]) for i, text in enumerate(df_regresion['Dx'])]\n",
    "\n",
    "\n",
    "# Create a Doc2Vec model\n",
    "model = Doc2Vec(vector_size=100, window=2, min_count=1, workers=4)\n",
    "model.build_vocab(tagged_data)\n",
    "model.train(tagged_data, total_examples=model.corpus_count, epochs=40)\n",
    "\n",
    "\n",
    "df_regresion['doc2vec'] = [model.dv[str(i)] for i in range(len(tagged_data))]"
   ]
  },
  {
   "cell_type": "code",
   "execution_count": 92,
   "metadata": {},
   "outputs": [],
   "source": [
    "from sklearn.model_selection import train_test_split, GridSearchCV\n",
    "from sklearn.tree import DecisionTreeRegressor\n",
    "from sklearn.ensemble import RandomForestRegressor, GradientBoostingRegressor, AdaBoostRegressor\n",
    "from sklearn.neighbors import KNeighborsRegressor\n",
    "from sklearn.metrics import mean_squared_error, r2_score, mean_absolute_error\n",
    "from sklearn.preprocessing import StandardScaler\n",
    "import matplotlib.pyplot as plt\n",
    "\n",
    "\n",
    "# Select target and features\n",
    "X = df_regresion[['clasificacion', 'edad', 'genero_encode', 'hora', 'minuto', 'mes', 'dia', 'dia_semana', 'tiempo_espera_triage', 'doc2vec']]\n",
    "# X = df_regresion[['clasificacion', 'edad', 'genero_encode', 'hora', 'minuto', 'mes', 'dia', 'dia_semana', 'tiempo_espera_triage', 'tiempo_en_triage', 'tiempo_espera_despuestriage', 'tiempo_en_consulta']]\n",
    "# X = df_regresion[['clasificacion_AMARILLO', 'clasificacion_ROJO', 'clasificacion_VERDE', 'edad', 'genero_Femenino', 'genero_Masculino', 'hora', 'minuto', 'mes', 'dia', 'dia_semana']]\n",
    "y = df_regresion['tiempo_total']\n",
    "\n",
    "scaler = StandardScaler()\n",
    "X = scaler.fit_transform(X)\n",
    "\n",
    "X_train, X_test, y_train, y_test = train_test_split(X, y, test_size=0.2, random_state=42)\n",
    "\n",
    "model = GradientBoostingRegressor()\n",
    "model.fit(X_train, y_train)\n",
    "\n",
    "# Predictions\n",
    "y_test_pred = model.predict(X_test)\n",
    "\n",
    "# Métricas de evaluación\n",
    "print(f\"Mean Squared Error (MSE): {mean_squared_error(y_test, y_test_pred)}\")\n",
    "print(f\"Coeficiente de determinación (R^2): {r2_score(y_test, y_test_pred)}\")\n",
    "print(f'Mean Absolute Error (MAE): {mean_absolute_error(y_test, y_test_pred)}')\n",
    "\n",
    "# Mostrar algunas predicciones junto con los valores reales\n",
    "predictions = pd.DataFrame({'Actual': y_test, 'Predicted': y_test_pred.flatten()})\n",
    "print(predictions.head(10))\n",
    "\n",
    "# Gráfico de dispersión de predicciones vs valores reales\n",
    "plt.figure(figsize=(10, 6))\n",
    "plt.scatter(y_test, y_test_pred, edgecolor='k', alpha=0.7)\n",
    "plt.plot([y_test.min(), y_test.max()], [y_test.min(), y_test.max()], 'k--', lw=3)\n",
    "plt.xlabel('Valores Reales')\n",
    "plt.ylabel('Predicciones')\n",
    "plt.title('Predicciones vs Valores Reales')\n",
    "plt.show()"
   ]
  },
  {
   "cell_type": "code",
   "execution_count": null,
   "metadata": {},
   "outputs": [],
   "source": [
    "\n",
    "scaler = StandardScaler()\n",
    "X = scaler.fit_transform(X)\n",
    "\n",
    "X_train, X_test, y_train, y_test = train_test_split(X, y, test_size=0.2, random_state=42)\n",
    "\n",
    "model = GradientBoostingRegressor()\n",
    "model.fit(X_train, y_train)\n",
    "\n",
    "# Predictions\n",
    "y_test_pred = model.predict(X_test)\n",
    "\n",
    "# Métricas de evaluación\n",
    "print(f\"Mean Squared Error (MSE): {mean_squared_error(y_test, y_test_pred)}\")\n",
    "print(f\"Coeficiente de determinación (R^2): {r2_score(y_test, y_test_pred)}\")\n",
    "print(f'Mean Absolute Error (MAE): {mean_absolute_error(y_test, y_test_pred)}')\n",
    "\n",
    "# Mostrar algunas predicciones junto con los valores reales\n",
    "predictions = pd.DataFrame({'Actual': y_test, 'Predicted': y_test_pred.flatten()})\n",
    "print(predictions.head(10))\n",
    "\n",
    "# Gráfico de dispersión de predicciones vs valores reales\n",
    "plt.figure(figsize=(10, 6))\n",
    "plt.scatter(y_test, y_test_pred, edgecolor='k', alpha=0.7)\n",
    "plt.plot([y_test.min(), y_test.max()], [y_test.min(), y_test.max()], 'k--', lw=3)\n",
    "plt.xlabel('Valores Reales')\n",
    "plt.ylabel('Predicciones')\n",
    "plt.title('Predicciones vs Valores Reales')\n",
    "plt.show()"
   ]
  },
  {
   "cell_type": "code",
   "execution_count": 23,
   "metadata": {},
   "outputs": [],
   "source": [
    "# from lazypredict.Supervised import LazyRegressor\n",
    "# from sklearn.model_selection import train_test_split\n",
    "# import pandas as pd\n",
    "\n",
    "# # Supongamos que tienes un DataFrame llamado df_ann\n",
    "# X = df_regresion[['clasificacion', 'edad', 'genero_encode', 'hora', 'minuto', 'mes', 'dia', 'dia_semana']]\n",
    "# # X = df_regresion[['clasificacion_AMARILLO', 'clasificacion_ROJO', 'clasificacion_VERDE', 'edad', 'genero_Femenino', 'genero_Masculino', 'hora', 'minuto', 'mes', 'dia', 'dia_semana']]\n",
    "# y = df_regresion['tiempo_total']\n",
    "\n",
    "# X_train, X_test, y_train, y_test = train_test_split(X, y, test_size=0.2, random_state=42)\n",
    "\n",
    "# reg = LazyRegressor(verbose=0, ignore_warnings=True, custom_metric=None)\n",
    "# models, predictions = reg.fit(X_train, X_test, y_train, y_test)\n",
    "\n",
    "# print(models)"
   ]
  },
  {
   "cell_type": "code",
   "execution_count": 24,
   "metadata": {},
   "outputs": [],
   "source": [
    "# from sklearn.model_selection import train_test_split, GridSearchCV\n",
    "# from sklearn.neighbors import KNeighborsRegressor\n",
    "# from sklearn.metrics import mean_squared_error, r2_score, mean_absolute_error\n",
    "# from sklearn.preprocessing import StandardScaler\n",
    "# import matplotlib.pyplot as plt\n",
    "\n",
    "\n",
    "# # Select target and features\n",
    "# X = df_regresion[['clasificacion', 'edad', 'genero_encode', 'hora', 'minuto', 'mes', 'dia', 'dia_semana']]\n",
    "# # X = df_regresion[['clasificacion_AMARILLO', 'clasificacion_ROJO', 'clasificacion_VERDE', 'edad', 'genero_Femenino', 'genero_Masculino', 'hora', 'minuto', 'mes', 'dia', 'dia_semana']]\n",
    "# y = df_regresion['tiempo_total']\n",
    "\n",
    "# scaler = StandardScaler()\n",
    "# X = scaler.fit_transform(X)\n",
    "\n",
    "# X_train, X_test, y_train, y_test = train_test_split(X, y, test_size=0.2, random_state=42)\n",
    "\n",
    "# model = KNeighborsRegressor()\n",
    "# param_grid = {'n_neighbors': [90, 95, 100]}\n",
    "\n",
    "# grid_search = GridSearchCV(estimator=model, param_grid=param_grid, cv=5, scoring='r2')\n",
    "# grid_search.fit(X_train, y_train)\n",
    "\n",
    "# # Obtener los mejores hiperparámetros\n",
    "# best_params = grid_search.best_params_\n",
    "# print(\"Mejores hiperparámetros:\", best_params)\n",
    "\n",
    "# # Evaluar el modelo con los mejores hiperparámetros en el conjunto de prueba\n",
    "# best_model = grid_search.best_estimator_\n",
    "\n",
    "# # Predicciones\n",
    "# y_test_pred = best_model.predict(X_test)"
   ]
  },
  {
   "cell_type": "markdown",
   "metadata": {},
   "source": [
    "# ANN Model"
   ]
  },
  {
   "cell_type": "code",
   "execution_count": 41,
   "metadata": {},
   "outputs": [],
   "source": [
    "df_ann = df_date.copy()"
   ]
  },
  {
   "cell_type": "code",
   "execution_count": 42,
   "metadata": {},
   "outputs": [
    {
     "name": "stdout",
     "output_type": "stream",
     "text": [
      "Epoch 1/100\n"
     ]
    },
    {
     "name": "stderr",
     "output_type": "stream",
     "text": [
      "/Users/isaacmenchaca/PycharmProjects/Tesis/.venv/lib/python3.12/site-packages/keras/src/layers/core/dense.py:87: UserWarning:\n",
      "\n",
      "Do not pass an `input_shape`/`input_dim` argument to a layer. When using Sequential models, prefer using an `Input(shape)` object as the first layer in the model instead.\n",
      "\n"
     ]
    },
    {
     "name": "stdout",
     "output_type": "stream",
     "text": [
      "\u001b[1m9243/9249\u001b[0m \u001b[32m━━━━━━━━━━━━━━━━━━━\u001b[0m\u001b[37m━\u001b[0m \u001b[1m0s\u001b[0m 2ms/step - loss: 1470.7406 - mae: 26.0590\n",
      "Epoch 1: val_loss improved from inf to 1233.29321, saving model to best_model.keras\n",
      "\u001b[1m9249/9249\u001b[0m \u001b[32m━━━━━━━━━━━━━━━━━━━━\u001b[0m\u001b[37m\u001b[0m \u001b[1m20s\u001b[0m 2ms/step - loss: 1470.6449 - mae: 26.0581 - val_loss: 1233.2932 - val_mae: 24.5769 - learning_rate: 1.0000e-04\n",
      "Epoch 2/100\n",
      "\u001b[1m9249/9249\u001b[0m \u001b[32m━━━━━━━━━━━━━━━━━━━━\u001b[0m\u001b[37m\u001b[0m \u001b[1m0s\u001b[0m 2ms/step - loss: 1312.9254 - mae: 24.3977\n",
      "Epoch 2: val_loss improved from 1233.29321 to 1232.17847, saving model to best_model.keras\n",
      "\u001b[1m9249/9249\u001b[0m \u001b[32m━━━━━━━━━━━━━━━━━━━━\u001b[0m\u001b[37m\u001b[0m \u001b[1m20s\u001b[0m 2ms/step - loss: 1312.9241 - mae: 24.3977 - val_loss: 1232.1785 - val_mae: 23.3655 - learning_rate: 1.0000e-04\n",
      "Epoch 3/100\n",
      "\u001b[1m9231/9249\u001b[0m \u001b[32m━━━━━━━━━━━━━━━━━━━\u001b[0m\u001b[37m━\u001b[0m \u001b[1m0s\u001b[0m 2ms/step - loss: 1271.1561 - mae: 24.1806\n",
      "Epoch 3: val_loss improved from 1232.17847 to 1226.21204, saving model to best_model.keras\n",
      "\u001b[1m9249/9249\u001b[0m \u001b[32m━━━━━━━━━━━━━━━━━━━━\u001b[0m\u001b[37m\u001b[0m \u001b[1m19s\u001b[0m 2ms/step - loss: 1271.2068 - mae: 24.1807 - val_loss: 1226.2120 - val_mae: 23.6932 - learning_rate: 1.0000e-04\n",
      "Epoch 4/100\n",
      "\u001b[1m9229/9249\u001b[0m \u001b[32m━━━━━━━━━━━━━━━━━━━\u001b[0m\u001b[37m━\u001b[0m \u001b[1m0s\u001b[0m 2ms/step - loss: 1292.2845 - mae: 24.2329\n",
      "Epoch 4: val_loss improved from 1226.21204 to 1215.92285, saving model to best_model.keras\n",
      "\u001b[1m9249/9249\u001b[0m \u001b[32m━━━━━━━━━━━━━━━━━━━━\u001b[0m\u001b[37m\u001b[0m \u001b[1m19s\u001b[0m 2ms/step - loss: 1292.2853 - mae: 24.2329 - val_loss: 1215.9229 - val_mae: 24.0644 - learning_rate: 1.0000e-04\n",
      "Epoch 5/100\n",
      "\u001b[1m9239/9249\u001b[0m \u001b[32m━━━━━━━━━━━━━━━━━━━\u001b[0m\u001b[37m━\u001b[0m \u001b[1m0s\u001b[0m 2ms/step - loss: 1294.0718 - mae: 24.1985\n",
      "Epoch 5: val_loss did not improve from 1215.92285\n",
      "\u001b[1m9249/9249\u001b[0m \u001b[32m━━━━━━━━━━━━━━━━━━━━\u001b[0m\u001b[37m\u001b[0m \u001b[1m19s\u001b[0m 2ms/step - loss: 1294.0609 - mae: 24.1984 - val_loss: 1223.3573 - val_mae: 24.2912 - learning_rate: 1.0000e-04\n",
      "Epoch 6/100\n",
      "\u001b[1m9233/9249\u001b[0m \u001b[32m━━━━━━━━━━━━━━━━━━━\u001b[0m\u001b[37m━\u001b[0m \u001b[1m0s\u001b[0m 2ms/step - loss: 1285.2793 - mae: 24.2249\n",
      "Epoch 6: val_loss did not improve from 1215.92285\n",
      "\u001b[1m9249/9249\u001b[0m \u001b[32m━━━━━━━━━━━━━━━━━━━━\u001b[0m\u001b[37m\u001b[0m \u001b[1m19s\u001b[0m 2ms/step - loss: 1285.2797 - mae: 24.2248 - val_loss: 1220.7197 - val_mae: 24.2377 - learning_rate: 1.0000e-04\n",
      "Epoch 7/100\n",
      "\u001b[1m9249/9249\u001b[0m \u001b[32m━━━━━━━━━━━━━━━━━━━━\u001b[0m\u001b[37m\u001b[0m \u001b[1m0s\u001b[0m 2ms/step - loss: 1307.6743 - mae: 24.3022\n",
      "Epoch 7: val_loss did not improve from 1215.92285\n",
      "\u001b[1m9249/9249\u001b[0m \u001b[32m━━━━━━━━━━━━━━━━━━━━\u001b[0m\u001b[37m\u001b[0m \u001b[1m19s\u001b[0m 2ms/step - loss: 1307.6719 - mae: 24.3022 - val_loss: 1223.0275 - val_mae: 23.4525 - learning_rate: 1.0000e-04\n",
      "Epoch 8/100\n",
      "\u001b[1m9235/9249\u001b[0m \u001b[32m━━━━━━━━━━━━━━━━━━━\u001b[0m\u001b[37m━\u001b[0m \u001b[1m0s\u001b[0m 2ms/step - loss: 1289.0287 - mae: 24.1588\n",
      "Epoch 8: val_loss did not improve from 1215.92285\n",
      "\u001b[1m9249/9249\u001b[0m \u001b[32m━━━━━━━━━━━━━━━━━━━━\u001b[0m\u001b[37m\u001b[0m \u001b[1m19s\u001b[0m 2ms/step - loss: 1289.0210 - mae: 24.1588 - val_loss: 1222.8695 - val_mae: 23.3589 - learning_rate: 1.0000e-04\n",
      "Epoch 9/100\n",
      "\u001b[1m9239/9249\u001b[0m \u001b[32m━━━━━━━━━━━━━━━━━━━\u001b[0m\u001b[37m━\u001b[0m \u001b[1m0s\u001b[0m 2ms/step - loss: 1300.1814 - mae: 24.1390\n",
      "Epoch 9: ReduceLROnPlateau reducing learning rate to 4.999999873689376e-05.\n",
      "\n",
      "Epoch 9: val_loss did not improve from 1215.92285\n",
      "\u001b[1m9249/9249\u001b[0m \u001b[32m━━━━━━━━━━━━━━━━━━━━\u001b[0m\u001b[37m\u001b[0m \u001b[1m19s\u001b[0m 2ms/step - loss: 1300.1624 - mae: 24.1390 - val_loss: 1216.0905 - val_mae: 23.6218 - learning_rate: 1.0000e-04\n",
      "Epoch 10/100\n",
      "\u001b[1m9237/9249\u001b[0m \u001b[32m━━━━━━━━━━━━━━━━━━━\u001b[0m\u001b[37m━\u001b[0m \u001b[1m0s\u001b[0m 2ms/step - loss: 1252.0778 - mae: 23.9756\n",
      "Epoch 10: val_loss did not improve from 1215.92285\n",
      "\u001b[1m9249/9249\u001b[0m \u001b[32m━━━━━━━━━━━━━━━━━━━━\u001b[0m\u001b[37m\u001b[0m \u001b[1m20s\u001b[0m 2ms/step - loss: 1252.1183 - mae: 23.9758 - val_loss: 1222.5745 - val_mae: 24.4852 - learning_rate: 5.0000e-05\n",
      "Epoch 11/100\n",
      "\u001b[1m9248/9249\u001b[0m \u001b[32m━━━━━━━━━━━━━━━━━━━\u001b[0m\u001b[37m━\u001b[0m \u001b[1m0s\u001b[0m 2ms/step - loss: 1279.4652 - mae: 24.1390\n",
      "Epoch 11: val_loss improved from 1215.92285 to 1212.15930, saving model to best_model.keras\n",
      "\u001b[1m9249/9249\u001b[0m \u001b[32m━━━━━━━━━━━━━━━━━━━━\u001b[0m\u001b[37m\u001b[0m \u001b[1m20s\u001b[0m 2ms/step - loss: 1279.4657 - mae: 24.1390 - val_loss: 1212.1593 - val_mae: 23.8685 - learning_rate: 5.0000e-05\n",
      "Epoch 12/100\n",
      "\u001b[1m9232/9249\u001b[0m \u001b[32m━━━━━━━━━━━━━━━━━━━\u001b[0m\u001b[37m━\u001b[0m \u001b[1m0s\u001b[0m 2ms/step - loss: 1281.4565 - mae: 24.0595\n",
      "Epoch 12: val_loss did not improve from 1212.15930\n",
      "\u001b[1m9249/9249\u001b[0m \u001b[32m━━━━━━━━━━━━━━━━━━━━\u001b[0m\u001b[37m\u001b[0m \u001b[1m20s\u001b[0m 2ms/step - loss: 1281.4569 - mae: 24.0596 - val_loss: 1219.7532 - val_mae: 23.3367 - learning_rate: 5.0000e-05\n",
      "Epoch 13/100\n",
      "\u001b[1m9225/9249\u001b[0m \u001b[32m━━━━━━━━━━━━━━━━━━━\u001b[0m\u001b[37m━\u001b[0m \u001b[1m0s\u001b[0m 2ms/step - loss: 1269.2489 - mae: 23.9946\n",
      "Epoch 13: val_loss did not improve from 1212.15930\n",
      "\u001b[1m9249/9249\u001b[0m \u001b[32m━━━━━━━━━━━━━━━━━━━━\u001b[0m\u001b[37m\u001b[0m \u001b[1m20s\u001b[0m 2ms/step - loss: 1269.2821 - mae: 23.9950 - val_loss: 1214.6376 - val_mae: 23.7572 - learning_rate: 5.0000e-05\n",
      "Epoch 14/100\n",
      "\u001b[1m9249/9249\u001b[0m \u001b[32m━━━━━━━━━━━━━━━━━━━━\u001b[0m\u001b[37m\u001b[0m \u001b[1m0s\u001b[0m 2ms/step - loss: 1281.1642 - mae: 24.1246\n",
      "Epoch 14: val_loss did not improve from 1212.15930\n",
      "\u001b[1m9249/9249\u001b[0m \u001b[32m━━━━━━━━━━━━━━━━━━━━\u001b[0m\u001b[37m\u001b[0m \u001b[1m19s\u001b[0m 2ms/step - loss: 1281.1643 - mae: 24.1246 - val_loss: 1212.4436 - val_mae: 23.6504 - learning_rate: 5.0000e-05\n",
      "Epoch 15/100\n",
      "\u001b[1m9226/9249\u001b[0m \u001b[32m━━━━━━━━━━━━━━━━━━━\u001b[0m\u001b[37m━\u001b[0m \u001b[1m0s\u001b[0m 2ms/step - loss: 1273.7339 - mae: 24.0057\n",
      "Epoch 15: val_loss did not improve from 1212.15930\n",
      "\u001b[1m9249/9249\u001b[0m \u001b[32m━━━━━━━━━━━━━━━━━━━━\u001b[0m\u001b[37m\u001b[0m \u001b[1m19s\u001b[0m 2ms/step - loss: 1273.7545 - mae: 24.0060 - val_loss: 1215.4598 - val_mae: 24.1010 - learning_rate: 5.0000e-05\n",
      "Epoch 16/100\n",
      "\u001b[1m9237/9249\u001b[0m \u001b[32m━━━━━━━━━━━━━━━━━━━\u001b[0m\u001b[37m━\u001b[0m \u001b[1m0s\u001b[0m 2ms/step - loss: 1313.7098 - mae: 24.2370\n",
      "Epoch 16: ReduceLROnPlateau reducing learning rate to 2.499999936844688e-05.\n",
      "\n",
      "Epoch 16: val_loss did not improve from 1212.15930\n",
      "\u001b[1m9249/9249\u001b[0m \u001b[32m━━━━━━━━━━━━━━━━━━━━\u001b[0m\u001b[37m\u001b[0m \u001b[1m19s\u001b[0m 2ms/step - loss: 1313.6650 - mae: 24.2368 - val_loss: 1214.5430 - val_mae: 23.5522 - learning_rate: 5.0000e-05\n",
      "Epoch 17/100\n",
      "\u001b[1m9240/9249\u001b[0m \u001b[32m━━━━━━━━━━━━━━━━━━━\u001b[0m\u001b[37m━\u001b[0m \u001b[1m0s\u001b[0m 2ms/step - loss: 1255.6500 - mae: 23.9815\n",
      "Epoch 17: val_loss did not improve from 1212.15930\n",
      "\u001b[1m9249/9249\u001b[0m \u001b[32m━━━━━━━━━━━━━━━━━━━━\u001b[0m\u001b[37m\u001b[0m \u001b[1m19s\u001b[0m 2ms/step - loss: 1255.6793 - mae: 23.9817 - val_loss: 1212.8212 - val_mae: 23.7573 - learning_rate: 2.5000e-05\n",
      "Epoch 18/100\n",
      "\u001b[1m9236/9249\u001b[0m \u001b[32m━━━━━━━━━━━━━━━━━━━\u001b[0m\u001b[37m━\u001b[0m \u001b[1m0s\u001b[0m 2ms/step - loss: 1281.4854 - mae: 24.1261\n",
      "Epoch 18: val_loss did not improve from 1212.15930\n",
      "\u001b[1m9249/9249\u001b[0m \u001b[32m━━━━━━━━━━━━━━━━━━━━\u001b[0m\u001b[37m\u001b[0m \u001b[1m19s\u001b[0m 2ms/step - loss: 1281.4838 - mae: 24.1261 - val_loss: 1212.2798 - val_mae: 23.5509 - learning_rate: 2.5000e-05\n",
      "Epoch 19/100\n",
      "\u001b[1m9242/9249\u001b[0m \u001b[32m━━━━━━━━━━━━━━━━━━━\u001b[0m\u001b[37m━\u001b[0m \u001b[1m0s\u001b[0m 2ms/step - loss: 1267.9299 - mae: 24.0945\n",
      "Epoch 19: val_loss improved from 1212.15930 to 1211.10913, saving model to best_model.keras\n",
      "\u001b[1m9249/9249\u001b[0m \u001b[32m━━━━━━━━━━━━━━━━━━━━\u001b[0m\u001b[37m\u001b[0m \u001b[1m19s\u001b[0m 2ms/step - loss: 1267.9410 - mae: 24.0946 - val_loss: 1211.1091 - val_mae: 23.9299 - learning_rate: 2.5000e-05\n",
      "Epoch 20/100\n",
      "\u001b[1m9229/9249\u001b[0m \u001b[32m━━━━━━━━━━━━━━━━━━━\u001b[0m\u001b[37m━\u001b[0m \u001b[1m0s\u001b[0m 2ms/step - loss: 1274.8102 - mae: 24.0177\n",
      "Epoch 20: val_loss did not improve from 1211.10913\n",
      "\u001b[1m9249/9249\u001b[0m \u001b[32m━━━━━━━━━━━━━━━━━━━━\u001b[0m\u001b[37m\u001b[0m \u001b[1m19s\u001b[0m 2ms/step - loss: 1274.8212 - mae: 24.0178 - val_loss: 1211.5428 - val_mae: 23.6922 - learning_rate: 2.5000e-05\n",
      "Epoch 21/100\n",
      "\u001b[1m9247/9249\u001b[0m \u001b[32m━━━━━━━━━━━━━━━━━━━\u001b[0m\u001b[37m━\u001b[0m \u001b[1m0s\u001b[0m 2ms/step - loss: 1273.0221 - mae: 24.0928\n",
      "Epoch 21: val_loss improved from 1211.10913 to 1209.68091, saving model to best_model.keras\n",
      "\u001b[1m9249/9249\u001b[0m \u001b[32m━━━━━━━━━━━━━━━━━━━━\u001b[0m\u001b[37m\u001b[0m \u001b[1m19s\u001b[0m 2ms/step - loss: 1273.0240 - mae: 24.0928 - val_loss: 1209.6809 - val_mae: 23.6015 - learning_rate: 2.5000e-05\n",
      "Epoch 22/100\n",
      "\u001b[1m9237/9249\u001b[0m \u001b[32m━━━━━━━━━━━━━━━━━━━\u001b[0m\u001b[37m━\u001b[0m \u001b[1m0s\u001b[0m 2ms/step - loss: 1274.5387 - mae: 23.9776\n",
      "Epoch 22: val_loss improved from 1209.68091 to 1209.32056, saving model to best_model.keras\n",
      "\u001b[1m9249/9249\u001b[0m \u001b[32m━━━━━━━━━━━━━━━━━━━━\u001b[0m\u001b[37m\u001b[0m \u001b[1m19s\u001b[0m 2ms/step - loss: 1274.5470 - mae: 23.9777 - val_loss: 1209.3206 - val_mae: 23.7194 - learning_rate: 2.5000e-05\n",
      "Epoch 23/100\n",
      "\u001b[1m9233/9249\u001b[0m \u001b[32m━━━━━━━━━━━━━━━━━━━\u001b[0m\u001b[37m━\u001b[0m \u001b[1m0s\u001b[0m 2ms/step - loss: 1283.3037 - mae: 24.1719\n",
      "Epoch 23: val_loss did not improve from 1209.32056\n",
      "\u001b[1m9249/9249\u001b[0m \u001b[32m━━━━━━━━━━━━━━━━━━━━\u001b[0m\u001b[37m\u001b[0m \u001b[1m20s\u001b[0m 2ms/step - loss: 1283.2959 - mae: 24.1717 - val_loss: 1210.2695 - val_mae: 23.5048 - learning_rate: 2.5000e-05\n",
      "Epoch 24/100\n",
      "\u001b[1m9234/9249\u001b[0m \u001b[32m━━━━━━━━━━━━━━━━━━━\u001b[0m\u001b[37m━\u001b[0m \u001b[1m0s\u001b[0m 2ms/step - loss: 1263.3844 - mae: 23.9267\n",
      "Epoch 24: val_loss did not improve from 1209.32056\n",
      "\u001b[1m9249/9249\u001b[0m \u001b[32m━━━━━━━━━━━━━━━━━━━━\u001b[0m\u001b[37m\u001b[0m \u001b[1m19s\u001b[0m 2ms/step - loss: 1263.4126 - mae: 23.9270 - val_loss: 1210.1406 - val_mae: 23.5799 - learning_rate: 2.5000e-05\n",
      "Epoch 25/100\n",
      "\u001b[1m9243/9249\u001b[0m \u001b[32m━━━━━━━━━━━━━━━━━━━\u001b[0m\u001b[37m━\u001b[0m \u001b[1m0s\u001b[0m 2ms/step - loss: 1269.9375 - mae: 24.0296\n",
      "Epoch 25: val_loss did not improve from 1209.32056\n",
      "\u001b[1m9249/9249\u001b[0m \u001b[32m━━━━━━━━━━━━━━━━━━━━\u001b[0m\u001b[37m\u001b[0m \u001b[1m19s\u001b[0m 2ms/step - loss: 1269.9440 - mae: 24.0296 - val_loss: 1210.5367 - val_mae: 23.5298 - learning_rate: 2.5000e-05\n",
      "Epoch 26/100\n",
      "\u001b[1m9239/9249\u001b[0m \u001b[32m━━━━━━━━━━━━━━━━━━━\u001b[0m\u001b[37m━\u001b[0m \u001b[1m0s\u001b[0m 2ms/step - loss: 1280.5707 - mae: 24.1121\n",
      "Epoch 26: val_loss improved from 1209.32056 to 1208.47986, saving model to best_model.keras\n",
      "\u001b[1m9249/9249\u001b[0m \u001b[32m━━━━━━━━━━━━━━━━━━━━\u001b[0m\u001b[37m\u001b[0m \u001b[1m19s\u001b[0m 2ms/step - loss: 1280.5707 - mae: 24.1121 - val_loss: 1208.4799 - val_mae: 23.7363 - learning_rate: 2.5000e-05\n",
      "Epoch 27/100\n",
      "\u001b[1m9225/9249\u001b[0m \u001b[32m━━━━━━━━━━━━━━━━━━━\u001b[0m\u001b[37m━\u001b[0m \u001b[1m0s\u001b[0m 2ms/step - loss: 1300.5487 - mae: 24.2437\n",
      "Epoch 27: val_loss did not improve from 1208.47986\n",
      "\u001b[1m9249/9249\u001b[0m \u001b[32m━━━━━━━━━━━━━━━━━━━━\u001b[0m\u001b[37m\u001b[0m \u001b[1m19s\u001b[0m 2ms/step - loss: 1300.4862 - mae: 24.2432 - val_loss: 1208.5070 - val_mae: 23.6951 - learning_rate: 2.5000e-05\n",
      "Epoch 28/100\n",
      "\u001b[1m9230/9249\u001b[0m \u001b[32m━━━━━━━━━━━━━━━━━━━\u001b[0m\u001b[37m━\u001b[0m \u001b[1m0s\u001b[0m 2ms/step - loss: 1292.3654 - mae: 24.1247\n",
      "Epoch 28: val_loss improved from 1208.47986 to 1208.42273, saving model to best_model.keras\n",
      "\u001b[1m9249/9249\u001b[0m \u001b[32m━━━━━━━━━━━━━━━━━━━━\u001b[0m\u001b[37m\u001b[0m \u001b[1m19s\u001b[0m 2ms/step - loss: 1292.3374 - mae: 24.1246 - val_loss: 1208.4227 - val_mae: 23.5779 - learning_rate: 2.5000e-05\n",
      "Epoch 29/100\n",
      "\u001b[1m9249/9249\u001b[0m \u001b[32m━━━━━━━━━━━━━━━━━━━━\u001b[0m\u001b[37m\u001b[0m \u001b[1m0s\u001b[0m 2ms/step - loss: 1264.4109 - mae: 23.9814\n",
      "Epoch 29: val_loss improved from 1208.42273 to 1207.30127, saving model to best_model.keras\n",
      "\u001b[1m9249/9249\u001b[0m \u001b[32m━━━━━━━━━━━━━━━━━━━━\u001b[0m\u001b[37m\u001b[0m \u001b[1m19s\u001b[0m 2ms/step - loss: 1264.4125 - mae: 23.9814 - val_loss: 1207.3013 - val_mae: 23.6824 - learning_rate: 2.5000e-05\n",
      "Epoch 30/100\n",
      "\u001b[1m9241/9249\u001b[0m \u001b[32m━━━━━━━━━━━━━━━━━━━\u001b[0m\u001b[37m━\u001b[0m \u001b[1m0s\u001b[0m 2ms/step - loss: 1300.0525 - mae: 24.1680\n",
      "Epoch 30: val_loss did not improve from 1207.30127\n",
      "\u001b[1m9249/9249\u001b[0m \u001b[32m━━━━━━━━━━━━━━━━━━━━\u001b[0m\u001b[37m\u001b[0m \u001b[1m19s\u001b[0m 2ms/step - loss: 1300.0323 - mae: 24.1679 - val_loss: 1208.4600 - val_mae: 23.6035 - learning_rate: 2.5000e-05\n",
      "Epoch 31/100\n",
      "\u001b[1m9229/9249\u001b[0m \u001b[32m━━━━━━━━━━━━━━━━━━━\u001b[0m\u001b[37m━\u001b[0m \u001b[1m0s\u001b[0m 2ms/step - loss: 1274.4807 - mae: 24.1157\n",
      "Epoch 31: val_loss improved from 1207.30127 to 1207.10022, saving model to best_model.keras\n",
      "\u001b[1m9249/9249\u001b[0m \u001b[32m━━━━━━━━━━━━━━━━━━━━\u001b[0m\u001b[37m\u001b[0m \u001b[1m19s\u001b[0m 2ms/step - loss: 1274.4944 - mae: 24.1157 - val_loss: 1207.1002 - val_mae: 23.8029 - learning_rate: 2.5000e-05\n",
      "Epoch 32/100\n",
      "\u001b[1m9237/9249\u001b[0m \u001b[32m━━━━━━━━━━━━━━━━━━━\u001b[0m\u001b[37m━\u001b[0m \u001b[1m0s\u001b[0m 2ms/step - loss: 1298.2168 - mae: 24.1887\n",
      "Epoch 32: val_loss did not improve from 1207.10022\n",
      "\u001b[1m9249/9249\u001b[0m \u001b[32m━━━━━━━━━━━━━━━━━━━━\u001b[0m\u001b[37m\u001b[0m \u001b[1m19s\u001b[0m 2ms/step - loss: 1298.1919 - mae: 24.1885 - val_loss: 1207.6339 - val_mae: 23.8547 - learning_rate: 2.5000e-05\n",
      "Epoch 33/100\n",
      "\u001b[1m9229/9249\u001b[0m \u001b[32m━━━━━━━━━━━━━━━━━━━\u001b[0m\u001b[37m━\u001b[0m \u001b[1m0s\u001b[0m 2ms/step - loss: 1297.2845 - mae: 24.1360\n",
      "Epoch 33: val_loss did not improve from 1207.10022\n",
      "\u001b[1m9249/9249\u001b[0m \u001b[32m━━━━━━━━━━━━━━━━━━━━\u001b[0m\u001b[37m\u001b[0m \u001b[1m19s\u001b[0m 2ms/step - loss: 1297.2434 - mae: 24.1359 - val_loss: 1207.3820 - val_mae: 23.5957 - learning_rate: 2.5000e-05\n",
      "Epoch 34/100\n",
      "\u001b[1m9239/9249\u001b[0m \u001b[32m━━━━━━━━━━━━━━━━━━━\u001b[0m\u001b[37m━\u001b[0m \u001b[1m0s\u001b[0m 2ms/step - loss: 1267.8717 - mae: 24.0241\n",
      "Epoch 34: val_loss did not improve from 1207.10022\n",
      "\u001b[1m9249/9249\u001b[0m \u001b[32m━━━━━━━━━━━━━━━━━━━━\u001b[0m\u001b[37m\u001b[0m \u001b[1m19s\u001b[0m 2ms/step - loss: 1267.8861 - mae: 24.0241 - val_loss: 1207.2108 - val_mae: 23.8248 - learning_rate: 2.5000e-05\n",
      "Epoch 35/100\n",
      "\u001b[1m9238/9249\u001b[0m \u001b[32m━━━━━━━━━━━━━━━━━━━\u001b[0m\u001b[37m━\u001b[0m \u001b[1m0s\u001b[0m 2ms/step - loss: 1299.0558 - mae: 24.1337\n",
      "Epoch 35: val_loss did not improve from 1207.10022\n",
      "\u001b[1m9249/9249\u001b[0m \u001b[32m━━━━━━━━━━━━━━━━━━━━\u001b[0m\u001b[37m\u001b[0m \u001b[1m19s\u001b[0m 2ms/step - loss: 1299.0306 - mae: 24.1336 - val_loss: 1207.6483 - val_mae: 23.6155 - learning_rate: 2.5000e-05\n",
      "Epoch 36/100\n",
      "\u001b[1m9226/9249\u001b[0m \u001b[32m━━━━━━━━━━━━━━━━━━━\u001b[0m\u001b[37m━\u001b[0m \u001b[1m0s\u001b[0m 2ms/step - loss: 1277.5413 - mae: 24.0443\n",
      "Epoch 36: ReduceLROnPlateau reducing learning rate to 1.249999968422344e-05.\n",
      "\n",
      "Epoch 36: val_loss did not improve from 1207.10022\n",
      "\u001b[1m9249/9249\u001b[0m \u001b[32m━━━━━━━━━━━━━━━━━━━━\u001b[0m\u001b[37m\u001b[0m \u001b[1m19s\u001b[0m 2ms/step - loss: 1277.5476 - mae: 24.0443 - val_loss: 1207.5344 - val_mae: 23.6073 - learning_rate: 2.5000e-05\n",
      "Epoch 37/100\n",
      "\u001b[1m9238/9249\u001b[0m \u001b[32m━━━━━━━━━━━━━━━━━━━\u001b[0m\u001b[37m━\u001b[0m \u001b[1m0s\u001b[0m 2ms/step - loss: 1316.4187 - mae: 24.2958\n",
      "Epoch 37: val_loss did not improve from 1207.10022\n",
      "\u001b[1m9249/9249\u001b[0m \u001b[32m━━━━━━━━━━━━━━━━━━━━\u001b[0m\u001b[37m\u001b[0m \u001b[1m19s\u001b[0m 2ms/step - loss: 1316.3694 - mae: 24.2954 - val_loss: 1208.0706 - val_mae: 23.4672 - learning_rate: 1.2500e-05\n",
      "Epoch 38/100\n",
      "\u001b[1m9228/9249\u001b[0m \u001b[32m━━━━━━━━━━━━━━━━━━━\u001b[0m\u001b[37m━\u001b[0m \u001b[1m0s\u001b[0m 2ms/step - loss: 1280.0817 - mae: 24.0530\n",
      "Epoch 38: val_loss improved from 1207.10022 to 1206.64941, saving model to best_model.keras\n",
      "\u001b[1m9249/9249\u001b[0m \u001b[32m━━━━━━━━━━━━━━━━━━━━\u001b[0m\u001b[37m\u001b[0m \u001b[1m20s\u001b[0m 2ms/step - loss: 1280.0786 - mae: 24.0530 - val_loss: 1206.6494 - val_mae: 23.6939 - learning_rate: 1.2500e-05\n",
      "Epoch 39/100\n",
      "\u001b[1m9234/9249\u001b[0m \u001b[32m━━━━━━━━━━━━━━━━━━━\u001b[0m\u001b[37m━\u001b[0m \u001b[1m0s\u001b[0m 2ms/step - loss: 1301.7296 - mae: 24.1637\n",
      "Epoch 39: val_loss did not improve from 1206.64941\n",
      "\u001b[1m9249/9249\u001b[0m \u001b[32m━━━━━━━━━━━━━━━━━━━━\u001b[0m\u001b[37m\u001b[0m \u001b[1m19s\u001b[0m 2ms/step - loss: 1301.6921 - mae: 24.1635 - val_loss: 1207.1415 - val_mae: 23.5078 - learning_rate: 1.2500e-05\n",
      "Epoch 40/100\n",
      "\u001b[1m9248/9249\u001b[0m \u001b[32m━━━━━━━━━━━━━━━━━━━\u001b[0m\u001b[37m━\u001b[0m \u001b[1m0s\u001b[0m 2ms/step - loss: 1291.5264 - mae: 24.1069\n",
      "Epoch 40: val_loss did not improve from 1206.64941\n",
      "\u001b[1m9249/9249\u001b[0m \u001b[32m━━━━━━━━━━━━━━━━━━━━\u001b[0m\u001b[37m\u001b[0m \u001b[1m19s\u001b[0m 2ms/step - loss: 1291.5237 - mae: 24.1069 - val_loss: 1207.0264 - val_mae: 23.6526 - learning_rate: 1.2500e-05\n",
      "Epoch 41/100\n",
      "\u001b[1m9247/9249\u001b[0m \u001b[32m━━━━━━━━━━━━━━━━━━━\u001b[0m\u001b[37m━\u001b[0m \u001b[1m0s\u001b[0m 2ms/step - loss: 1301.0709 - mae: 24.1640\n",
      "Epoch 41: val_loss did not improve from 1206.64941\n",
      "\u001b[1m9249/9249\u001b[0m \u001b[32m━━━━━━━━━━━━━━━━━━━━\u001b[0m\u001b[37m\u001b[0m \u001b[1m19s\u001b[0m 2ms/step - loss: 1301.0638 - mae: 24.1640 - val_loss: 1208.6327 - val_mae: 23.4354 - learning_rate: 1.2500e-05\n",
      "Epoch 42/100\n",
      "\u001b[1m9241/9249\u001b[0m \u001b[32m━━━━━━━━━━━━━━━━━━━\u001b[0m\u001b[37m━\u001b[0m \u001b[1m0s\u001b[0m 2ms/step - loss: 1282.7667 - mae: 23.9824\n",
      "Epoch 42: val_loss did not improve from 1206.64941\n",
      "\u001b[1m9249/9249\u001b[0m \u001b[32m━━━━━━━━━━━━━━━━━━━━\u001b[0m\u001b[37m\u001b[0m \u001b[1m19s\u001b[0m 2ms/step - loss: 1282.7614 - mae: 23.9825 - val_loss: 1207.5062 - val_mae: 23.5392 - learning_rate: 1.2500e-05\n",
      "Epoch 43/100\n",
      "\u001b[1m9230/9249\u001b[0m \u001b[32m━━━━━━━━━━━━━━━━━━━\u001b[0m\u001b[37m━\u001b[0m \u001b[1m0s\u001b[0m 2ms/step - loss: 1245.6588 - mae: 23.8863\n",
      "Epoch 43: ReduceLROnPlateau reducing learning rate to 6.24999984211172e-06.\n",
      "\n",
      "Epoch 43: val_loss did not improve from 1206.64941\n",
      "\u001b[1m9249/9249\u001b[0m \u001b[32m━━━━━━━━━━━━━━━━━━━━\u001b[0m\u001b[37m\u001b[0m \u001b[1m19s\u001b[0m 2ms/step - loss: 1245.7300 - mae: 23.8866 - val_loss: 1208.1587 - val_mae: 23.4006 - learning_rate: 1.2500e-05\n",
      "Epoch 44/100\n",
      "\u001b[1m9238/9249\u001b[0m \u001b[32m━━━━━━━━━━━━━━━━━━━\u001b[0m\u001b[37m━\u001b[0m \u001b[1m0s\u001b[0m 2ms/step - loss: 1274.6057 - mae: 23.9514\n",
      "Epoch 44: val_loss improved from 1206.64941 to 1206.58350, saving model to best_model.keras\n",
      "\u001b[1m9249/9249\u001b[0m \u001b[32m━━━━━━━━━━━━━━━━━━━━\u001b[0m\u001b[37m\u001b[0m \u001b[1m19s\u001b[0m 2ms/step - loss: 1274.6102 - mae: 23.9515 - val_loss: 1206.5835 - val_mae: 23.6360 - learning_rate: 6.2500e-06\n",
      "Epoch 45/100\n",
      "\u001b[1m9228/9249\u001b[0m \u001b[32m━━━━━━━━━━━━━━━━━━━\u001b[0m\u001b[37m━\u001b[0m \u001b[1m0s\u001b[0m 2ms/step - loss: 1285.5486 - mae: 24.0972\n",
      "Epoch 45: val_loss did not improve from 1206.58350\n",
      "\u001b[1m9249/9249\u001b[0m \u001b[32m━━━━━━━━━━━━━━━━━━━━\u001b[0m\u001b[37m\u001b[0m \u001b[1m19s\u001b[0m 2ms/step - loss: 1285.5288 - mae: 24.0970 - val_loss: 1206.8845 - val_mae: 23.5754 - learning_rate: 6.2500e-06\n",
      "Epoch 46/100\n",
      "\u001b[1m9237/9249\u001b[0m \u001b[32m━━━━━━━━━━━━━━━━━━━\u001b[0m\u001b[37m━\u001b[0m \u001b[1m0s\u001b[0m 2ms/step - loss: 1264.1487 - mae: 24.0116\n",
      "Epoch 46: val_loss did not improve from 1206.58350\n",
      "\u001b[1m9249/9249\u001b[0m \u001b[32m━━━━━━━━━━━━━━━━━━━━\u001b[0m\u001b[37m\u001b[0m \u001b[1m19s\u001b[0m 2ms/step - loss: 1264.1683 - mae: 24.0116 - val_loss: 1207.5735 - val_mae: 23.4352 - learning_rate: 6.2500e-06\n",
      "Epoch 47/100\n",
      "\u001b[1m9234/9249\u001b[0m \u001b[32m━━━━━━━━━━━━━━━━━━━\u001b[0m\u001b[37m━\u001b[0m \u001b[1m0s\u001b[0m 2ms/step - loss: 1287.6234 - mae: 24.0227\n",
      "Epoch 47: val_loss improved from 1206.58350 to 1205.83044, saving model to best_model.keras\n",
      "\u001b[1m9249/9249\u001b[0m \u001b[32m━━━━━━━━━━━━━━━━━━━━\u001b[0m\u001b[37m\u001b[0m \u001b[1m19s\u001b[0m 2ms/step - loss: 1287.6066 - mae: 24.0227 - val_loss: 1205.8304 - val_mae: 23.6136 - learning_rate: 6.2500e-06\n",
      "Epoch 48/100\n",
      "\u001b[1m9242/9249\u001b[0m \u001b[32m━━━━━━━━━━━━━━━━━━━\u001b[0m\u001b[37m━\u001b[0m \u001b[1m0s\u001b[0m 2ms/step - loss: 1270.1959 - mae: 23.9267\n",
      "Epoch 48: val_loss did not improve from 1205.83044\n",
      "\u001b[1m9249/9249\u001b[0m \u001b[32m━━━━━━━━━━━━━━━━━━━━\u001b[0m\u001b[37m\u001b[0m \u001b[1m19s\u001b[0m 2ms/step - loss: 1270.2010 - mae: 23.9267 - val_loss: 1205.9303 - val_mae: 23.5309 - learning_rate: 6.2500e-06\n",
      "Epoch 49/100\n",
      "\u001b[1m9229/9249\u001b[0m \u001b[32m━━━━━━━━━━━━━━━━━━━\u001b[0m\u001b[37m━\u001b[0m \u001b[1m0s\u001b[0m 2ms/step - loss: 1265.1475 - mae: 23.9630\n",
      "Epoch 49: val_loss did not improve from 1205.83044\n",
      "\u001b[1m9249/9249\u001b[0m \u001b[32m━━━━━━━━━━━━━━━━━━━━\u001b[0m\u001b[37m\u001b[0m \u001b[1m19s\u001b[0m 2ms/step - loss: 1265.1747 - mae: 23.9631 - val_loss: 1205.9945 - val_mae: 23.4982 - learning_rate: 6.2500e-06\n",
      "Epoch 50/100\n",
      "\u001b[1m9247/9249\u001b[0m \u001b[32m━━━━━━━━━━━━━━━━━━━\u001b[0m\u001b[37m━\u001b[0m \u001b[1m0s\u001b[0m 2ms/step - loss: 1267.7399 - mae: 23.9426\n",
      "Epoch 50: val_loss did not improve from 1205.83044\n",
      "\u001b[1m9249/9249\u001b[0m \u001b[32m━━━━━━━━━━━━━━━━━━━━\u001b[0m\u001b[37m\u001b[0m \u001b[1m19s\u001b[0m 2ms/step - loss: 1267.7428 - mae: 23.9426 - val_loss: 1205.8547 - val_mae: 23.4740 - learning_rate: 6.2500e-06\n",
      "Epoch 51/100\n",
      "\u001b[1m9226/9249\u001b[0m \u001b[32m━━━━━━━━━━━━━━━━━━━\u001b[0m\u001b[37m━\u001b[0m \u001b[1m0s\u001b[0m 2ms/step - loss: 1275.5596 - mae: 23.9972\n",
      "Epoch 51: val_loss improved from 1205.83044 to 1205.06226, saving model to best_model.keras\n",
      "\u001b[1m9249/9249\u001b[0m \u001b[32m━━━━━━━━━━━━━━━━━━━━\u001b[0m\u001b[37m\u001b[0m \u001b[1m19s\u001b[0m 2ms/step - loss: 1275.5574 - mae: 23.9971 - val_loss: 1205.0623 - val_mae: 23.7514 - learning_rate: 6.2500e-06\n",
      "Epoch 52/100\n",
      "\u001b[1m9246/9249\u001b[0m \u001b[32m━━━━━━━━━━━━━━━━━━━\u001b[0m\u001b[37m━\u001b[0m \u001b[1m0s\u001b[0m 2ms/step - loss: 1277.5465 - mae: 23.9320\n",
      "Epoch 52: val_loss did not improve from 1205.06226\n",
      "\u001b[1m9249/9249\u001b[0m \u001b[32m━━━━━━━━━━━━━━━━━━━━\u001b[0m\u001b[37m\u001b[0m \u001b[1m19s\u001b[0m 2ms/step - loss: 1277.5464 - mae: 23.9320 - val_loss: 1205.8075 - val_mae: 23.5247 - learning_rate: 6.2500e-06\n",
      "Epoch 53/100\n",
      "\u001b[1m9228/9249\u001b[0m \u001b[32m━━━━━━━━━━━━━━━━━━━\u001b[0m\u001b[37m━\u001b[0m \u001b[1m0s\u001b[0m 2ms/step - loss: 1302.4508 - mae: 24.0994\n",
      "Epoch 53: val_loss did not improve from 1205.06226\n",
      "\u001b[1m9249/9249\u001b[0m \u001b[32m━━━━━━━━━━━━━━━━━━━━\u001b[0m\u001b[37m\u001b[0m \u001b[1m19s\u001b[0m 2ms/step - loss: 1302.3956 - mae: 24.0992 - val_loss: 1205.1770 - val_mae: 23.5468 - learning_rate: 6.2500e-06\n",
      "Epoch 54/100\n",
      "\u001b[1m9246/9249\u001b[0m \u001b[32m━━━━━━━━━━━━━━━━━━━\u001b[0m\u001b[37m━\u001b[0m \u001b[1m0s\u001b[0m 2ms/step - loss: 1280.4562 - mae: 24.0323\n",
      "Epoch 54: val_loss did not improve from 1205.06226\n",
      "\u001b[1m9249/9249\u001b[0m \u001b[32m━━━━━━━━━━━━━━━━━━━━\u001b[0m\u001b[37m\u001b[0m \u001b[1m19s\u001b[0m 2ms/step - loss: 1280.4548 - mae: 24.0323 - val_loss: 1205.4388 - val_mae: 23.5889 - learning_rate: 6.2500e-06\n",
      "Epoch 55/100\n",
      "\u001b[1m9244/9249\u001b[0m \u001b[32m━━━━━━━━━━━━━━━━━━━\u001b[0m\u001b[37m━\u001b[0m \u001b[1m0s\u001b[0m 2ms/step - loss: 1290.6824 - mae: 24.0738\n",
      "Epoch 55: val_loss did not improve from 1205.06226\n",
      "\u001b[1m9249/9249\u001b[0m \u001b[32m━━━━━━━━━━━━━━━━━━━━\u001b[0m\u001b[37m\u001b[0m \u001b[1m19s\u001b[0m 2ms/step - loss: 1290.6740 - mae: 24.0738 - val_loss: 1205.2795 - val_mae: 23.5708 - learning_rate: 6.2500e-06\n",
      "Epoch 56/100\n",
      "\u001b[1m9225/9249\u001b[0m \u001b[32m━━━━━━━━━━━━━━━━━━━\u001b[0m\u001b[37m━\u001b[0m \u001b[1m0s\u001b[0m 2ms/step - loss: 1274.2339 - mae: 23.9680\n",
      "Epoch 56: ReduceLROnPlateau reducing learning rate to 3.12499992105586e-06.\n",
      "\n",
      "Epoch 56: val_loss did not improve from 1205.06226\n",
      "\u001b[1m9249/9249\u001b[0m \u001b[32m━━━━━━━━━━━━━━━━━━━━\u001b[0m\u001b[37m\u001b[0m \u001b[1m19s\u001b[0m 2ms/step - loss: 1274.2429 - mae: 23.9681 - val_loss: 1205.1248 - val_mae: 23.6004 - learning_rate: 6.2500e-06\n",
      "Epoch 57/100\n",
      "\u001b[1m9226/9249\u001b[0m \u001b[32m━━━━━━━━━━━━━━━━━━━\u001b[0m\u001b[37m━\u001b[0m \u001b[1m0s\u001b[0m 2ms/step - loss: 1286.7968 - mae: 24.0175\n",
      "Epoch 57: val_loss did not improve from 1205.06226\n",
      "\u001b[1m9249/9249\u001b[0m \u001b[32m━━━━━━━━━━━━━━━━━━━━\u001b[0m\u001b[37m\u001b[0m \u001b[1m19s\u001b[0m 2ms/step - loss: 1286.7733 - mae: 24.0174 - val_loss: 1205.1328 - val_mae: 23.5990 - learning_rate: 3.1250e-06\n",
      "Epoch 58/100\n",
      "\u001b[1m9240/9249\u001b[0m \u001b[32m━━━━━━━━━━━━━━━━━━━\u001b[0m\u001b[37m━\u001b[0m \u001b[1m0s\u001b[0m 2ms/step - loss: 1285.1211 - mae: 24.0858\n",
      "Epoch 58: val_loss did not improve from 1205.06226\n",
      "\u001b[1m9249/9249\u001b[0m \u001b[32m━━━━━━━━━━━━━━━━━━━━\u001b[0m\u001b[37m\u001b[0m \u001b[1m19s\u001b[0m 2ms/step - loss: 1285.1125 - mae: 24.0857 - val_loss: 1205.3516 - val_mae: 23.5380 - learning_rate: 3.1250e-06\n",
      "Epoch 59/100\n",
      "\u001b[1m9228/9249\u001b[0m \u001b[32m━━━━━━━━━━━━━━━━━━━\u001b[0m\u001b[37m━\u001b[0m \u001b[1m0s\u001b[0m 2ms/step - loss: 1278.9036 - mae: 24.0087\n",
      "Epoch 59: val_loss did not improve from 1205.06226\n",
      "\u001b[1m9249/9249\u001b[0m \u001b[32m━━━━━━━━━━━━━━━━━━━━\u001b[0m\u001b[37m\u001b[0m \u001b[1m19s\u001b[0m 2ms/step - loss: 1278.9009 - mae: 24.0086 - val_loss: 1205.1649 - val_mae: 23.5651 - learning_rate: 3.1250e-06\n",
      "Epoch 60/100\n",
      "\u001b[1m9236/9249\u001b[0m \u001b[32m━━━━━━━━━━━━━━━━━━━\u001b[0m\u001b[37m━\u001b[0m \u001b[1m0s\u001b[0m 2ms/step - loss: 1289.6643 - mae: 24.0326\n",
      "Epoch 60: val_loss did not improve from 1205.06226\n",
      "\u001b[1m9249/9249\u001b[0m \u001b[32m━━━━━━━━━━━━━━━━━━━━\u001b[0m\u001b[37m\u001b[0m \u001b[1m19s\u001b[0m 2ms/step - loss: 1289.6416 - mae: 24.0325 - val_loss: 1205.6952 - val_mae: 23.5219 - learning_rate: 3.1250e-06\n",
      "Epoch 61/100\n",
      "\u001b[1m9247/9249\u001b[0m \u001b[32m━━━━━━━━━━━━━━━━━━━\u001b[0m\u001b[37m━\u001b[0m \u001b[1m0s\u001b[0m 2ms/step - loss: 1310.8860 - mae: 24.0602\n",
      "Epoch 61: ReduceLROnPlateau reducing learning rate to 1.56249996052793e-06.\n",
      "\n",
      "Epoch 61: val_loss did not improve from 1205.06226\n",
      "\u001b[1m9249/9249\u001b[0m \u001b[32m━━━━━━━━━━━━━━━━━━━━\u001b[0m\u001b[37m\u001b[0m \u001b[1m20s\u001b[0m 2ms/step - loss: 1310.8746 - mae: 24.0602 - val_loss: 1205.2335 - val_mae: 23.6220 - learning_rate: 3.1250e-06\n",
      "Epoch 62/100\n",
      "\u001b[1m9242/9249\u001b[0m \u001b[32m━━━━━━━━━━━━━━━━━━━\u001b[0m\u001b[37m━\u001b[0m \u001b[1m0s\u001b[0m 2ms/step - loss: 1289.6221 - mae: 24.0991\n",
      "Epoch 62: val_loss did not improve from 1205.06226\n",
      "\u001b[1m9249/9249\u001b[0m \u001b[32m━━━━━━━━━━━━━━━━━━━━\u001b[0m\u001b[37m\u001b[0m \u001b[1m20s\u001b[0m 2ms/step - loss: 1289.6130 - mae: 24.0991 - val_loss: 1205.4003 - val_mae: 23.5811 - learning_rate: 1.5625e-06\n",
      "Epoch 63/100\n",
      "\u001b[1m9245/9249\u001b[0m \u001b[32m━━━━━━━━━━━━━━━━━━━\u001b[0m\u001b[37m━\u001b[0m \u001b[1m0s\u001b[0m 2ms/step - loss: 1285.7068 - mae: 23.9644\n",
      "Epoch 63: val_loss did not improve from 1205.06226\n",
      "\u001b[1m9249/9249\u001b[0m \u001b[32m━━━━━━━━━━━━━━━━━━━━\u001b[0m\u001b[37m\u001b[0m \u001b[1m20s\u001b[0m 2ms/step - loss: 1285.7020 - mae: 23.9644 - val_loss: 1205.2729 - val_mae: 23.6276 - learning_rate: 1.5625e-06\n",
      "Epoch 64/100\n",
      "\u001b[1m9241/9249\u001b[0m \u001b[32m━━━━━━━━━━━━━━━━━━━\u001b[0m\u001b[37m━\u001b[0m \u001b[1m0s\u001b[0m 2ms/step - loss: 1279.1031 - mae: 24.0425\n",
      "Epoch 64: val_loss did not improve from 1205.06226\n",
      "\u001b[1m9249/9249\u001b[0m \u001b[32m━━━━━━━━━━━━━━━━━━━━\u001b[0m\u001b[37m\u001b[0m \u001b[1m19s\u001b[0m 2ms/step - loss: 1279.1014 - mae: 24.0425 - val_loss: 1205.8358 - val_mae: 23.4993 - learning_rate: 1.5625e-06\n",
      "Epoch 65/100\n",
      "\u001b[1m9249/9249\u001b[0m \u001b[32m━━━━━━━━━━━━━━━━━━━━\u001b[0m\u001b[37m\u001b[0m \u001b[1m0s\u001b[0m 2ms/step - loss: 1274.2645 - mae: 23.9770\n",
      "Epoch 65: val_loss did not improve from 1205.06226\n",
      "\u001b[1m9249/9249\u001b[0m \u001b[32m━━━━━━━━━━━━━━━━━━━━\u001b[0m\u001b[37m\u001b[0m \u001b[1m19s\u001b[0m 2ms/step - loss: 1274.2646 - mae: 23.9770 - val_loss: 1205.3301 - val_mae: 23.6076 - learning_rate: 1.5625e-06\n",
      "Epoch 66/100\n",
      "\u001b[1m9234/9249\u001b[0m \u001b[32m━━━━━━━━━━━━━━━━━━━\u001b[0m\u001b[37m━\u001b[0m \u001b[1m0s\u001b[0m 2ms/step - loss: 1269.8524 - mae: 24.0130\n",
      "Epoch 66: ReduceLROnPlateau reducing learning rate to 1e-06.\n",
      "\n",
      "Epoch 66: val_loss did not improve from 1205.06226\n",
      "\u001b[1m9249/9249\u001b[0m \u001b[32m━━━━━━━━━━━━━━━━━━━━\u001b[0m\u001b[37m\u001b[0m \u001b[1m19s\u001b[0m 2ms/step - loss: 1269.8666 - mae: 24.0130 - val_loss: 1205.2357 - val_mae: 23.6264 - learning_rate: 1.5625e-06\n",
      "Epoch 67/100\n",
      "\u001b[1m9240/9249\u001b[0m \u001b[32m━━━━━━━━━━━━━━━━━━━\u001b[0m\u001b[37m━\u001b[0m \u001b[1m0s\u001b[0m 2ms/step - loss: 1310.1467 - mae: 24.2020\n",
      "Epoch 67: val_loss did not improve from 1205.06226\n",
      "\u001b[1m9249/9249\u001b[0m \u001b[32m━━━━━━━━━━━━━━━━━━━━\u001b[0m\u001b[37m\u001b[0m \u001b[1m19s\u001b[0m 2ms/step - loss: 1310.1115 - mae: 24.2018 - val_loss: 1205.7653 - val_mae: 23.5281 - learning_rate: 1.0000e-06\n",
      "Epoch 68/100\n",
      "\u001b[1m9234/9249\u001b[0m \u001b[32m━━━━━━━━━━━━━━━━━━━\u001b[0m\u001b[37m━\u001b[0m \u001b[1m0s\u001b[0m 2ms/step - loss: 1270.0109 - mae: 23.9171\n",
      "Epoch 68: val_loss did not improve from 1205.06226\n",
      "\u001b[1m9249/9249\u001b[0m \u001b[32m━━━━━━━━━━━━━━━━━━━━\u001b[0m\u001b[37m\u001b[0m \u001b[1m19s\u001b[0m 2ms/step - loss: 1270.0237 - mae: 23.9172 - val_loss: 1205.5591 - val_mae: 23.5618 - learning_rate: 1.0000e-06\n",
      "Epoch 69/100\n",
      "\u001b[1m9228/9249\u001b[0m \u001b[32m━━━━━━━━━━━━━━━━━━━\u001b[0m\u001b[37m━\u001b[0m \u001b[1m0s\u001b[0m 2ms/step - loss: 1269.0239 - mae: 23.9263\n",
      "Epoch 69: val_loss did not improve from 1205.06226\n",
      "\u001b[1m9249/9249\u001b[0m \u001b[32m━━━━━━━━━━━━━━━━━━━━\u001b[0m\u001b[37m\u001b[0m \u001b[1m19s\u001b[0m 2ms/step - loss: 1269.0458 - mae: 23.9264 - val_loss: 1205.5645 - val_mae: 23.5558 - learning_rate: 1.0000e-06\n",
      "Epoch 70/100\n",
      "\u001b[1m9225/9249\u001b[0m \u001b[32m━━━━━━━━━━━━━━━━━━━\u001b[0m\u001b[37m━\u001b[0m \u001b[1m0s\u001b[0m 2ms/step - loss: 1297.4354 - mae: 24.0383\n",
      "Epoch 70: val_loss did not improve from 1205.06226\n",
      "\u001b[1m9249/9249\u001b[0m \u001b[32m━━━━━━━━━━━━━━━━━━━━\u001b[0m\u001b[37m\u001b[0m \u001b[1m19s\u001b[0m 2ms/step - loss: 1297.3790 - mae: 24.0381 - val_loss: 1205.5503 - val_mae: 23.5547 - learning_rate: 1.0000e-06\n",
      "Epoch 71/100\n",
      "\u001b[1m9240/9249\u001b[0m \u001b[32m━━━━━━━━━━━━━━━━━━━\u001b[0m\u001b[37m━\u001b[0m \u001b[1m0s\u001b[0m 2ms/step - loss: 1289.4567 - mae: 23.9703\n",
      "Epoch 71: val_loss did not improve from 1205.06226\n",
      "\u001b[1m9249/9249\u001b[0m \u001b[32m━━━━━━━━━━━━━━━━━━━━\u001b[0m\u001b[37m\u001b[0m \u001b[1m19s\u001b[0m 2ms/step - loss: 1289.4431 - mae: 23.9703 - val_loss: 1205.3541 - val_mae: 23.6067 - learning_rate: 1.0000e-06\n",
      "Epoch 72/100\n",
      "\u001b[1m9244/9249\u001b[0m \u001b[32m━━━━━━━━━━━━━━━━━━━\u001b[0m\u001b[37m━\u001b[0m \u001b[1m0s\u001b[0m 2ms/step - loss: 1258.8594 - mae: 23.9215\n",
      "Epoch 72: val_loss did not improve from 1205.06226\n",
      "\u001b[1m9249/9249\u001b[0m \u001b[32m━━━━━━━━━━━━━━━━━━━━\u001b[0m\u001b[37m\u001b[0m \u001b[1m19s\u001b[0m 2ms/step - loss: 1258.8710 - mae: 23.9215 - val_loss: 1205.4794 - val_mae: 23.5776 - learning_rate: 1.0000e-06\n",
      "Epoch 73/100\n",
      "\u001b[1m9235/9249\u001b[0m \u001b[32m━━━━━━━━━━━━━━━━━━━\u001b[0m\u001b[37m━\u001b[0m \u001b[1m0s\u001b[0m 2ms/step - loss: 1273.2216 - mae: 23.9859\n",
      "Epoch 73: val_loss did not improve from 1205.06226\n",
      "\u001b[1m9249/9249\u001b[0m \u001b[32m━━━━━━━━━━━━━━━━━━━━\u001b[0m\u001b[37m\u001b[0m \u001b[1m19s\u001b[0m 2ms/step - loss: 1273.2303 - mae: 23.9860 - val_loss: 1205.5831 - val_mae: 23.5477 - learning_rate: 1.0000e-06\n",
      "Epoch 74/100\n",
      "\u001b[1m9223/9249\u001b[0m \u001b[32m━━━━━━━━━━━━━━━━━━━\u001b[0m\u001b[37m━\u001b[0m \u001b[1m0s\u001b[0m 2ms/step - loss: 1297.2180 - mae: 24.0217\n",
      "Epoch 74: val_loss did not improve from 1205.06226\n",
      "\u001b[1m9249/9249\u001b[0m \u001b[32m━━━━━━━━━━━━━━━━━━━━\u001b[0m\u001b[37m\u001b[0m \u001b[1m19s\u001b[0m 2ms/step - loss: 1297.1616 - mae: 24.0216 - val_loss: 1205.3785 - val_mae: 23.5824 - learning_rate: 1.0000e-06\n",
      "Epoch 75/100\n",
      "\u001b[1m9236/9249\u001b[0m \u001b[32m━━━━━━━━━━━━━━━━━━━\u001b[0m\u001b[37m━\u001b[0m \u001b[1m0s\u001b[0m 2ms/step - loss: 1344.4868 - mae: 24.2016\n",
      "Epoch 75: val_loss did not improve from 1205.06226\n",
      "\u001b[1m9249/9249\u001b[0m \u001b[32m━━━━━━━━━━━━━━━━━━━━\u001b[0m\u001b[37m\u001b[0m \u001b[1m19s\u001b[0m 2ms/step - loss: 1344.3843 - mae: 24.2013 - val_loss: 1205.6458 - val_mae: 23.5404 - learning_rate: 1.0000e-06\n",
      "Epoch 76/100\n",
      "\u001b[1m9239/9249\u001b[0m \u001b[32m━━━━━━━━━━━━━━━━━━━\u001b[0m\u001b[37m━\u001b[0m \u001b[1m0s\u001b[0m 2ms/step - loss: 1291.3286 - mae: 24.0716\n",
      "Epoch 76: val_loss did not improve from 1205.06226\n",
      "\u001b[1m9249/9249\u001b[0m \u001b[32m━━━━━━━━━━━━━━━━━━━━\u001b[0m\u001b[37m\u001b[0m \u001b[1m20s\u001b[0m 2ms/step - loss: 1291.3116 - mae: 24.0714 - val_loss: 1205.5446 - val_mae: 23.5553 - learning_rate: 1.0000e-06\n",
      "Epoch 77/100\n",
      "\u001b[1m9247/9249\u001b[0m \u001b[32m━━━━━━━━━━━━━━━━━━━\u001b[0m\u001b[37m━\u001b[0m \u001b[1m0s\u001b[0m 2ms/step - loss: 1286.6437 - mae: 24.0490\n",
      "Epoch 77: val_loss did not improve from 1205.06226\n",
      "\u001b[1m9249/9249\u001b[0m \u001b[32m━━━━━━━━━━━━━━━━━━━━\u001b[0m\u001b[37m\u001b[0m \u001b[1m20s\u001b[0m 2ms/step - loss: 1286.6405 - mae: 24.0490 - val_loss: 1205.5408 - val_mae: 23.5443 - learning_rate: 1.0000e-06\n",
      "Epoch 78/100\n",
      "\u001b[1m9232/9249\u001b[0m \u001b[32m━━━━━━━━━━━━━━━━━━━\u001b[0m\u001b[37m━\u001b[0m \u001b[1m0s\u001b[0m 2ms/step - loss: 1304.3790 - mae: 24.1081\n",
      "Epoch 78: val_loss did not improve from 1205.06226\n",
      "\u001b[1m9249/9249\u001b[0m \u001b[32m━━━━━━━━━━━━━━━━━━━━\u001b[0m\u001b[37m\u001b[0m \u001b[1m21s\u001b[0m 2ms/step - loss: 1304.3297 - mae: 24.1079 - val_loss: 1205.7354 - val_mae: 23.5150 - learning_rate: 1.0000e-06\n",
      "Epoch 79/100\n",
      "\u001b[1m9229/9249\u001b[0m \u001b[32m━━━━━━━━━━━━━━━━━━━\u001b[0m\u001b[37m━\u001b[0m \u001b[1m0s\u001b[0m 2ms/step - loss: 1293.0988 - mae: 24.0808\n",
      "Epoch 79: val_loss did not improve from 1205.06226\n",
      "\u001b[1m9249/9249\u001b[0m \u001b[32m━━━━━━━━━━━━━━━━━━━━\u001b[0m\u001b[37m\u001b[0m \u001b[1m21s\u001b[0m 2ms/step - loss: 1293.0627 - mae: 24.0806 - val_loss: 1205.6001 - val_mae: 23.5304 - learning_rate: 1.0000e-06\n",
      "Epoch 80/100\n",
      "\u001b[1m9229/9249\u001b[0m \u001b[32m━━━━━━━━━━━━━━━━━━━\u001b[0m\u001b[37m━\u001b[0m \u001b[1m0s\u001b[0m 2ms/step - loss: 1286.2692 - mae: 24.0939\n",
      "Epoch 80: val_loss did not improve from 1205.06226\n",
      "\u001b[1m9249/9249\u001b[0m \u001b[32m━━━━━━━━━━━━━━━━━━━━\u001b[0m\u001b[37m\u001b[0m \u001b[1m21s\u001b[0m 2ms/step - loss: 1286.2466 - mae: 24.0937 - val_loss: 1205.4290 - val_mae: 23.5643 - learning_rate: 1.0000e-06\n",
      "Epoch 81/100\n",
      "\u001b[1m9234/9249\u001b[0m \u001b[32m━━━━━━━━━━━━━━━━━━━\u001b[0m\u001b[37m━\u001b[0m \u001b[1m0s\u001b[0m 2ms/step - loss: 1312.0278 - mae: 24.1039\n",
      "Epoch 81: val_loss did not improve from 1205.06226\n",
      "\u001b[1m9249/9249\u001b[0m \u001b[32m━━━━━━━━━━━━━━━━━━━━\u001b[0m\u001b[37m\u001b[0m \u001b[1m21s\u001b[0m 2ms/step - loss: 1311.9666 - mae: 24.1037 - val_loss: 1205.5927 - val_mae: 23.5202 - learning_rate: 1.0000e-06\n",
      "Epoch 82/100\n",
      "\u001b[1m9229/9249\u001b[0m \u001b[32m━━━━━━━━━━━━━━━━━━━\u001b[0m\u001b[37m━\u001b[0m \u001b[1m0s\u001b[0m 2ms/step - loss: 1269.9219 - mae: 23.8978\n",
      "Epoch 82: val_loss did not improve from 1205.06226\n",
      "\u001b[1m9249/9249\u001b[0m \u001b[32m━━━━━━━━━━━━━━━━━━━━\u001b[0m\u001b[37m\u001b[0m \u001b[1m21s\u001b[0m 2ms/step - loss: 1269.9329 - mae: 23.8980 - val_loss: 1205.2614 - val_mae: 23.5784 - learning_rate: 1.0000e-06\n",
      "Epoch 83/100\n",
      "\u001b[1m9230/9249\u001b[0m \u001b[32m━━━━━━━━━━━━━━━━━━━\u001b[0m\u001b[37m━\u001b[0m \u001b[1m0s\u001b[0m 2ms/step - loss: 1274.1486 - mae: 23.9528\n",
      "Epoch 83: val_loss did not improve from 1205.06226\n",
      "\u001b[1m9249/9249\u001b[0m \u001b[32m━━━━━━━━━━━━━━━━━━━━\u001b[0m\u001b[37m\u001b[0m \u001b[1m20s\u001b[0m 2ms/step - loss: 1274.1549 - mae: 23.9529 - val_loss: 1205.2012 - val_mae: 23.5841 - learning_rate: 1.0000e-06\n",
      "Epoch 84/100\n",
      "\u001b[1m9246/9249\u001b[0m \u001b[32m━━━━━━━━━━━━━━━━━━━\u001b[0m\u001b[37m━\u001b[0m \u001b[1m0s\u001b[0m 2ms/step - loss: 1299.0253 - mae: 24.0469\n",
      "Epoch 84: val_loss did not improve from 1205.06226\n",
      "\u001b[1m9249/9249\u001b[0m \u001b[32m━━━━━━━━━━━━━━━━━━━━\u001b[0m\u001b[37m\u001b[0m \u001b[1m20s\u001b[0m 2ms/step - loss: 1299.0161 - mae: 24.0469 - val_loss: 1205.1226 - val_mae: 23.5697 - learning_rate: 1.0000e-06\n",
      "Epoch 85/100\n",
      "\u001b[1m9231/9249\u001b[0m \u001b[32m━━━━━━━━━━━━━━━━━━━\u001b[0m\u001b[37m━\u001b[0m \u001b[1m0s\u001b[0m 2ms/step - loss: 1277.1188 - mae: 23.9766\n",
      "Epoch 85: val_loss did not improve from 1205.06226\n",
      "\u001b[1m9249/9249\u001b[0m \u001b[32m━━━━━━━━━━━━━━━━━━━━\u001b[0m\u001b[37m\u001b[0m \u001b[1m21s\u001b[0m 2ms/step - loss: 1277.1193 - mae: 23.9767 - val_loss: 1205.2732 - val_mae: 23.5410 - learning_rate: 1.0000e-06\n",
      "Epoch 86/100\n",
      "\u001b[1m9228/9249\u001b[0m \u001b[32m━━━━━━━━━━━━━━━━━━━\u001b[0m\u001b[37m━\u001b[0m \u001b[1m0s\u001b[0m 2ms/step - loss: 1274.2094 - mae: 23.9165\n",
      "Epoch 86: val_loss improved from 1205.06226 to 1204.99927, saving model to best_model.keras\n",
      "\u001b[1m9249/9249\u001b[0m \u001b[32m━━━━━━━━━━━━━━━━━━━━\u001b[0m\u001b[37m\u001b[0m \u001b[1m20s\u001b[0m 2ms/step - loss: 1274.2164 - mae: 23.9166 - val_loss: 1204.9993 - val_mae: 23.6036 - learning_rate: 1.0000e-06\n",
      "Epoch 87/100\n",
      "\u001b[1m9236/9249\u001b[0m \u001b[32m━━━━━━━━━━━━━━━━━━━\u001b[0m\u001b[37m━\u001b[0m \u001b[1m0s\u001b[0m 2ms/step - loss: 1267.9254 - mae: 24.0540\n",
      "Epoch 87: val_loss improved from 1204.99927 to 1204.89771, saving model to best_model.keras\n",
      "\u001b[1m9249/9249\u001b[0m \u001b[32m━━━━━━━━━━━━━━━━━━━━\u001b[0m\u001b[37m\u001b[0m \u001b[1m20s\u001b[0m 2ms/step - loss: 1267.9384 - mae: 24.0539 - val_loss: 1204.8977 - val_mae: 23.5944 - learning_rate: 1.0000e-06\n",
      "Epoch 88/100\n",
      "\u001b[1m9229/9249\u001b[0m \u001b[32m━━━━━━━━━━━━━━━━━━━\u001b[0m\u001b[37m━\u001b[0m \u001b[1m0s\u001b[0m 2ms/step - loss: 1261.4988 - mae: 24.0031\n",
      "Epoch 88: val_loss did not improve from 1204.89771\n",
      "\u001b[1m9249/9249\u001b[0m \u001b[32m━━━━━━━━━━━━━━━━━━━━\u001b[0m\u001b[37m\u001b[0m \u001b[1m20s\u001b[0m 2ms/step - loss: 1261.5338 - mae: 24.0031 - val_loss: 1205.0988 - val_mae: 23.5635 - learning_rate: 1.0000e-06\n",
      "Epoch 89/100\n",
      "\u001b[1m9241/9249\u001b[0m \u001b[32m━━━━━━━━━━━━━━━━━━━\u001b[0m\u001b[37m━\u001b[0m \u001b[1m0s\u001b[0m 2ms/step - loss: 1278.2980 - mae: 24.0081\n",
      "Epoch 89: val_loss did not improve from 1204.89771\n",
      "\u001b[1m9249/9249\u001b[0m \u001b[32m━━━━━━━━━━━━━━━━━━━━\u001b[0m\u001b[37m\u001b[0m \u001b[1m20s\u001b[0m 2ms/step - loss: 1278.2960 - mae: 24.0080 - val_loss: 1204.9984 - val_mae: 23.5658 - learning_rate: 1.0000e-06\n",
      "Epoch 90/100\n",
      "\u001b[1m9238/9249\u001b[0m \u001b[32m━━━━━━━━━━━━━━━━━━━\u001b[0m\u001b[37m━\u001b[0m \u001b[1m0s\u001b[0m 2ms/step - loss: 1274.6416 - mae: 23.9647\n",
      "Epoch 90: val_loss did not improve from 1204.89771\n",
      "\u001b[1m9249/9249\u001b[0m \u001b[32m━━━━━━━━━━━━━━━━━━━━\u001b[0m\u001b[37m\u001b[0m \u001b[1m20s\u001b[0m 2ms/step - loss: 1274.6420 - mae: 23.9647 - val_loss: 1204.9559 - val_mae: 23.5744 - learning_rate: 1.0000e-06\n",
      "Epoch 91/100\n",
      "\u001b[1m9232/9249\u001b[0m \u001b[32m━━━━━━━━━━━━━━━━━━━\u001b[0m\u001b[37m━\u001b[0m \u001b[1m0s\u001b[0m 2ms/step - loss: 1278.8840 - mae: 23.9987\n",
      "Epoch 91: val_loss did not improve from 1204.89771\n",
      "\u001b[1m9249/9249\u001b[0m \u001b[32m━━━━━━━━━━━━━━━━━━━━\u001b[0m\u001b[37m\u001b[0m \u001b[1m20s\u001b[0m 2ms/step - loss: 1278.8816 - mae: 23.9986 - val_loss: 1205.0593 - val_mae: 23.5549 - learning_rate: 1.0000e-06\n",
      "Epoch 92/100\n",
      "\u001b[1m9241/9249\u001b[0m \u001b[32m━━━━━━━━━━━━━━━━━━━\u001b[0m\u001b[37m━\u001b[0m \u001b[1m0s\u001b[0m 2ms/step - loss: 1282.9047 - mae: 24.0499\n",
      "Epoch 92: val_loss did not improve from 1204.89771\n",
      "\u001b[1m9249/9249\u001b[0m \u001b[32m━━━━━━━━━━━━━━━━━━━━\u001b[0m\u001b[37m\u001b[0m \u001b[1m20s\u001b[0m 2ms/step - loss: 1282.8986 - mae: 24.0499 - val_loss: 1205.0096 - val_mae: 23.5478 - learning_rate: 1.0000e-06\n",
      "Epoch 93/100\n",
      "\u001b[1m9229/9249\u001b[0m \u001b[32m━━━━━━━━━━━━━━━━━━━\u001b[0m\u001b[37m━\u001b[0m \u001b[1m0s\u001b[0m 2ms/step - loss: 1265.7482 - mae: 24.0028\n",
      "Epoch 93: val_loss did not improve from 1204.89771\n",
      "\u001b[1m9249/9249\u001b[0m \u001b[32m━━━━━━━━━━━━━━━━━━━━\u001b[0m\u001b[37m\u001b[0m \u001b[1m20s\u001b[0m 2ms/step - loss: 1265.7721 - mae: 24.0028 - val_loss: 1204.9624 - val_mae: 23.5563 - learning_rate: 1.0000e-06\n",
      "Epoch 94/100\n",
      "\u001b[1m9231/9249\u001b[0m \u001b[32m━━━━━━━━━━━━━━━━━━━\u001b[0m\u001b[37m━\u001b[0m \u001b[1m0s\u001b[0m 2ms/step - loss: 1279.1527 - mae: 23.9581\n",
      "Epoch 94: val_loss did not improve from 1204.89771\n",
      "\u001b[1m9249/9249\u001b[0m \u001b[32m━━━━━━━━━━━━━━━━━━━━\u001b[0m\u001b[37m\u001b[0m \u001b[1m20s\u001b[0m 2ms/step - loss: 1279.1467 - mae: 23.9581 - val_loss: 1204.9054 - val_mae: 23.5436 - learning_rate: 1.0000e-06\n",
      "Epoch 95/100\n",
      "\u001b[1m9247/9249\u001b[0m \u001b[32m━━━━━━━━━━━━━━━━━━━\u001b[0m\u001b[37m━\u001b[0m \u001b[1m0s\u001b[0m 2ms/step - loss: 1259.9275 - mae: 23.8653\n",
      "Epoch 95: val_loss improved from 1204.89771 to 1204.75928, saving model to best_model.keras\n",
      "\u001b[1m9249/9249\u001b[0m \u001b[32m━━━━━━━━━━━━━━━━━━━━\u001b[0m\u001b[37m\u001b[0m \u001b[1m20s\u001b[0m 2ms/step - loss: 1259.9327 - mae: 23.8654 - val_loss: 1204.7593 - val_mae: 23.5741 - learning_rate: 1.0000e-06\n",
      "Epoch 96/100\n",
      "\u001b[1m9224/9249\u001b[0m \u001b[32m━━━━━━━━━━━━━━━━━━━\u001b[0m\u001b[37m━\u001b[0m \u001b[1m0s\u001b[0m 2ms/step - loss: 1270.4854 - mae: 24.0553\n",
      "Epoch 96: val_loss did not improve from 1204.75928\n",
      "\u001b[1m9249/9249\u001b[0m \u001b[32m━━━━━━━━━━━━━━━━━━━━\u001b[0m\u001b[37m\u001b[0m \u001b[1m20s\u001b[0m 2ms/step - loss: 1270.5015 - mae: 24.0551 - val_loss: 1205.0059 - val_mae: 23.5266 - learning_rate: 1.0000e-06\n",
      "Epoch 97/100\n",
      "\u001b[1m9246/9249\u001b[0m \u001b[32m━━━━━━━━━━━━━━━━━━━\u001b[0m\u001b[37m━\u001b[0m \u001b[1m0s\u001b[0m 2ms/step - loss: 1260.3505 - mae: 23.8945\n",
      "Epoch 97: val_loss did not improve from 1204.75928\n",
      "\u001b[1m9249/9249\u001b[0m \u001b[32m━━━━━━━━━━━━━━━━━━━━\u001b[0m\u001b[37m\u001b[0m \u001b[1m20s\u001b[0m 2ms/step - loss: 1260.3575 - mae: 23.8946 - val_loss: 1204.9387 - val_mae: 23.5391 - learning_rate: 1.0000e-06\n",
      "Epoch 98/100\n",
      "\u001b[1m9226/9249\u001b[0m \u001b[32m━━━━━━━━━━━━━━━━━━━\u001b[0m\u001b[37m━\u001b[0m \u001b[1m0s\u001b[0m 2ms/step - loss: 1261.4924 - mae: 23.8454\n",
      "Epoch 98: val_loss did not improve from 1204.75928\n",
      "\u001b[1m9249/9249\u001b[0m \u001b[32m━━━━━━━━━━━━━━━━━━━━\u001b[0m\u001b[37m\u001b[0m \u001b[1m20s\u001b[0m 2ms/step - loss: 1261.5314 - mae: 23.8457 - val_loss: 1204.8013 - val_mae: 23.5633 - learning_rate: 1.0000e-06\n",
      "Epoch 99/100\n",
      "\u001b[1m9225/9249\u001b[0m \u001b[32m━━━━━━━━━━━━━━━━━━━\u001b[0m\u001b[37m━\u001b[0m \u001b[1m0s\u001b[0m 2ms/step - loss: 1279.5986 - mae: 23.9215\n",
      "Epoch 99: val_loss did not improve from 1204.75928\n",
      "\u001b[1m9249/9249\u001b[0m \u001b[32m━━━━━━━━━━━━━━━━━━━━\u001b[0m\u001b[37m\u001b[0m \u001b[1m20s\u001b[0m 2ms/step - loss: 1279.5887 - mae: 23.9216 - val_loss: 1204.8761 - val_mae: 23.5475 - learning_rate: 1.0000e-06\n",
      "Epoch 100/100\n",
      "\u001b[1m9224/9249\u001b[0m \u001b[32m━━━━━━━━━━━━━━━━━━━\u001b[0m\u001b[37m━\u001b[0m \u001b[1m0s\u001b[0m 2ms/step - loss: 1269.0822 - mae: 23.9529\n",
      "Epoch 100: val_loss did not improve from 1204.75928\n",
      "\u001b[1m9249/9249\u001b[0m \u001b[32m━━━━━━━━━━━━━━━━━━━━\u001b[0m\u001b[37m\u001b[0m \u001b[1m20s\u001b[0m 2ms/step - loss: 1269.1039 - mae: 23.9530 - val_loss: 1205.0544 - val_mae: 23.5140 - learning_rate: 1.0000e-06\n",
      "\u001b[1m1446/1446\u001b[0m \u001b[32m━━━━━━━━━━━━━━━━━━━━\u001b[0m\u001b[37m\u001b[0m \u001b[1m1s\u001b[0m 510us/step - loss: 1258.7456 - mae: 23.7638\n",
      "Mean Absolute Error on test data: 23.74351692199707\n"
     ]
    }
   ],
   "source": [
    "from keras.models import Sequential\n",
    "from sklearn.model_selection import train_test_split\n",
    "from sklearn.preprocessing import StandardScaler\n",
    "from keras.layers import Dense, Dropout\n",
    "from keras.optimizers import Adam, RMSprop\n",
    "from keras.callbacks import EarlyStopping, ReduceLROnPlateau, ModelCheckpoint\n",
    "from keras.regularizers import l2\n",
    "import numpy as np\n",
    "\n",
    "# Select target and features\n",
    "X = df_ann[['clasificacion', 'edad', 'genero_encode', 'hora', 'minuto', 'mes', 'dia', 'dia_semana']]\n",
    "# X = df_ann[['clasificacion', 'edad', 'genero_encode', 'hora', 'minuto', 'mes', 'dia', 'dia_semana', 'tiempo_espera_triage', 'tiempo_en_triage', 'tiempo_espera_despuestriage', 'tiempo_en_consulta']]\n",
    "# X = df_ann[['clasificacion_AMARILLO', 'clasificacion_ROJO', 'clasificacion_VERDE', 'edad', 'genero_Femenino', 'genero_Masculino', 'hora', 'minuto', 'mes', 'dia', 'dia_semana']]\n",
    "y = df_ann['tiempo_total']\n",
    "\n",
    "scaler = StandardScaler()\n",
    "X = scaler.fit_transform(X)\n",
    "\n",
    "# Dividir los datos en conjuntos de entrenamiento y prueba.\n",
    "X_train, X_test, y_train, y_test = train_test_split(X, y, test_size=0.2, random_state=42)\n",
    "\n",
    "\n",
    "# Configurar la semilla para reproducibilidad\n",
    "np.random.seed(3000)\n",
    "\n",
    "# Construcción de la red neuronal\n",
    "model = Sequential()\n",
    "model.add(Dense(512, input_dim=X_train.shape[1], activation='relu', kernel_regularizer=l2(0.001)))\n",
    "model.add(Dropout(0.1))\n",
    "model.add(Dense(420, activation='relu', kernel_regularizer=l2(0.0001)))\n",
    "model.add(Dropout(0.1))\n",
    "model.add(Dense (198, activation='relu', kernel_regularizer=l2(0.0001)))\n",
    "model.add(Dropout(0.1))\n",
    "model.add(Dense(98, activation='relu', kernel_regularizer=l2(0.0001)))\n",
    "model.add(Dropout(0.1))\n",
    "model.add(Dense(1))\n",
    "\n",
    "# Inicializar el optimizador con una tasa de aprendizaje inicial\n",
    "initial_learning_rate = 0.0001\n",
    "optimizer = RMSprop(learning_rate=initial_learning_rate)\n",
    "#MSprop (Root Mean Square Propagation) es una extensión del método de descenso del gradiente estocástico (SGD)\n",
    "#que ajusta la tasa de aprendizaje para cada parámetro de forma individual\n",
    "model.compile(optimizer=optimizer, loss='mse', metrics=['mae'])\n",
    "\n",
    "# Configurar callbacks\n",
    "early_stopping = EarlyStopping(monitor='val_loss', patience=16, restore_best_weights=True)\n",
    "reduce_lr = ReduceLROnPlateau(monitor='val_loss', factor=0.5, patience=5, min_lr=0.000001, verbose=1)\n",
    "model_checkpoint = ModelCheckpoint('best_model.keras', monitor='val_loss', save_best_only=True, verbose=1)\n",
    "\n",
    "# Entrenar el modelo\n",
    "history = model.fit(X_train, y_train, validation_split=0.2, epochs=100, batch_size=16, verbose=1, callbacks=[reduce_lr, model_checkpoint])\n",
    "\n",
    "# Evaluación del modelo\n",
    "loss, mae = model.evaluate(X_test, y_test, verbose=1)\n",
    "print(f'Mean Absolute Error on test data: {mae}')"
   ]
  },
  {
   "cell_type": "code",
   "execution_count": 43,
   "metadata": {},
   "outputs": [
    {
     "name": "stdout",
     "output_type": "stream",
     "text": [
      "\u001b[1m1446/1446\u001b[0m \u001b[32m━━━━━━━━━━━━━━━━━━━━\u001b[0m\u001b[37m\u001b[0m \u001b[1m1s\u001b[0m 481us/step\n",
      "        Actual  Predicted\n",
      "128213    31.0  54.717484\n",
      "87574     72.0  57.295227\n",
      "166331    85.0  55.383652\n",
      "166380    62.0  55.786884\n",
      "239498    18.0  40.809895\n",
      "247839    56.0  55.556076\n",
      "105725    18.0  52.990158\n",
      "142604    68.0  50.673664\n",
      "126600    81.0  45.652756\n",
      "56035     36.0  52.267673\n",
      "Mean Absolute Error: 23.743496656319884\n",
      "dict_keys(['loss', 'mae', 'val_loss', 'val_mae', 'learning_rate'])\n"
     ]
    },
    {
     "data": {
      "image/png": "[encoded data removed]",
      "text/plain": [
       "<Figure size 1500x1000 with 4 Axes>"
      ]
     },
     "metadata": {},
     "output_type": "display_data"
    }
   ],
   "source": [
    "import matplotlib.pyplot as plt\n",
    "from sklearn.metrics import mean_absolute_error\n",
    "import pandas as pd\n",
    "\n",
    "# Predicción\n",
    "y_pred = model.predict(X_test)\n",
    "\n",
    "# Mostrar algunas predicciones junto con los valores reales\n",
    "predictions = pd.DataFrame({'Actual': y_test, 'Predicted': y_pred.flatten()})\n",
    "print(predictions.head(10))\n",
    "\n",
    "# Calcular métricas adicionales\n",
    "mae = mean_absolute_error(y_test, y_pred)\n",
    "print(f'Mean Absolute Error: {mae}')\n",
    "\n",
    "# Imprimir las claves de history.history\n",
    "print(history.history.keys())\n",
    "\n",
    "import matplotlib.pyplot as plt\n",
    "\n",
    "\n",
    "# Crear subplots\n",
    "fig, axs = plt.subplots(2, 2, figsize=(15, 10))\n",
    "\n",
    "# Graficar la pérdida de entrenamiento\n",
    "axs[0, 0].plot(history.history['loss'], label='Pérdida de entrenamiento', color=\"black\")\n",
    "axs[0, 0].set_xlabel('Épocas')\n",
    "axs[0, 0].set_ylabel('Pérdida')\n",
    "axs[0, 0].set_title('Pérdida de entrenamiento')\n",
    "axs[0, 0].legend()\n",
    "\n",
    "# Graficar la pérdida de validación\n",
    "axs[0, 1].plot(history.history['val_loss'], label='Pérdida de validación',color=\"red\")\n",
    "axs[0, 1].set_xlabel('Épocas')\n",
    "axs[0, 1].set_ylabel('Pérdida')\n",
    "axs[0, 1].set_title('Pérdida de validación')\n",
    "axs[0, 1].legend()\n",
    "\n",
    "# Graficar MAE de entrenamiento\n",
    "axs[1, 0].plot(history.history['mae'], label='Error absoluto de entrenamiento', color=\"black\")\n",
    "axs[1, 0].set_xlabel('Épocas')\n",
    "axs[1, 0].set_ylabel('MAE')\n",
    "axs[1, 0].set_title('Error absoluto de entrenamiento')\n",
    "axs[1, 0].legend()\n",
    "\n",
    "# Graficar MAE de validación\n",
    "axs[1, 1].plot(history.history['val_mae'], label='Error absoluto de validacion', color=\"red\")\n",
    "axs[1, 1].set_xlabel('Épocas')\n",
    "axs[1, 1].set_ylabel('MAE')\n",
    "axs[1, 1].set_title('Error absoluto de validacion')\n",
    "axs[1, 1].legend()\n",
    "\n",
    "# Ajustar diseño para evitar solapamiento\n",
    "plt.tight_layout()\n",
    "plt.show()"
   ]
  },
  {
   "cell_type": "markdown",
   "metadata": {},
   "source": [
    "# Analisys"
   ]
  },
  {
   "cell_type": "markdown",
   "metadata": {},
   "source": [
    "##### Prepare data"
   ]
  },
  {
   "cell_type": "code",
   "execution_count": 26,
   "metadata": {},
   "outputs": [],
   "source": [
    "df_analisys = df_encode.copy()"
   ]
  },
  {
   "cell_type": "code",
   "execution_count": 27,
   "metadata": {},
   "outputs": [],
   "source": [
    "df_analisys.rename(columns={'fecha':'date'}, inplace=True)\n",
    "\n",
    "df_analisys['entry_time'] = df_analisys['date'].dt.time\n",
    "df_analisys['entry_time'] = pd.to_timedelta(df_analisys.entry_time.astype(str))\n",
    "\n",
    "\n",
    "df_analisys.rename(columns={'tiempo_total':'waiting_time'}, inplace=True)\n",
    "df_analisys['waiting_time'] = pd.to_timedelta(df_analisys['waiting_time'], unit='m')\n",
    "\n",
    "df_analisys['completion_time'] = df_analisys['waiting_time'] + df_analisys['entry_time']\n",
    "\n",
    "df_analisys['waiting_ber_munets'] = df_analisys.waiting_time.dt.seconds / 60\n",
    "df_analisys['waiting_ber_munets'] = df_analisys['waiting_ber_munets'].round(0)\n",
    "\n",
    "df_analisys['weekday'] = df_analisys.date.dt.strftime('%A')                      # new column for extract 'weekday' from 'date'\n",
    "df_analisys['hours'] = df_analisys.entry_time.dt.components.hours                # new column for extract the  'hours' from 'entry_time'"
   ]
  },
  {
   "cell_type": "code",
   "execution_count": 28,
   "metadata": {},
   "outputs": [
    {
     "data": {
      "text/plain": [
       "date                            datetime64[ns]\n",
       "nombre                                  object\n",
       "tiempo_espera_triage                   float64\n",
       "tiempo_en_triage                       float64\n",
       "tiempo_espera_despuestriage            float64\n",
       "tiempo_en_consulta                     float64\n",
       "clasificacion                             int8\n",
       "edad                                   float64\n",
       "edad_unidad                            float64\n",
       "Dx                                      object\n",
       "waiting_time                   timedelta64[ns]\n",
       "genero                                  object\n",
       "genero_encode                             int8\n",
       "entry_time                     timedelta64[ns]\n",
       "completion_time                timedelta64[ns]\n",
       "waiting_ber_munets                     float64\n",
       "weekday                                 object\n",
       "hours                                    int64\n",
       "dtype: object"
      ]
     },
     "execution_count": 28,
     "metadata": {},
     "output_type": "execute_result"
    }
   ],
   "source": [
    "df_analisys.dtypes"
   ]
  },
  {
   "cell_type": "code",
   "execution_count": 29,
   "metadata": {},
   "outputs": [
    {
     "data": {
      "text/html": [
       "<div>\n",
       "<style scoped>\n",
       "    .dataframe tbody tr th:only-of-type {\n",
       "        vertical-align: middle;\n",
       "    }\n",
       "\n",
       "    .dataframe tbody tr th {\n",
       "        vertical-align: top;\n",
       "    }\n",
       "\n",
       "    .dataframe thead th {\n",
       "        text-align: right;\n",
       "    }\n",
       "</style>\n",
       "<table border=\"1\" class=\"dataframe\">\n",
       "  <thead>\n",
       "    <tr style=\"text-align: right;\">\n",
       "      <th></th>\n",
       "      <th>date</th>\n",
       "      <th>tiempo_espera_triage</th>\n",
       "      <th>tiempo_en_triage</th>\n",
       "      <th>tiempo_espera_despuestriage</th>\n",
       "      <th>tiempo_en_consulta</th>\n",
       "      <th>clasificacion</th>\n",
       "      <th>edad</th>\n",
       "      <th>edad_unidad</th>\n",
       "      <th>waiting_time</th>\n",
       "      <th>genero_encode</th>\n",
       "      <th>entry_time</th>\n",
       "      <th>completion_time</th>\n",
       "      <th>waiting_ber_munets</th>\n",
       "      <th>weekday</th>\n",
       "      <th>hours</th>\n",
       "    </tr>\n",
       "  </thead>\n",
       "  <tbody>\n",
       "    <tr>\n",
       "      <th>0</th>\n",
       "      <td>2010-08-16 08:46:15.343</td>\n",
       "      <td>7.0</td>\n",
       "      <td>5.0</td>\n",
       "      <td>18.0</td>\n",
       "      <td>14.0</td>\n",
       "      <td>0</td>\n",
       "      <td>42.0</td>\n",
       "      <td>1.0</td>\n",
       "      <td>0 days 00:44:00</td>\n",
       "      <td>1</td>\n",
       "      <td>0 days 08:46:15.343000</td>\n",
       "      <td>0 days 09:30:15.343000</td>\n",
       "      <td>44.0</td>\n",
       "      <td>Monday</td>\n",
       "      <td>8</td>\n",
       "    </tr>\n",
       "    <tr>\n",
       "      <th>1</th>\n",
       "      <td>2010-08-16 09:00:35.700</td>\n",
       "      <td>4.0</td>\n",
       "      <td>5.0</td>\n",
       "      <td>16.0</td>\n",
       "      <td>26.0</td>\n",
       "      <td>0</td>\n",
       "      <td>45.0</td>\n",
       "      <td>1.0</td>\n",
       "      <td>0 days 00:51:00</td>\n",
       "      <td>0</td>\n",
       "      <td>0 days 09:00:35.700000</td>\n",
       "      <td>0 days 09:51:35.700000</td>\n",
       "      <td>51.0</td>\n",
       "      <td>Monday</td>\n",
       "      <td>9</td>\n",
       "    </tr>\n",
       "  </tbody>\n",
       "</table>\n",
       "</div>"
      ],
      "text/plain": [
       "                     date  tiempo_espera_triage  tiempo_en_triage  \\\n",
       "0 2010-08-16 08:46:15.343                   7.0               5.0   \n",
       "1 2010-08-16 09:00:35.700                   4.0               5.0   \n",
       "\n",
       "   tiempo_espera_despuestriage  tiempo_en_consulta  clasificacion  edad  \\\n",
       "0                         18.0                14.0              0  42.0   \n",
       "1                         16.0                26.0              0  45.0   \n",
       "\n",
       "   edad_unidad    waiting_time  genero_encode             entry_time  \\\n",
       "0          1.0 0 days 00:44:00              1 0 days 08:46:15.343000   \n",
       "1          1.0 0 days 00:51:00              0 0 days 09:00:35.700000   \n",
       "\n",
       "         completion_time  waiting_ber_munets weekday  hours  \n",
       "0 0 days 09:30:15.343000                44.0  Monday      8  \n",
       "1 0 days 09:51:35.700000                51.0  Monday      9  "
      ]
     },
     "execution_count": 29,
     "metadata": {},
     "output_type": "execute_result"
    }
   ],
   "source": [
    "df_analisys.drop(columns=['nombre', 'genero', 'Dx'], inplace=True)\n",
    "df_analisys.head(2)"
   ]
  },
  {
   "cell_type": "markdown",
   "metadata": {},
   "source": [
    "##### Patient heatmap"
   ]
  },
  {
   "cell_type": "code",
   "execution_count": 30,
   "metadata": {},
   "outputs": [
    {
     "name": "stdout",
     "output_type": "stream",
     "text": [
      "weekday  Sunday  Monday  Tuesday  Wednesday  Thursday  Friday  Saturday\n",
      "hours                                                                  \n",
      "0          1359    1294     1079       1065      1093    1126      1192\n",
      "1          1193     950      751        724       665     736       861\n",
      "2           939     718      519        535       485     579       626\n",
      "3           883     557      461        453       417     461       561\n",
      "4           776     482      388        397       336     412       465\n",
      "5           560     354      343        358       330     339       398\n",
      "6           500     403      401        375       342     357       376\n",
      "7           558     897      777        815       748     709       581\n",
      "8           827    1824     1538       1646      1508    1458       848\n",
      "9          1056    2036     1806       1749      1705    1626      1070\n",
      "10         1354    2369     2103       1973      1865    1864      1420\n",
      "11         1594    2494     2077       2034      2064    1911      1684\n",
      "12         1751    2448     2145       2009      2016    1922      1603\n",
      "13         1786    2230     2024       1895      1867    1838      1639\n",
      "14         1693    2129     1887       1829      1823    1843      1605\n",
      "15         1606    2000     1841       1781      1733    1727      1532\n",
      "16         1606    1900     1740       1619      1708    1699      1554\n",
      "17         1667    1915     1802       1627      1680    1612      1553\n",
      "18         1869    1835     1702       1602      1575    1624      1663\n",
      "19         1817    1787     1667       1665      1721    1724      1739\n",
      "20         1910    1802     1716       1654      1674    1737      1603\n",
      "21         1943    1837     1812       1780      1833    1771      1796\n",
      "22         1896    1727     1836       1681      1711    1726      1713\n",
      "23         1679    1516     1426       1364      1415    1546      1663 weekday  Sunday  Monday  Tuesday  Wednesday  Thursday  Friday  Saturday\n",
      "hours                                                                  \n",
      "0          53.3    53.1     56.7       52.6      58.3    50.9      58.1\n",
      "1          52.1    49.1     51.5       44.8      50.4    42.8      55.3\n",
      "2          48.2    45.2     45.7       40.3      44.8    42.2      48.2\n",
      "3          46.2    46.1     40.5       44.6      44.5    44.7      47.3\n",
      "4          48.7    43.7     41.1       43.3      39.9    42.5      45.8\n",
      "5          49.7    45.5     46.5       44.7      44.9    44.2      47.8\n",
      "6          58.1    61.5     56.3       54.0      53.9    55.0      58.4\n",
      "7          63.9    55.4     53.9       51.7      53.1    60.4      62.7\n",
      "8          58.1    50.9     56.5       49.4      50.6    51.6      61.4\n",
      "9          59.2    51.3     51.1       49.5      52.8    51.0      61.9\n",
      "10         60.1    56.1     52.8       51.8      51.1    50.6      63.1\n",
      "11         58.1    57.4     53.5       52.8      52.1    52.5      59.9\n",
      "12         58.1    57.0     53.0       51.5      51.2    52.7      59.9\n",
      "13         59.4    60.2     55.5       55.0      53.4    52.9      60.2\n",
      "14         59.4    55.6     52.2       53.3      51.3    53.2      61.7\n",
      "15         58.2    51.9     49.1       49.9      47.5    50.7      62.0\n",
      "16         61.7    50.2     46.9       47.8      46.8    48.8      62.3\n",
      "17         59.1    48.9     45.7       46.3      45.2    46.8      63.0\n",
      "18         55.7    46.5     44.3       44.8      43.2    46.5      55.0\n",
      "19         53.5    47.5     44.0       45.1      44.5    47.5      53.0\n",
      "20         60.9    56.5     54.1       54.5      53.9    59.2      58.8\n",
      "21         59.5    62.7     63.6       63.9      61.3    63.7      63.8\n",
      "22         59.9    67.0     62.3       66.9      62.5    64.9      59.4\n",
      "23         59.6    64.0     59.2       63.0      58.3    63.1      56.3\n"
     ]
    }
   ],
   "source": [
    "\n",
    "def grouped_data2(column_name):\n",
    "    if column_name == 'completion_time':                                            \n",
    "        answer = pd.pivot_table(df_analisys, index='hours', columns=['weekday'], aggfunc='count')\n",
    "    elif column_name == 'waiting_ber_munets':                                      \n",
    "        answer = pd.pivot_table(df_analisys, index='hours',                                  \n",
    "                                columns=['weekday'] , aggfunc='mean').round(1)  \n",
    "    else:\n",
    "        return(column_name + \" is not in the columns\")                              \n",
    "    \n",
    "    answer = answer[column_name]\n",
    "    answer = answer.fillna(0)\n",
    "    answer = answer[['Sunday', 'Monday', 'Tuesday',                                \n",
    "                  'Wednesday', 'Thursday', \n",
    "                  'Friday', 'Saturday']] \n",
    "    return answer\n",
    "answer3 =  grouped_data2('completion_time')\n",
    "answer4 =  grouped_data2('waiting_ber_munets')\n",
    "print(answer3,answer4)"
   ]
  },
  {
   "cell_type": "code",
   "execution_count": 31,
   "metadata": {},
   "outputs": [
    {
     "data": {
      "application/vnd.plotly.v1+json": {
       "config": {
        "plotlyServerURL": "https://plot.ly"
       },
       "data": [
        {
         "coloraxis": "coloraxis",
         "hovertemplate": "weekday: %{x}<br>hours: %{y}<br>number of paitant: %{z}<extra></extra>",
         "name": "0",
         "texttemplate": "%{z}",
         "type": "heatmap",
         "x": [
          "Sunday",
          "Monday",
          "Tuesday",
          "Wednesday",
          "Thursday",
          "Friday",
          "Saturday"
         ],
         "xaxis": "x",
         "y": [
          0,
          1,
          2,
          3,
          4,
          5,
          6,
          7,
          8,
          9,
          10,
          11,
          12,
          13,
          14,
          15,
          16,
          17,
          18,
          19,
          20,
          21,
          22,
          23
         ],
         "yaxis": "y",
         "z": [
          [
           1359,
           1294,
           1079,
           1065,
           1093,
           1126,
           1192
          ],
          [
           1193,
           950,
           751,
           724,
           665,
           736,
           861
          ],
          [
           939,
           718,
           519,
           535,
           485,
           579,
           626
          ],
          [
           883,
           557,
           461,
           453,
           417,
           461,
           561
          ],
          [
           776,
           482,
           388,
           397,
           336,
           412,
           465
          ],
          [
           560,
           354,
           343,
           358,
           330,
           339,
           398
          ],
          [
           500,
           403,
           401,
           375,
           342,
           357,
           376
          ],
          [
           558,
           897,
           777,
           815,
           748,
           709,
           581
          ],
          [
           827,
           1824,
           1538,
           1646,
           1508,
           1458,
           848
          ],
          [
           1056,
           2036,
           1806,
           1749,
           1705,
           1626,
           1070
          ],
          [
           1354,
           2369,
           2103,
           1973,
           1865,
           1864,
           1420
          ],
          [
           1594,
           2494,
           2077,
           2034,
           2064,
           1911,
           1684
          ],
          [
           1751,
           2448,
           2145,
           2009,
           2016,
           1922,
           1603
          ],
          [
           1786,
           2230,
           2024,
           1895,
           1867,
           1838,
           1639
          ],
          [
           1693,
           2129,
           1887,
           1829,
           1823,
           1843,
           1605
          ],
          [
           1606,
           2000,
           1841,
           1781,
           1733,
           1727,
           1532
          ],
          [
           1606,
           1900,
           1740,
           1619,
           1708,
           1699,
           1554
          ],
          [
           1667,
           1915,
           1802,
           1627,
           1680,
           1612,
           1553
          ],
          [
           1869,
           1835,
           1702,
           1602,
           1575,
           1624,
           1663
          ],
          [
           1817,
           1787,
           1667,
           1665,
           1721,
           1724,
           1739
          ],
          [
           1910,
           1802,
           1716,
           1654,
           1674,
           1737,
           1603
          ],
          [
           1943,
           1837,
           1812,
           1780,
           1833,
           1771,
           1796
          ],
          [
           1896,
           1727,
           1836,
           1681,
           1711,
           1726,
           1713
          ],
          [
           1679,
           1516,
           1426,
           1364,
           1415,
           1546,
           1663
          ]
         ]
        }
       ],
       "layout": {
        "coloraxis": {
         "colorbar": {
          "title": {
           "text": "number of paitant"
          }
         },
         "colorscale": [
          [
           0,
           "rgb(254, 245, 244)"
          ],
          [
           0.09090909090909091,
           "rgb(222, 224, 210)"
          ],
          [
           0.18181818181818182,
           "rgb(189, 206, 181)"
          ],
          [
           0.2727272727272727,
           "rgb(153, 189, 156)"
          ],
          [
           0.36363636363636365,
           "rgb(110, 173, 138)"
          ],
          [
           0.45454545454545453,
           "rgb(65, 157, 129)"
          ],
          [
           0.5454545454545454,
           "rgb(25, 137, 125)"
          ],
          [
           0.6363636363636364,
           "rgb(18, 116, 117)"
          ],
          [
           0.7272727272727273,
           "rgb(25, 94, 106)"
          ],
          [
           0.8181818181818182,
           "rgb(28, 72, 93)"
          ],
          [
           0.9090909090909091,
           "rgb(25, 51, 80)"
          ],
          [
           1,
           "rgb(20, 29, 67)"
          ]
         ]
        },
        "height": 900,
        "margin": {
         "t": 60
        },
        "template": {
         "data": {
          "bar": [
           {
            "error_x": {
             "color": "#f2f5fa"
            },
            "error_y": {
             "color": "#f2f5fa"
            },
            "marker": {
             "line": {
              "color": "rgb(17,17,17)",
              "width": 0.5
             },
             "pattern": {
              "fillmode": "overlay",
              "size": 10,
              "solidity": 0.2
             }
            },
            "type": "bar"
           }
          ],
          "barpolar": [
           {
            "marker": {
             "line": {
              "color": "rgb(17,17,17)",
              "width": 0.5
             },
             "pattern": {
              "fillmode": "overlay",
              "size": 10,
              "solidity": 0.2
             }
            },
            "type": "barpolar"
           }
          ],
          "carpet": [
           {
            "aaxis": {
             "endlinecolor": "#A2B1C6",
             "gridcolor": "#506784",
             "linecolor": "#506784",
             "minorgridcolor": "#506784",
             "startlinecolor": "#A2B1C6"
            },
            "baxis": {
             "endlinecolor": "#A2B1C6",
             "gridcolor": "#506784",
             "linecolor": "#506784",
             "minorgridcolor": "#506784",
             "startlinecolor": "#A2B1C6"
            },
            "type": "carpet"
           }
          ],
          "choropleth": [
           {
            "colorbar": {
             "outlinewidth": 0,
             "ticks": ""
            },
            "type": "choropleth"
           }
          ],
          "contour": [
           {
            "colorbar": {
             "outlinewidth": 0,
             "ticks": ""
            },
            "colorscale": [
             [
              0,
              "#0d0887"
             ],
             [
              0.1111111111111111,
              "#46039f"
             ],
             [
              0.2222222222222222,
              "#7201a8"
             ],
             [
              0.3333333333333333,
              "#9c179e"
             ],
             [
              0.4444444444444444,
              "#bd3786"
             ],
             [
              0.5555555555555556,
              "#d8576b"
             ],
             [
              0.6666666666666666,
              "#ed7953"
             ],
             [
              0.7777777777777778,
              "#fb9f3a"
             ],
             [
              0.8888888888888888,
              "#fdca26"
             ],
             [
              1,
              "#f0f921"
             ]
            ],
            "type": "contour"
           }
          ],
          "contourcarpet": [
           {
            "colorbar": {
             "outlinewidth": 0,
             "ticks": ""
            },
            "type": "contourcarpet"
           }
          ],
          "heatmap": [
           {
            "colorbar": {
             "outlinewidth": 0,
             "ticks": ""
            },
            "colorscale": [
             [
              0,
              "#0d0887"
             ],
             [
              0.1111111111111111,
              "#46039f"
             ],
             [
              0.2222222222222222,
              "#7201a8"
             ],
             [
              0.3333333333333333,
              "#9c179e"
             ],
             [
              0.4444444444444444,
              "#bd3786"
             ],
             [
              0.5555555555555556,
              "#d8576b"
             ],
             [
              0.6666666666666666,
              "#ed7953"
             ],
             [
              0.7777777777777778,
              "#fb9f3a"
             ],
             [
              0.8888888888888888,
              "#fdca26"
             ],
             [
              1,
              "#f0f921"
             ]
            ],
            "type": "heatmap"
           }
          ],
          "heatmapgl": [
           {
            "colorbar": {
             "outlinewidth": 0,
             "ticks": ""
            },
            "colorscale": [
             [
              0,
              "#0d0887"
             ],
             [
              0.1111111111111111,
              "#46039f"
             ],
             [
              0.2222222222222222,
              "#7201a8"
             ],
             [
              0.3333333333333333,
              "#9c179e"
             ],
             [
              0.4444444444444444,
              "#bd3786"
             ],
             [
              0.5555555555555556,
              "#d8576b"
             ],
             [
              0.6666666666666666,
              "#ed7953"
             ],
             [
              0.7777777777777778,
              "#fb9f3a"
             ],
             [
              0.8888888888888888,
              "#fdca26"
             ],
             [
              1,
              "#f0f921"
             ]
            ],
            "type": "heatmapgl"
           }
          ],
          "histogram": [
           {
            "marker": {
             "pattern": {
              "fillmode": "overlay",
              "size": 10,
              "solidity": 0.2
             }
            },
            "type": "histogram"
           }
          ],
          "histogram2d": [
           {
            "colorbar": {
             "outlinewidth": 0,
             "ticks": ""
            },
            "colorscale": [
             [
              0,
              "#0d0887"
             ],
             [
              0.1111111111111111,
              "#46039f"
             ],
             [
              0.2222222222222222,
              "#7201a8"
             ],
             [
              0.3333333333333333,
              "#9c179e"
             ],
             [
              0.4444444444444444,
              "#bd3786"
             ],
             [
              0.5555555555555556,
              "#d8576b"
             ],
             [
              0.6666666666666666,
              "#ed7953"
             ],
             [
              0.7777777777777778,
              "#fb9f3a"
             ],
             [
              0.8888888888888888,
              "#fdca26"
             ],
             [
              1,
              "#f0f921"
             ]
            ],
            "type": "histogram2d"
           }
          ],
          "histogram2dcontour": [
           {
            "colorbar": {
             "outlinewidth": 0,
             "ticks": ""
            },
            "colorscale": [
             [
              0,
              "#0d0887"
             ],
             [
              0.1111111111111111,
              "#46039f"
             ],
             [
              0.2222222222222222,
              "#7201a8"
             ],
             [
              0.3333333333333333,
              "#9c179e"
             ],
             [
              0.4444444444444444,
              "#bd3786"
             ],
             [
              0.5555555555555556,
              "#d8576b"
             ],
             [
              0.6666666666666666,
              "#ed7953"
             ],
             [
              0.7777777777777778,
              "#fb9f3a"
             ],
             [
              0.8888888888888888,
              "#fdca26"
             ],
             [
              1,
              "#f0f921"
             ]
            ],
            "type": "histogram2dcontour"
           }
          ],
          "mesh3d": [
           {
            "colorbar": {
             "outlinewidth": 0,
             "ticks": ""
            },
            "type": "mesh3d"
           }
          ],
          "parcoords": [
           {
            "line": {
             "colorbar": {
              "outlinewidth": 0,
              "ticks": ""
             }
            },
            "type": "parcoords"
           }
          ],
          "pie": [
           {
            "automargin": true,
            "type": "pie"
           }
          ],
          "scatter": [
           {
            "marker": {
             "line": {
              "color": "#283442"
             }
            },
            "type": "scatter"
           }
          ],
          "scatter3d": [
           {
            "line": {
             "colorbar": {
              "outlinewidth": 0,
              "ticks": ""
             }
            },
            "marker": {
             "colorbar": {
              "outlinewidth": 0,
              "ticks": ""
             }
            },
            "type": "scatter3d"
           }
          ],
          "scattercarpet": [
           {
            "marker": {
             "colorbar": {
              "outlinewidth": 0,
              "ticks": ""
             }
            },
            "type": "scattercarpet"
           }
          ],
          "scattergeo": [
           {
            "marker": {
             "colorbar": {
              "outlinewidth": 0,
              "ticks": ""
             }
            },
            "type": "scattergeo"
           }
          ],
          "scattergl": [
           {
            "marker": {
             "line": {
              "color": "#283442"
             }
            },
            "type": "scattergl"
           }
          ],
          "scattermapbox": [
           {
            "marker": {
             "colorbar": {
              "outlinewidth": 0,
              "ticks": ""
             }
            },
            "type": "scattermapbox"
           }
          ],
          "scatterpolar": [
           {
            "marker": {
             "colorbar": {
              "outlinewidth": 0,
              "ticks": ""
             }
            },
            "type": "scatterpolar"
           }
          ],
          "scatterpolargl": [
           {
            "marker": {
             "colorbar": {
              "outlinewidth": 0,
              "ticks": ""
             }
            },
            "type": "scatterpolargl"
           }
          ],
          "scatterternary": [
           {
            "marker": {
             "colorbar": {
              "outlinewidth": 0,
              "ticks": ""
             }
            },
            "type": "scatterternary"
           }
          ],
          "surface": [
           {
            "colorbar": {
             "outlinewidth": 0,
             "ticks": ""
            },
            "colorscale": [
             [
              0,
              "#0d0887"
             ],
             [
              0.1111111111111111,
              "#46039f"
             ],
             [
              0.2222222222222222,
              "#7201a8"
             ],
             [
              0.3333333333333333,
              "#9c179e"
             ],
             [
              0.4444444444444444,
              "#bd3786"
             ],
             [
              0.5555555555555556,
              "#d8576b"
             ],
             [
              0.6666666666666666,
              "#ed7953"
             ],
             [
              0.7777777777777778,
              "#fb9f3a"
             ],
             [
              0.8888888888888888,
              "#fdca26"
             ],
             [
              1,
              "#f0f921"
             ]
            ],
            "type": "surface"
           }
          ],
          "table": [
           {
            "cells": {
             "fill": {
              "color": "#506784"
             },
             "line": {
              "color": "rgb(17,17,17)"
             }
            },
            "header": {
             "fill": {
              "color": "#2a3f5f"
             },
             "line": {
              "color": "rgb(17,17,17)"
             }
            },
            "type": "table"
           }
          ]
         },
         "layout": {
          "annotationdefaults": {
           "arrowcolor": "#f2f5fa",
           "arrowhead": 0,
           "arrowwidth": 1
          },
          "autotypenumbers": "strict",
          "coloraxis": {
           "colorbar": {
            "outlinewidth": 0,
            "ticks": ""
           }
          },
          "colorscale": {
           "diverging": [
            [
             0,
             "#8e0152"
            ],
            [
             0.1,
             "#c51b7d"
            ],
            [
             0.2,
             "#de77ae"
            ],
            [
             0.3,
             "#f1b6da"
            ],
            [
             0.4,
             "#fde0ef"
            ],
            [
             0.5,
             "#f7f7f7"
            ],
            [
             0.6,
             "#e6f5d0"
            ],
            [
             0.7,
             "#b8e186"
            ],
            [
             0.8,
             "#7fbc41"
            ],
            [
             0.9,
             "#4d9221"
            ],
            [
             1,
             "#276419"
            ]
           ],
           "sequential": [
            [
             0,
             "#0d0887"
            ],
            [
             0.1111111111111111,
             "#46039f"
            ],
            [
             0.2222222222222222,
             "#7201a8"
            ],
            [
             0.3333333333333333,
             "#9c179e"
            ],
            [
             0.4444444444444444,
             "#bd3786"
            ],
            [
             0.5555555555555556,
             "#d8576b"
            ],
            [
             0.6666666666666666,
             "#ed7953"
            ],
            [
             0.7777777777777778,
             "#fb9f3a"
            ],
            [
             0.8888888888888888,
             "#fdca26"
            ],
            [
             1,
             "#f0f921"
            ]
           ],
           "sequentialminus": [
            [
             0,
             "#0d0887"
            ],
            [
             0.1111111111111111,
             "#46039f"
            ],
            [
             0.2222222222222222,
             "#7201a8"
            ],
            [
             0.3333333333333333,
             "#9c179e"
            ],
            [
             0.4444444444444444,
             "#bd3786"
            ],
            [
             0.5555555555555556,
             "#d8576b"
            ],
            [
             0.6666666666666666,
             "#ed7953"
            ],
            [
             0.7777777777777778,
             "#fb9f3a"
            ],
            [
             0.8888888888888888,
             "#fdca26"
            ],
            [
             1,
             "#f0f921"
            ]
           ]
          },
          "colorway": [
           "#636efa",
           "#EF553B",
           "#00cc96",
           "#ab63fa",
           "#FFA15A",
           "#19d3f3",
           "#FF6692",
           "#B6E880",
           "#FF97FF",
           "#FECB52"
          ],
          "font": {
           "color": "#f2f5fa"
          },
          "geo": {
           "bgcolor": "rgb(17,17,17)",
           "lakecolor": "rgb(17,17,17)",
           "landcolor": "rgb(17,17,17)",
           "showlakes": true,
           "showland": true,
           "subunitcolor": "#506784"
          },
          "hoverlabel": {
           "align": "left"
          },
          "hovermode": "closest",
          "mapbox": {
           "style": "dark"
          },
          "paper_bgcolor": "rgb(17,17,17)",
          "plot_bgcolor": "rgb(17,17,17)",
          "polar": {
           "angularaxis": {
            "gridcolor": "#506784",
            "linecolor": "#506784",
            "ticks": ""
           },
           "bgcolor": "rgb(17,17,17)",
           "radialaxis": {
            "gridcolor": "#506784",
            "linecolor": "#506784",
            "ticks": ""
           }
          },
          "scene": {
           "xaxis": {
            "backgroundcolor": "rgb(17,17,17)",
            "gridcolor": "#506784",
            "gridwidth": 2,
            "linecolor": "#506784",
            "showbackground": true,
            "ticks": "",
            "zerolinecolor": "#C8D4E3"
           },
           "yaxis": {
            "backgroundcolor": "rgb(17,17,17)",
            "gridcolor": "#506784",
            "gridwidth": 2,
            "linecolor": "#506784",
            "showbackground": true,
            "ticks": "",
            "zerolinecolor": "#C8D4E3"
           },
           "zaxis": {
            "backgroundcolor": "rgb(17,17,17)",
            "gridcolor": "#506784",
            "gridwidth": 2,
            "linecolor": "#506784",
            "showbackground": true,
            "ticks": "",
            "zerolinecolor": "#C8D4E3"
           }
          },
          "shapedefaults": {
           "line": {
            "color": "#f2f5fa"
           }
          },
          "sliderdefaults": {
           "bgcolor": "#C8D4E3",
           "bordercolor": "rgb(17,17,17)",
           "borderwidth": 1,
           "tickwidth": 0
          },
          "ternary": {
           "aaxis": {
            "gridcolor": "#506784",
            "linecolor": "#506784",
            "ticks": ""
           },
           "baxis": {
            "gridcolor": "#506784",
            "linecolor": "#506784",
            "ticks": ""
           },
           "bgcolor": "rgb(17,17,17)",
           "caxis": {
            "gridcolor": "#506784",
            "linecolor": "#506784",
            "ticks": ""
           }
          },
          "title": {
           "x": 0.05
          },
          "updatemenudefaults": {
           "bgcolor": "#506784",
           "borderwidth": 0
          },
          "xaxis": {
           "automargin": true,
           "gridcolor": "#283442",
           "linecolor": "#506784",
           "ticks": "",
           "title": {
            "standoff": 15
           },
           "zerolinecolor": "#283442",
           "zerolinewidth": 2
          },
          "yaxis": {
           "automargin": true,
           "gridcolor": "#283442",
           "linecolor": "#506784",
           "ticks": "",
           "title": {
            "standoff": 15
           },
           "zerolinecolor": "#283442",
           "zerolinewidth": 2
          }
         }
        },
        "width": 900,
        "xaxis": {
         "anchor": "y",
         "domain": [
          0,
          1
         ],
         "side": "top",
         "title": {
          "text": "weekday"
         }
        },
        "yaxis": {
         "anchor": "x",
         "autorange": "reversed",
         "domain": [
          0,
          1
         ],
         "title": {
          "text": "hours"
         }
        }
       }
      }
     },
     "metadata": {},
     "output_type": "display_data"
    }
   ],
   "source": [
    "fig3 = px.imshow(answer3,\n",
    "                labels=dict(x=\"weekday\", y=\"hours\", color=\"number of paitant\") , \n",
    "                aspect=\"auto\", color_continuous_scale='tempo',\n",
    "                template = template_style,\n",
    "                text_auto=True, width=900, height=900)\n",
    "fig3.update_xaxes(side=\"top\")\n",
    "fig3.show()"
   ]
  },
  {
   "cell_type": "markdown",
   "metadata": {},
   "source": [
    "##### Hour heatmap"
   ]
  },
  {
   "cell_type": "code",
   "execution_count": 32,
   "metadata": {},
   "outputs": [
    {
     "data": {
      "application/vnd.plotly.v1+json": {
       "config": {
        "plotlyServerURL": "https://plot.ly"
       },
       "data": [
        {
         "coloraxis": "coloraxis",
         "hovertemplate": "weekday: %{x}<br>hours: %{y}<br>the waiting time per min: %{z}<extra></extra>",
         "name": "0",
         "texttemplate": "%{z}",
         "type": "heatmap",
         "x": [
          "Sunday",
          "Monday",
          "Tuesday",
          "Wednesday",
          "Thursday",
          "Friday",
          "Saturday"
         ],
         "xaxis": "x",
         "y": [
          0,
          1,
          2,
          3,
          4,
          5,
          6,
          7,
          8,
          9,
          10,
          11,
          12,
          13,
          14,
          15,
          16,
          17,
          18,
          19,
          20,
          21,
          22,
          23
         ],
         "yaxis": "y",
         "z": [
          [
           53.3,
           53.1,
           56.7,
           52.6,
           58.3,
           50.9,
           58.1
          ],
          [
           52.1,
           49.1,
           51.5,
           44.8,
           50.4,
           42.8,
           55.3
          ],
          [
           48.2,
           45.2,
           45.7,
           40.3,
           44.8,
           42.2,
           48.2
          ],
          [
           46.2,
           46.1,
           40.5,
           44.6,
           44.5,
           44.7,
           47.3
          ],
          [
           48.7,
           43.7,
           41.1,
           43.3,
           39.9,
           42.5,
           45.8
          ],
          [
           49.7,
           45.5,
           46.5,
           44.7,
           44.9,
           44.2,
           47.8
          ],
          [
           58.1,
           61.5,
           56.3,
           54,
           53.9,
           55,
           58.4
          ],
          [
           63.9,
           55.4,
           53.9,
           51.7,
           53.1,
           60.4,
           62.7
          ],
          [
           58.1,
           50.9,
           56.5,
           49.4,
           50.6,
           51.6,
           61.4
          ],
          [
           59.2,
           51.3,
           51.1,
           49.5,
           52.8,
           51,
           61.9
          ],
          [
           60.1,
           56.1,
           52.8,
           51.8,
           51.1,
           50.6,
           63.1
          ],
          [
           58.1,
           57.4,
           53.5,
           52.8,
           52.1,
           52.5,
           59.9
          ],
          [
           58.1,
           57,
           53,
           51.5,
           51.2,
           52.7,
           59.9
          ],
          [
           59.4,
           60.2,
           55.5,
           55,
           53.4,
           52.9,
           60.2
          ],
          [
           59.4,
           55.6,
           52.2,
           53.3,
           51.3,
           53.2,
           61.7
          ],
          [
           58.2,
           51.9,
           49.1,
           49.9,
           47.5,
           50.7,
           62
          ],
          [
           61.7,
           50.2,
           46.9,
           47.8,
           46.8,
           48.8,
           62.3
          ],
          [
           59.1,
           48.9,
           45.7,
           46.3,
           45.2,
           46.8,
           63
          ],
          [
           55.7,
           46.5,
           44.3,
           44.8,
           43.2,
           46.5,
           55
          ],
          [
           53.5,
           47.5,
           44,
           45.1,
           44.5,
           47.5,
           53
          ],
          [
           60.9,
           56.5,
           54.1,
           54.5,
           53.9,
           59.2,
           58.8
          ],
          [
           59.5,
           62.7,
           63.6,
           63.9,
           61.3,
           63.7,
           63.8
          ],
          [
           59.9,
           67,
           62.3,
           66.9,
           62.5,
           64.9,
           59.4
          ],
          [
           59.6,
           64,
           59.2,
           63,
           58.3,
           63.1,
           56.3
          ]
         ]
        }
       ],
       "layout": {
        "coloraxis": {
         "colorbar": {
          "title": {
           "text": "the waiting time per min"
          }
         },
         "colorscale": [
          [
           0,
           "rgb(254, 245, 244)"
          ],
          [
           0.09090909090909091,
           "rgb(222, 224, 210)"
          ],
          [
           0.18181818181818182,
           "rgb(189, 206, 181)"
          ],
          [
           0.2727272727272727,
           "rgb(153, 189, 156)"
          ],
          [
           0.36363636363636365,
           "rgb(110, 173, 138)"
          ],
          [
           0.45454545454545453,
           "rgb(65, 157, 129)"
          ],
          [
           0.5454545454545454,
           "rgb(25, 137, 125)"
          ],
          [
           0.6363636363636364,
           "rgb(18, 116, 117)"
          ],
          [
           0.7272727272727273,
           "rgb(25, 94, 106)"
          ],
          [
           0.8181818181818182,
           "rgb(28, 72, 93)"
          ],
          [
           0.9090909090909091,
           "rgb(25, 51, 80)"
          ],
          [
           1,
           "rgb(20, 29, 67)"
          ]
         ]
        },
        "height": 900,
        "margin": {
         "t": 60
        },
        "template": {
         "data": {
          "bar": [
           {
            "error_x": {
             "color": "#f2f5fa"
            },
            "error_y": {
             "color": "#f2f5fa"
            },
            "marker": {
             "line": {
              "color": "rgb(17,17,17)",
              "width": 0.5
             },
             "pattern": {
              "fillmode": "overlay",
              "size": 10,
              "solidity": 0.2
             }
            },
            "type": "bar"
           }
          ],
          "barpolar": [
           {
            "marker": {
             "line": {
              "color": "rgb(17,17,17)",
              "width": 0.5
             },
             "pattern": {
              "fillmode": "overlay",
              "size": 10,
              "solidity": 0.2
             }
            },
            "type": "barpolar"
           }
          ],
          "carpet": [
           {
            "aaxis": {
             "endlinecolor": "#A2B1C6",
             "gridcolor": "#506784",
             "linecolor": "#506784",
             "minorgridcolor": "#506784",
             "startlinecolor": "#A2B1C6"
            },
            "baxis": {
             "endlinecolor": "#A2B1C6",
             "gridcolor": "#506784",
             "linecolor": "#506784",
             "minorgridcolor": "#506784",
             "startlinecolor": "#A2B1C6"
            },
            "type": "carpet"
           }
          ],
          "choropleth": [
           {
            "colorbar": {
             "outlinewidth": 0,
             "ticks": ""
            },
            "type": "choropleth"
           }
          ],
          "contour": [
           {
            "colorbar": {
             "outlinewidth": 0,
             "ticks": ""
            },
            "colorscale": [
             [
              0,
              "#0d0887"
             ],
             [
              0.1111111111111111,
              "#46039f"
             ],
             [
              0.2222222222222222,
              "#7201a8"
             ],
             [
              0.3333333333333333,
              "#9c179e"
             ],
             [
              0.4444444444444444,
              "#bd3786"
             ],
             [
              0.5555555555555556,
              "#d8576b"
             ],
             [
              0.6666666666666666,
              "#ed7953"
             ],
             [
              0.7777777777777778,
              "#fb9f3a"
             ],
             [
              0.8888888888888888,
              "#fdca26"
             ],
             [
              1,
              "#f0f921"
             ]
            ],
            "type": "contour"
           }
          ],
          "contourcarpet": [
           {
            "colorbar": {
             "outlinewidth": 0,
             "ticks": ""
            },
            "type": "contourcarpet"
           }
          ],
          "heatmap": [
           {
            "colorbar": {
             "outlinewidth": 0,
             "ticks": ""
            },
            "colorscale": [
             [
              0,
              "#0d0887"
             ],
             [
              0.1111111111111111,
              "#46039f"
             ],
             [
              0.2222222222222222,
              "#7201a8"
             ],
             [
              0.3333333333333333,
              "#9c179e"
             ],
             [
              0.4444444444444444,
              "#bd3786"
             ],
             [
              0.5555555555555556,
              "#d8576b"
             ],
             [
              0.6666666666666666,
              "#ed7953"
             ],
             [
              0.7777777777777778,
              "#fb9f3a"
             ],
             [
              0.8888888888888888,
              "#fdca26"
             ],
             [
              1,
              "#f0f921"
             ]
            ],
            "type": "heatmap"
           }
          ],
          "heatmapgl": [
           {
            "colorbar": {
             "outlinewidth": 0,
             "ticks": ""
            },
            "colorscale": [
             [
              0,
              "#0d0887"
             ],
             [
              0.1111111111111111,
              "#46039f"
             ],
             [
              0.2222222222222222,
              "#7201a8"
             ],
             [
              0.3333333333333333,
              "#9c179e"
             ],
             [
              0.4444444444444444,
              "#bd3786"
             ],
             [
              0.5555555555555556,
              "#d8576b"
             ],
             [
              0.6666666666666666,
              "#ed7953"
             ],
             [
              0.7777777777777778,
              "#fb9f3a"
             ],
             [
              0.8888888888888888,
              "#fdca26"
             ],
             [
              1,
              "#f0f921"
             ]
            ],
            "type": "heatmapgl"
           }
          ],
          "histogram": [
           {
            "marker": {
             "pattern": {
              "fillmode": "overlay",
              "size": 10,
              "solidity": 0.2
             }
            },
            "type": "histogram"
           }
          ],
          "histogram2d": [
           {
            "colorbar": {
             "outlinewidth": 0,
             "ticks": ""
            },
            "colorscale": [
             [
              0,
              "#0d0887"
             ],
             [
              0.1111111111111111,
              "#46039f"
             ],
             [
              0.2222222222222222,
              "#7201a8"
             ],
             [
              0.3333333333333333,
              "#9c179e"
             ],
             [
              0.4444444444444444,
              "#bd3786"
             ],
             [
              0.5555555555555556,
              "#d8576b"
             ],
             [
              0.6666666666666666,
              "#ed7953"
             ],
             [
              0.7777777777777778,
              "#fb9f3a"
             ],
             [
              0.8888888888888888,
              "#fdca26"
             ],
             [
              1,
              "#f0f921"
             ]
            ],
            "type": "histogram2d"
           }
          ],
          "histogram2dcontour": [
           {
            "colorbar": {
             "outlinewidth": 0,
             "ticks": ""
            },
            "colorscale": [
             [
              0,
              "#0d0887"
             ],
             [
              0.1111111111111111,
              "#46039f"
             ],
             [
              0.2222222222222222,
              "#7201a8"
             ],
             [
              0.3333333333333333,
              "#9c179e"
             ],
             [
              0.4444444444444444,
              "#bd3786"
             ],
             [
              0.5555555555555556,
              "#d8576b"
             ],
             [
              0.6666666666666666,
              "#ed7953"
             ],
             [
              0.7777777777777778,
              "#fb9f3a"
             ],
             [
              0.8888888888888888,
              "#fdca26"
             ],
             [
              1,
              "#f0f921"
             ]
            ],
            "type": "histogram2dcontour"
           }
          ],
          "mesh3d": [
           {
            "colorbar": {
             "outlinewidth": 0,
             "ticks": ""
            },
            "type": "mesh3d"
           }
          ],
          "parcoords": [
           {
            "line": {
             "colorbar": {
              "outlinewidth": 0,
              "ticks": ""
             }
            },
            "type": "parcoords"
           }
          ],
          "pie": [
           {
            "automargin": true,
            "type": "pie"
           }
          ],
          "scatter": [
           {
            "marker": {
             "line": {
              "color": "#283442"
             }
            },
            "type": "scatter"
           }
          ],
          "scatter3d": [
           {
            "line": {
             "colorbar": {
              "outlinewidth": 0,
              "ticks": ""
             }
            },
            "marker": {
             "colorbar": {
              "outlinewidth": 0,
              "ticks": ""
             }
            },
            "type": "scatter3d"
           }
          ],
          "scattercarpet": [
           {
            "marker": {
             "colorbar": {
              "outlinewidth": 0,
              "ticks": ""
             }
            },
            "type": "scattercarpet"
           }
          ],
          "scattergeo": [
           {
            "marker": {
             "colorbar": {
              "outlinewidth": 0,
              "ticks": ""
             }
            },
            "type": "scattergeo"
           }
          ],
          "scattergl": [
           {
            "marker": {
             "line": {
              "color": "#283442"
             }
            },
            "type": "scattergl"
           }
          ],
          "scattermapbox": [
           {
            "marker": {
             "colorbar": {
              "outlinewidth": 0,
              "ticks": ""
             }
            },
            "type": "scattermapbox"
           }
          ],
          "scatterpolar": [
           {
            "marker": {
             "colorbar": {
              "outlinewidth": 0,
              "ticks": ""
             }
            },
            "type": "scatterpolar"
           }
          ],
          "scatterpolargl": [
           {
            "marker": {
             "colorbar": {
              "outlinewidth": 0,
              "ticks": ""
             }
            },
            "type": "scatterpolargl"
           }
          ],
          "scatterternary": [
           {
            "marker": {
             "colorbar": {
              "outlinewidth": 0,
              "ticks": ""
             }
            },
            "type": "scatterternary"
           }
          ],
          "surface": [
           {
            "colorbar": {
             "outlinewidth": 0,
             "ticks": ""
            },
            "colorscale": [
             [
              0,
              "#0d0887"
             ],
             [
              0.1111111111111111,
              "#46039f"
             ],
             [
              0.2222222222222222,
              "#7201a8"
             ],
             [
              0.3333333333333333,
              "#9c179e"
             ],
             [
              0.4444444444444444,
              "#bd3786"
             ],
             [
              0.5555555555555556,
              "#d8576b"
             ],
             [
              0.6666666666666666,
              "#ed7953"
             ],
             [
              0.7777777777777778,
              "#fb9f3a"
             ],
             [
              0.8888888888888888,
              "#fdca26"
             ],
             [
              1,
              "#f0f921"
             ]
            ],
            "type": "surface"
           }
          ],
          "table": [
           {
            "cells": {
             "fill": {
              "color": "#506784"
             },
             "line": {
              "color": "rgb(17,17,17)"
             }
            },
            "header": {
             "fill": {
              "color": "#2a3f5f"
             },
             "line": {
              "color": "rgb(17,17,17)"
             }
            },
            "type": "table"
           }
          ]
         },
         "layout": {
          "annotationdefaults": {
           "arrowcolor": "#f2f5fa",
           "arrowhead": 0,
           "arrowwidth": 1
          },
          "autotypenumbers": "strict",
          "coloraxis": {
           "colorbar": {
            "outlinewidth": 0,
            "ticks": ""
           }
          },
          "colorscale": {
           "diverging": [
            [
             0,
             "#8e0152"
            ],
            [
             0.1,
             "#c51b7d"
            ],
            [
             0.2,
             "#de77ae"
            ],
            [
             0.3,
             "#f1b6da"
            ],
            [
             0.4,
             "#fde0ef"
            ],
            [
             0.5,
             "#f7f7f7"
            ],
            [
             0.6,
             "#e6f5d0"
            ],
            [
             0.7,
             "#b8e186"
            ],
            [
             0.8,
             "#7fbc41"
            ],
            [
             0.9,
             "#4d9221"
            ],
            [
             1,
             "#276419"
            ]
           ],
           "sequential": [
            [
             0,
             "#0d0887"
            ],
            [
             0.1111111111111111,
             "#46039f"
            ],
            [
             0.2222222222222222,
             "#7201a8"
            ],
            [
             0.3333333333333333,
             "#9c179e"
            ],
            [
             0.4444444444444444,
             "#bd3786"
            ],
            [
             0.5555555555555556,
             "#d8576b"
            ],
            [
             0.6666666666666666,
             "#ed7953"
            ],
            [
             0.7777777777777778,
             "#fb9f3a"
            ],
            [
             0.8888888888888888,
             "#fdca26"
            ],
            [
             1,
             "#f0f921"
            ]
           ],
           "sequentialminus": [
            [
             0,
             "#0d0887"
            ],
            [
             0.1111111111111111,
             "#46039f"
            ],
            [
             0.2222222222222222,
             "#7201a8"
            ],
            [
             0.3333333333333333,
             "#9c179e"
            ],
            [
             0.4444444444444444,
             "#bd3786"
            ],
            [
             0.5555555555555556,
             "#d8576b"
            ],
            [
             0.6666666666666666,
             "#ed7953"
            ],
            [
             0.7777777777777778,
             "#fb9f3a"
            ],
            [
             0.8888888888888888,
             "#fdca26"
            ],
            [
             1,
             "#f0f921"
            ]
           ]
          },
          "colorway": [
           "#636efa",
           "#EF553B",
           "#00cc96",
           "#ab63fa",
           "#FFA15A",
           "#19d3f3",
           "#FF6692",
           "#B6E880",
           "#FF97FF",
           "#FECB52"
          ],
          "font": {
           "color": "#f2f5fa"
          },
          "geo": {
           "bgcolor": "rgb(17,17,17)",
           "lakecolor": "rgb(17,17,17)",
           "landcolor": "rgb(17,17,17)",
           "showlakes": true,
           "showland": true,
           "subunitcolor": "#506784"
          },
          "hoverlabel": {
           "align": "left"
          },
          "hovermode": "closest",
          "mapbox": {
           "style": "dark"
          },
          "paper_bgcolor": "rgb(17,17,17)",
          "plot_bgcolor": "rgb(17,17,17)",
          "polar": {
           "angularaxis": {
            "gridcolor": "#506784",
            "linecolor": "#506784",
            "ticks": ""
           },
           "bgcolor": "rgb(17,17,17)",
           "radialaxis": {
            "gridcolor": "#506784",
            "linecolor": "#506784",
            "ticks": ""
           }
          },
          "scene": {
           "xaxis": {
            "backgroundcolor": "rgb(17,17,17)",
            "gridcolor": "#506784",
            "gridwidth": 2,
            "linecolor": "#506784",
            "showbackground": true,
            "ticks": "",
            "zerolinecolor": "#C8D4E3"
           },
           "yaxis": {
            "backgroundcolor": "rgb(17,17,17)",
            "gridcolor": "#506784",
            "gridwidth": 2,
            "linecolor": "#506784",
            "showbackground": true,
            "ticks": "",
            "zerolinecolor": "#C8D4E3"
           },
           "zaxis": {
            "backgroundcolor": "rgb(17,17,17)",
            "gridcolor": "#506784",
            "gridwidth": 2,
            "linecolor": "#506784",
            "showbackground": true,
            "ticks": "",
            "zerolinecolor": "#C8D4E3"
           }
          },
          "shapedefaults": {
           "line": {
            "color": "#f2f5fa"
           }
          },
          "sliderdefaults": {
           "bgcolor": "#C8D4E3",
           "bordercolor": "rgb(17,17,17)",
           "borderwidth": 1,
           "tickwidth": 0
          },
          "ternary": {
           "aaxis": {
            "gridcolor": "#506784",
            "linecolor": "#506784",
            "ticks": ""
           },
           "baxis": {
            "gridcolor": "#506784",
            "linecolor": "#506784",
            "ticks": ""
           },
           "bgcolor": "rgb(17,17,17)",
           "caxis": {
            "gridcolor": "#506784",
            "linecolor": "#506784",
            "ticks": ""
           }
          },
          "title": {
           "x": 0.05
          },
          "updatemenudefaults": {
           "bgcolor": "#506784",
           "borderwidth": 0
          },
          "xaxis": {
           "automargin": true,
           "gridcolor": "#283442",
           "linecolor": "#506784",
           "ticks": "",
           "title": {
            "standoff": 15
           },
           "zerolinecolor": "#283442",
           "zerolinewidth": 2
          },
          "yaxis": {
           "automargin": true,
           "gridcolor": "#283442",
           "linecolor": "#506784",
           "ticks": "",
           "title": {
            "standoff": 15
           },
           "zerolinecolor": "#283442",
           "zerolinewidth": 2
          }
         }
        },
        "width": 900,
        "xaxis": {
         "anchor": "y",
         "domain": [
          0,
          1
         ],
         "side": "top",
         "title": {
          "text": "weekday"
         }
        },
        "yaxis": {
         "anchor": "x",
         "autorange": "reversed",
         "domain": [
          0,
          1
         ],
         "title": {
          "text": "hours"
         }
        }
       }
      }
     },
     "metadata": {},
     "output_type": "display_data"
    }
   ],
   "source": [
    "fig4 = px.imshow(answer4,\n",
    "                labels=dict(x=\"weekday\", y=\"hours\",\n",
    "                            color=\"the waiting time per min\") , \n",
    "                            aspect=\"auto\", color_continuous_scale='tempo',\n",
    "                            template = template_style,\n",
    "                            text_auto=True, width=900, height=900)\n",
    "fig4.update_xaxes(side=\"top\")\n",
    "fig4.show()"
   ]
  },
  {
   "cell_type": "markdown",
   "metadata": {},
   "source": [
    "##### Bar chart"
   ]
  },
  {
   "cell_type": "code",
   "execution_count": 33,
   "metadata": {},
   "outputs": [
    {
     "data": {
      "application/vnd.plotly.v1+json": {
       "config": {
        "plotlyServerURL": "https://plot.ly"
       },
       "data": [
        {
         "alignmentgroup": "True",
         "hovertemplate": "the hour=%{x}<br>the waiting time per m=%{y}<extra></extra>",
         "legendgroup": "",
         "marker": {
          "color": "#636efa",
          "pattern": {
           "shape": ""
          }
         },
         "name": "",
         "offsetgroup": "",
         "orientation": "v",
         "showlegend": false,
         "textposition": "auto",
         "texttemplate": "%{y:.2s}",
         "type": "bar",
         "x": [
          0,
          1,
          2,
          3,
          4,
          5,
          6,
          7,
          8,
          9,
          10,
          11,
          12,
          13,
          14,
          15,
          16,
          17,
          18,
          19,
          20,
          21,
          22,
          23
         ],
         "xaxis": "x",
         "y": [
          55,
          50,
          45,
          45,
          44,
          47,
          57,
          57,
          53,
          53,
          55,
          55,
          55,
          57,
          55,
          52,
          52,
          51,
          48,
          48,
          57,
          63,
          63,
          60
         ],
         "yaxis": "y"
        },
        {
         "hovertemplate": "hours=%{x}<br>number_of_patient=%{text}<extra></extra>",
         "legendgroup": "",
         "line": {
          "color": "red",
          "dash": "solid",
          "width": 6
         },
         "marker": {
          "symbol": "circle"
         },
         "mode": "lines+markers+text",
         "name": "number_of_patient",
         "orientation": "v",
         "showlegend": true,
         "text": [
          8208,
          5880,
          4401,
          3793,
          3256,
          2682,
          2754,
          5085,
          9649,
          11048,
          12948,
          13858,
          13894,
          13279,
          12809,
          12220,
          11826,
          11856,
          11870,
          12120,
          12096,
          12772,
          12290,
          10609
         ],
         "type": "scatter",
         "x": [
          0,
          1,
          2,
          3,
          4,
          5,
          6,
          7,
          8,
          9,
          10,
          11,
          12,
          13,
          14,
          15,
          16,
          17,
          18,
          19,
          20,
          21,
          22,
          23
         ],
         "xaxis": "x",
         "y": [
          8208,
          5880,
          4401,
          3793,
          3256,
          2682,
          2754,
          5085,
          9649,
          11048,
          12948,
          13858,
          13894,
          13279,
          12809,
          12220,
          11826,
          11856,
          11870,
          12120,
          12096,
          12772,
          12290,
          10609
         ],
         "yaxis": "y2"
        }
       ],
       "layout": {
        "barmode": "relative",
        "legend": {
         "tracegroupgap": 0
        },
        "margin": {
         "t": 60
        },
        "template": {
         "data": {
          "bar": [
           {
            "error_x": {
             "color": "#f2f5fa"
            },
            "error_y": {
             "color": "#f2f5fa"
            },
            "marker": {
             "line": {
              "color": "rgb(17,17,17)",
              "width": 0.5
             },
             "pattern": {
              "fillmode": "overlay",
              "size": 10,
              "solidity": 0.2
             }
            },
            "type": "bar"
           }
          ],
          "barpolar": [
           {
            "marker": {
             "line": {
              "color": "rgb(17,17,17)",
              "width": 0.5
             },
             "pattern": {
              "fillmode": "overlay",
              "size": 10,
              "solidity": 0.2
             }
            },
            "type": "barpolar"
           }
          ],
          "carpet": [
           {
            "aaxis": {
             "endlinecolor": "#A2B1C6",
             "gridcolor": "#506784",
             "linecolor": "#506784",
             "minorgridcolor": "#506784",
             "startlinecolor": "#A2B1C6"
            },
            "baxis": {
             "endlinecolor": "#A2B1C6",
             "gridcolor": "#506784",
             "linecolor": "#506784",
             "minorgridcolor": "#506784",
             "startlinecolor": "#A2B1C6"
            },
            "type": "carpet"
           }
          ],
          "choropleth": [
           {
            "colorbar": {
             "outlinewidth": 0,
             "ticks": ""
            },
            "type": "choropleth"
           }
          ],
          "contour": [
           {
            "colorbar": {
             "outlinewidth": 0,
             "ticks": ""
            },
            "colorscale": [
             [
              0,
              "#0d0887"
             ],
             [
              0.1111111111111111,
              "#46039f"
             ],
             [
              0.2222222222222222,
              "#7201a8"
             ],
             [
              0.3333333333333333,
              "#9c179e"
             ],
             [
              0.4444444444444444,
              "#bd3786"
             ],
             [
              0.5555555555555556,
              "#d8576b"
             ],
             [
              0.6666666666666666,
              "#ed7953"
             ],
             [
              0.7777777777777778,
              "#fb9f3a"
             ],
             [
              0.8888888888888888,
              "#fdca26"
             ],
             [
              1,
              "#f0f921"
             ]
            ],
            "type": "contour"
           }
          ],
          "contourcarpet": [
           {
            "colorbar": {
             "outlinewidth": 0,
             "ticks": ""
            },
            "type": "contourcarpet"
           }
          ],
          "heatmap": [
           {
            "colorbar": {
             "outlinewidth": 0,
             "ticks": ""
            },
            "colorscale": [
             [
              0,
              "#0d0887"
             ],
             [
              0.1111111111111111,
              "#46039f"
             ],
             [
              0.2222222222222222,
              "#7201a8"
             ],
             [
              0.3333333333333333,
              "#9c179e"
             ],
             [
              0.4444444444444444,
              "#bd3786"
             ],
             [
              0.5555555555555556,
              "#d8576b"
             ],
             [
              0.6666666666666666,
              "#ed7953"
             ],
             [
              0.7777777777777778,
              "#fb9f3a"
             ],
             [
              0.8888888888888888,
              "#fdca26"
             ],
             [
              1,
              "#f0f921"
             ]
            ],
            "type": "heatmap"
           }
          ],
          "heatmapgl": [
           {
            "colorbar": {
             "outlinewidth": 0,
             "ticks": ""
            },
            "colorscale": [
             [
              0,
              "#0d0887"
             ],
             [
              0.1111111111111111,
              "#46039f"
             ],
             [
              0.2222222222222222,
              "#7201a8"
             ],
             [
              0.3333333333333333,
              "#9c179e"
             ],
             [
              0.4444444444444444,
              "#bd3786"
             ],
             [
              0.5555555555555556,
              "#d8576b"
             ],
             [
              0.6666666666666666,
              "#ed7953"
             ],
             [
              0.7777777777777778,
              "#fb9f3a"
             ],
             [
              0.8888888888888888,
              "#fdca26"
             ],
             [
              1,
              "#f0f921"
             ]
            ],
            "type": "heatmapgl"
           }
          ],
          "histogram": [
           {
            "marker": {
             "pattern": {
              "fillmode": "overlay",
              "size": 10,
              "solidity": 0.2
             }
            },
            "type": "histogram"
           }
          ],
          "histogram2d": [
           {
            "colorbar": {
             "outlinewidth": 0,
             "ticks": ""
            },
            "colorscale": [
             [
              0,
              "#0d0887"
             ],
             [
              0.1111111111111111,
              "#46039f"
             ],
             [
              0.2222222222222222,
              "#7201a8"
             ],
             [
              0.3333333333333333,
              "#9c179e"
             ],
             [
              0.4444444444444444,
              "#bd3786"
             ],
             [
              0.5555555555555556,
              "#d8576b"
             ],
             [
              0.6666666666666666,
              "#ed7953"
             ],
             [
              0.7777777777777778,
              "#fb9f3a"
             ],
             [
              0.8888888888888888,
              "#fdca26"
             ],
             [
              1,
              "#f0f921"
             ]
            ],
            "type": "histogram2d"
           }
          ],
          "histogram2dcontour": [
           {
            "colorbar": {
             "outlinewidth": 0,
             "ticks": ""
            },
            "colorscale": [
             [
              0,
              "#0d0887"
             ],
             [
              0.1111111111111111,
              "#46039f"
             ],
             [
              0.2222222222222222,
              "#7201a8"
             ],
             [
              0.3333333333333333,
              "#9c179e"
             ],
             [
              0.4444444444444444,
              "#bd3786"
             ],
             [
              0.5555555555555556,
              "#d8576b"
             ],
             [
              0.6666666666666666,
              "#ed7953"
             ],
             [
              0.7777777777777778,
              "#fb9f3a"
             ],
             [
              0.8888888888888888,
              "#fdca26"
             ],
             [
              1,
              "#f0f921"
             ]
            ],
            "type": "histogram2dcontour"
           }
          ],
          "mesh3d": [
           {
            "colorbar": {
             "outlinewidth": 0,
             "ticks": ""
            },
            "type": "mesh3d"
           }
          ],
          "parcoords": [
           {
            "line": {
             "colorbar": {
              "outlinewidth": 0,
              "ticks": ""
             }
            },
            "type": "parcoords"
           }
          ],
          "pie": [
           {
            "automargin": true,
            "type": "pie"
           }
          ],
          "scatter": [
           {
            "marker": {
             "line": {
              "color": "#283442"
             }
            },
            "type": "scatter"
           }
          ],
          "scatter3d": [
           {
            "line": {
             "colorbar": {
              "outlinewidth": 0,
              "ticks": ""
             }
            },
            "marker": {
             "colorbar": {
              "outlinewidth": 0,
              "ticks": ""
             }
            },
            "type": "scatter3d"
           }
          ],
          "scattercarpet": [
           {
            "marker": {
             "colorbar": {
              "outlinewidth": 0,
              "ticks": ""
             }
            },
            "type": "scattercarpet"
           }
          ],
          "scattergeo": [
           {
            "marker": {
             "colorbar": {
              "outlinewidth": 0,
              "ticks": ""
             }
            },
            "type": "scattergeo"
           }
          ],
          "scattergl": [
           {
            "marker": {
             "line": {
              "color": "#283442"
             }
            },
            "type": "scattergl"
           }
          ],
          "scattermapbox": [
           {
            "marker": {
             "colorbar": {
              "outlinewidth": 0,
              "ticks": ""
             }
            },
            "type": "scattermapbox"
           }
          ],
          "scatterpolar": [
           {
            "marker": {
             "colorbar": {
              "outlinewidth": 0,
              "ticks": ""
             }
            },
            "type": "scatterpolar"
           }
          ],
          "scatterpolargl": [
           {
            "marker": {
             "colorbar": {
              "outlinewidth": 0,
              "ticks": ""
             }
            },
            "type": "scatterpolargl"
           }
          ],
          "scatterternary": [
           {
            "marker": {
             "colorbar": {
              "outlinewidth": 0,
              "ticks": ""
             }
            },
            "type": "scatterternary"
           }
          ],
          "surface": [
           {
            "colorbar": {
             "outlinewidth": 0,
             "ticks": ""
            },
            "colorscale": [
             [
              0,
              "#0d0887"
             ],
             [
              0.1111111111111111,
              "#46039f"
             ],
             [
              0.2222222222222222,
              "#7201a8"
             ],
             [
              0.3333333333333333,
              "#9c179e"
             ],
             [
              0.4444444444444444,
              "#bd3786"
             ],
             [
              0.5555555555555556,
              "#d8576b"
             ],
             [
              0.6666666666666666,
              "#ed7953"
             ],
             [
              0.7777777777777778,
              "#fb9f3a"
             ],
             [
              0.8888888888888888,
              "#fdca26"
             ],
             [
              1,
              "#f0f921"
             ]
            ],
            "type": "surface"
           }
          ],
          "table": [
           {
            "cells": {
             "fill": {
              "color": "#506784"
             },
             "line": {
              "color": "rgb(17,17,17)"
             }
            },
            "header": {
             "fill": {
              "color": "#2a3f5f"
             },
             "line": {
              "color": "rgb(17,17,17)"
             }
            },
            "type": "table"
           }
          ]
         },
         "layout": {
          "annotationdefaults": {
           "arrowcolor": "#f2f5fa",
           "arrowhead": 0,
           "arrowwidth": 1
          },
          "autotypenumbers": "strict",
          "coloraxis": {
           "colorbar": {
            "outlinewidth": 0,
            "ticks": ""
           }
          },
          "colorscale": {
           "diverging": [
            [
             0,
             "#8e0152"
            ],
            [
             0.1,
             "#c51b7d"
            ],
            [
             0.2,
             "#de77ae"
            ],
            [
             0.3,
             "#f1b6da"
            ],
            [
             0.4,
             "#fde0ef"
            ],
            [
             0.5,
             "#f7f7f7"
            ],
            [
             0.6,
             "#e6f5d0"
            ],
            [
             0.7,
             "#b8e186"
            ],
            [
             0.8,
             "#7fbc41"
            ],
            [
             0.9,
             "#4d9221"
            ],
            [
             1,
             "#276419"
            ]
           ],
           "sequential": [
            [
             0,
             "#0d0887"
            ],
            [
             0.1111111111111111,
             "#46039f"
            ],
            [
             0.2222222222222222,
             "#7201a8"
            ],
            [
             0.3333333333333333,
             "#9c179e"
            ],
            [
             0.4444444444444444,
             "#bd3786"
            ],
            [
             0.5555555555555556,
             "#d8576b"
            ],
            [
             0.6666666666666666,
             "#ed7953"
            ],
            [
             0.7777777777777778,
             "#fb9f3a"
            ],
            [
             0.8888888888888888,
             "#fdca26"
            ],
            [
             1,
             "#f0f921"
            ]
           ],
           "sequentialminus": [
            [
             0,
             "#0d0887"
            ],
            [
             0.1111111111111111,
             "#46039f"
            ],
            [
             0.2222222222222222,
             "#7201a8"
            ],
            [
             0.3333333333333333,
             "#9c179e"
            ],
            [
             0.4444444444444444,
             "#bd3786"
            ],
            [
             0.5555555555555556,
             "#d8576b"
            ],
            [
             0.6666666666666666,
             "#ed7953"
            ],
            [
             0.7777777777777778,
             "#fb9f3a"
            ],
            [
             0.8888888888888888,
             "#fdca26"
            ],
            [
             1,
             "#f0f921"
            ]
           ]
          },
          "colorway": [
           "#636efa",
           "#EF553B",
           "#00cc96",
           "#ab63fa",
           "#FFA15A",
           "#19d3f3",
           "#FF6692",
           "#B6E880",
           "#FF97FF",
           "#FECB52"
          ],
          "font": {
           "color": "#f2f5fa"
          },
          "geo": {
           "bgcolor": "rgb(17,17,17)",
           "lakecolor": "rgb(17,17,17)",
           "landcolor": "rgb(17,17,17)",
           "showlakes": true,
           "showland": true,
           "subunitcolor": "#506784"
          },
          "hoverlabel": {
           "align": "left"
          },
          "hovermode": "closest",
          "mapbox": {
           "style": "dark"
          },
          "paper_bgcolor": "rgb(17,17,17)",
          "plot_bgcolor": "rgb(17,17,17)",
          "polar": {
           "angularaxis": {
            "gridcolor": "#506784",
            "linecolor": "#506784",
            "ticks": ""
           },
           "bgcolor": "rgb(17,17,17)",
           "radialaxis": {
            "gridcolor": "#506784",
            "linecolor": "#506784",
            "ticks": ""
           }
          },
          "scene": {
           "xaxis": {
            "backgroundcolor": "rgb(17,17,17)",
            "gridcolor": "#506784",
            "gridwidth": 2,
            "linecolor": "#506784",
            "showbackground": true,
            "ticks": "",
            "zerolinecolor": "#C8D4E3"
           },
           "yaxis": {
            "backgroundcolor": "rgb(17,17,17)",
            "gridcolor": "#506784",
            "gridwidth": 2,
            "linecolor": "#506784",
            "showbackground": true,
            "ticks": "",
            "zerolinecolor": "#C8D4E3"
           },
           "zaxis": {
            "backgroundcolor": "rgb(17,17,17)",
            "gridcolor": "#506784",
            "gridwidth": 2,
            "linecolor": "#506784",
            "showbackground": true,
            "ticks": "",
            "zerolinecolor": "#C8D4E3"
           }
          },
          "shapedefaults": {
           "line": {
            "color": "#f2f5fa"
           }
          },
          "sliderdefaults": {
           "bgcolor": "#C8D4E3",
           "bordercolor": "rgb(17,17,17)",
           "borderwidth": 1,
           "tickwidth": 0
          },
          "ternary": {
           "aaxis": {
            "gridcolor": "#506784",
            "linecolor": "#506784",
            "ticks": ""
           },
           "baxis": {
            "gridcolor": "#506784",
            "linecolor": "#506784",
            "ticks": ""
           },
           "bgcolor": "rgb(17,17,17)",
           "caxis": {
            "gridcolor": "#506784",
            "linecolor": "#506784",
            "ticks": ""
           }
          },
          "title": {
           "x": 0.05
          },
          "updatemenudefaults": {
           "bgcolor": "#506784",
           "borderwidth": 0
          },
          "xaxis": {
           "automargin": true,
           "gridcolor": "#283442",
           "linecolor": "#506784",
           "ticks": "",
           "title": {
            "standoff": 15
           },
           "zerolinecolor": "#283442",
           "zerolinewidth": 2
          },
          "yaxis": {
           "automargin": true,
           "gridcolor": "#283442",
           "linecolor": "#506784",
           "ticks": "",
           "title": {
            "standoff": 15
           },
           "zerolinecolor": "#283442",
           "zerolinewidth": 2
          }
         }
        },
        "xaxis": {
         "anchor": "y",
         "domain": [
          0,
          1
         ],
         "title": {
          "text": "the hour"
         }
        },
        "yaxis": {
         "anchor": "x",
         "domain": [
          0,
          1
         ],
         "title": {
          "text": "the waiting time per m"
         }
        },
        "yaxis2": {
         "overlaying": "y",
         "side": "right"
        }
       }
      }
     },
     "metadata": {},
     "output_type": "display_data"
    }
   ],
   "source": [
    "def grouped_data(column_name):\n",
    "    '''\n",
    "    Groupby column and return DataFrame\n",
    "    Input: Column Name\n",
    "    '''\n",
    "    df_tmp = df_analisys.groupby(column_name)[['waiting_ber_munets']].mean().round(0)\n",
    "    df_tmp2 = df_analisys[column_name].value_counts()      #this for concat\n",
    "    \n",
    "    pivot_f = pd.concat([df_tmp, df_tmp2.rename('number_of_patient')],axis=1)\n",
    "    pivot_f.reset_index(inplace=True)\n",
    "    pivot_f = pivot_f.rename(columns={'index': column_name })\n",
    "    return pivot_f\n",
    "\n",
    "answer5 = grouped_data('hours')\n",
    "link_size = [3,6]\n",
    "fig = px.bar(x=answer5['hours'],\n",
    "             y=answer5['waiting_ber_munets'],\n",
    "             template= template_style,\n",
    "             text_auto='.2s',\n",
    "             labels={'x':'the hour',\n",
    "                     'y':'the waiting time per m'}\n",
    "             ).add_traces(\n",
    "      px.line(answer5, x=answer5['hours'], text='number_of_patient',\n",
    "             y=answer5['number_of_patient'],markers=True).update_traces(yaxis=\"y2\",\n",
    "             showlegend=True, line=dict(color = 'red', width=link_size[1]), name=\"number_of_patient\").data)        \n",
    "fig.update_layout(yaxis2={\"side\":\"right\", \"overlaying\":\"y\"})\n",
    "fig.show()"
   ]
  },
  {
   "cell_type": "markdown",
   "metadata": {},
   "source": [
    "##### Weekly chart"
   ]
  },
  {
   "cell_type": "code",
   "execution_count": 34,
   "metadata": {},
   "outputs": [
    {
     "data": {
      "application/vnd.plotly.v1+json": {
       "config": {
        "plotlyServerURL": "https://plot.ly"
       },
       "data": [
        {
         "alignmentgroup": "True",
         "hovertemplate": "weekday=%{x}<br>number_of_patient=%{y}<br>the waiting time per m=%{marker.color}<extra></extra>",
         "legendgroup": "",
         "marker": {
          "color": [
           53,
           54,
           59,
           57,
           51,
           52,
           52
          ],
          "coloraxis": "coloraxis",
          "pattern": {
           "shape": ""
          }
         },
         "name": "",
         "offsetgroup": "",
         "orientation": "v",
         "showlegend": false,
         "textposition": "auto",
         "type": "bar",
         "x": [
          "Friday",
          "Monday",
          "Saturday",
          "Sunday",
          "Thursday",
          "Tuesday",
          "Wednesday"
         ],
         "xaxis": "x",
         "y": [
          32347,
          37504,
          29745,
          32822,
          32314,
          33841,
          32630
         ],
         "yaxis": "y"
        }
       ],
       "layout": {
        "barmode": "relative",
        "coloraxis": {
         "colorbar": {
          "title": {
           "text": "the waiting time per m"
          }
         },
         "colorscale": [
          [
           0,
           "green"
          ],
          [
           0.5,
           "yellow"
          ],
          [
           1,
           "red"
          ]
         ]
        },
        "legend": {
         "tracegroupgap": 0
        },
        "template": {
         "data": {
          "bar": [
           {
            "error_x": {
             "color": "#f2f5fa"
            },
            "error_y": {
             "color": "#f2f5fa"
            },
            "marker": {
             "line": {
              "color": "rgb(17,17,17)",
              "width": 0.5
             },
             "pattern": {
              "fillmode": "overlay",
              "size": 10,
              "solidity": 0.2
             }
            },
            "type": "bar"
           }
          ],
          "barpolar": [
           {
            "marker": {
             "line": {
              "color": "rgb(17,17,17)",
              "width": 0.5
             },
             "pattern": {
              "fillmode": "overlay",
              "size": 10,
              "solidity": 0.2
             }
            },
            "type": "barpolar"
           }
          ],
          "carpet": [
           {
            "aaxis": {
             "endlinecolor": "#A2B1C6",
             "gridcolor": "#506784",
             "linecolor": "#506784",
             "minorgridcolor": "#506784",
             "startlinecolor": "#A2B1C6"
            },
            "baxis": {
             "endlinecolor": "#A2B1C6",
             "gridcolor": "#506784",
             "linecolor": "#506784",
             "minorgridcolor": "#506784",
             "startlinecolor": "#A2B1C6"
            },
            "type": "carpet"
           }
          ],
          "choropleth": [
           {
            "colorbar": {
             "outlinewidth": 0,
             "ticks": ""
            },
            "type": "choropleth"
           }
          ],
          "contour": [
           {
            "colorbar": {
             "outlinewidth": 0,
             "ticks": ""
            },
            "colorscale": [
             [
              0,
              "#0d0887"
             ],
             [
              0.1111111111111111,
              "#46039f"
             ],
             [
              0.2222222222222222,
              "#7201a8"
             ],
             [
              0.3333333333333333,
              "#9c179e"
             ],
             [
              0.4444444444444444,
              "#bd3786"
             ],
             [
              0.5555555555555556,
              "#d8576b"
             ],
             [
              0.6666666666666666,
              "#ed7953"
             ],
             [
              0.7777777777777778,
              "#fb9f3a"
             ],
             [
              0.8888888888888888,
              "#fdca26"
             ],
             [
              1,
              "#f0f921"
             ]
            ],
            "type": "contour"
           }
          ],
          "contourcarpet": [
           {
            "colorbar": {
             "outlinewidth": 0,
             "ticks": ""
            },
            "type": "contourcarpet"
           }
          ],
          "heatmap": [
           {
            "colorbar": {
             "outlinewidth": 0,
             "ticks": ""
            },
            "colorscale": [
             [
              0,
              "#0d0887"
             ],
             [
              0.1111111111111111,
              "#46039f"
             ],
             [
              0.2222222222222222,
              "#7201a8"
             ],
             [
              0.3333333333333333,
              "#9c179e"
             ],
             [
              0.4444444444444444,
              "#bd3786"
             ],
             [
              0.5555555555555556,
              "#d8576b"
             ],
             [
              0.6666666666666666,
              "#ed7953"
             ],
             [
              0.7777777777777778,
              "#fb9f3a"
             ],
             [
              0.8888888888888888,
              "#fdca26"
             ],
             [
              1,
              "#f0f921"
             ]
            ],
            "type": "heatmap"
           }
          ],
          "heatmapgl": [
           {
            "colorbar": {
             "outlinewidth": 0,
             "ticks": ""
            },
            "colorscale": [
             [
              0,
              "#0d0887"
             ],
             [
              0.1111111111111111,
              "#46039f"
             ],
             [
              0.2222222222222222,
              "#7201a8"
             ],
             [
              0.3333333333333333,
              "#9c179e"
             ],
             [
              0.4444444444444444,
              "#bd3786"
             ],
             [
              0.5555555555555556,
              "#d8576b"
             ],
             [
              0.6666666666666666,
              "#ed7953"
             ],
             [
              0.7777777777777778,
              "#fb9f3a"
             ],
             [
              0.8888888888888888,
              "#fdca26"
             ],
             [
              1,
              "#f0f921"
             ]
            ],
            "type": "heatmapgl"
           }
          ],
          "histogram": [
           {
            "marker": {
             "pattern": {
              "fillmode": "overlay",
              "size": 10,
              "solidity": 0.2
             }
            },
            "type": "histogram"
           }
          ],
          "histogram2d": [
           {
            "colorbar": {
             "outlinewidth": 0,
             "ticks": ""
            },
            "colorscale": [
             [
              0,
              "#0d0887"
             ],
             [
              0.1111111111111111,
              "#46039f"
             ],
             [
              0.2222222222222222,
              "#7201a8"
             ],
             [
              0.3333333333333333,
              "#9c179e"
             ],
             [
              0.4444444444444444,
              "#bd3786"
             ],
             [
              0.5555555555555556,
              "#d8576b"
             ],
             [
              0.6666666666666666,
              "#ed7953"
             ],
             [
              0.7777777777777778,
              "#fb9f3a"
             ],
             [
              0.8888888888888888,
              "#fdca26"
             ],
             [
              1,
              "#f0f921"
             ]
            ],
            "type": "histogram2d"
           }
          ],
          "histogram2dcontour": [
           {
            "colorbar": {
             "outlinewidth": 0,
             "ticks": ""
            },
            "colorscale": [
             [
              0,
              "#0d0887"
             ],
             [
              0.1111111111111111,
              "#46039f"
             ],
             [
              0.2222222222222222,
              "#7201a8"
             ],
             [
              0.3333333333333333,
              "#9c179e"
             ],
             [
              0.4444444444444444,
              "#bd3786"
             ],
             [
              0.5555555555555556,
              "#d8576b"
             ],
             [
              0.6666666666666666,
              "#ed7953"
             ],
             [
              0.7777777777777778,
              "#fb9f3a"
             ],
             [
              0.8888888888888888,
              "#fdca26"
             ],
             [
              1,
              "#f0f921"
             ]
            ],
            "type": "histogram2dcontour"
           }
          ],
          "mesh3d": [
           {
            "colorbar": {
             "outlinewidth": 0,
             "ticks": ""
            },
            "type": "mesh3d"
           }
          ],
          "parcoords": [
           {
            "line": {
             "colorbar": {
              "outlinewidth": 0,
              "ticks": ""
             }
            },
            "type": "parcoords"
           }
          ],
          "pie": [
           {
            "automargin": true,
            "type": "pie"
           }
          ],
          "scatter": [
           {
            "marker": {
             "line": {
              "color": "#283442"
             }
            },
            "type": "scatter"
           }
          ],
          "scatter3d": [
           {
            "line": {
             "colorbar": {
              "outlinewidth": 0,
              "ticks": ""
             }
            },
            "marker": {
             "colorbar": {
              "outlinewidth": 0,
              "ticks": ""
             }
            },
            "type": "scatter3d"
           }
          ],
          "scattercarpet": [
           {
            "marker": {
             "colorbar": {
              "outlinewidth": 0,
              "ticks": ""
             }
            },
            "type": "scattercarpet"
           }
          ],
          "scattergeo": [
           {
            "marker": {
             "colorbar": {
              "outlinewidth": 0,
              "ticks": ""
             }
            },
            "type": "scattergeo"
           }
          ],
          "scattergl": [
           {
            "marker": {
             "line": {
              "color": "#283442"
             }
            },
            "type": "scattergl"
           }
          ],
          "scattermapbox": [
           {
            "marker": {
             "colorbar": {
              "outlinewidth": 0,
              "ticks": ""
             }
            },
            "type": "scattermapbox"
           }
          ],
          "scatterpolar": [
           {
            "marker": {
             "colorbar": {
              "outlinewidth": 0,
              "ticks": ""
             }
            },
            "type": "scatterpolar"
           }
          ],
          "scatterpolargl": [
           {
            "marker": {
             "colorbar": {
              "outlinewidth": 0,
              "ticks": ""
             }
            },
            "type": "scatterpolargl"
           }
          ],
          "scatterternary": [
           {
            "marker": {
             "colorbar": {
              "outlinewidth": 0,
              "ticks": ""
             }
            },
            "type": "scatterternary"
           }
          ],
          "surface": [
           {
            "colorbar": {
             "outlinewidth": 0,
             "ticks": ""
            },
            "colorscale": [
             [
              0,
              "#0d0887"
             ],
             [
              0.1111111111111111,
              "#46039f"
             ],
             [
              0.2222222222222222,
              "#7201a8"
             ],
             [
              0.3333333333333333,
              "#9c179e"
             ],
             [
              0.4444444444444444,
              "#bd3786"
             ],
             [
              0.5555555555555556,
              "#d8576b"
             ],
             [
              0.6666666666666666,
              "#ed7953"
             ],
             [
              0.7777777777777778,
              "#fb9f3a"
             ],
             [
              0.8888888888888888,
              "#fdca26"
             ],
             [
              1,
              "#f0f921"
             ]
            ],
            "type": "surface"
           }
          ],
          "table": [
           {
            "cells": {
             "fill": {
              "color": "#506784"
             },
             "line": {
              "color": "rgb(17,17,17)"
             }
            },
            "header": {
             "fill": {
              "color": "#2a3f5f"
             },
             "line": {
              "color": "rgb(17,17,17)"
             }
            },
            "type": "table"
           }
          ]
         },
         "layout": {
          "annotationdefaults": {
           "arrowcolor": "#f2f5fa",
           "arrowhead": 0,
           "arrowwidth": 1
          },
          "autotypenumbers": "strict",
          "coloraxis": {
           "colorbar": {
            "outlinewidth": 0,
            "ticks": ""
           }
          },
          "colorscale": {
           "diverging": [
            [
             0,
             "#8e0152"
            ],
            [
             0.1,
             "#c51b7d"
            ],
            [
             0.2,
             "#de77ae"
            ],
            [
             0.3,
             "#f1b6da"
            ],
            [
             0.4,
             "#fde0ef"
            ],
            [
             0.5,
             "#f7f7f7"
            ],
            [
             0.6,
             "#e6f5d0"
            ],
            [
             0.7,
             "#b8e186"
            ],
            [
             0.8,
             "#7fbc41"
            ],
            [
             0.9,
             "#4d9221"
            ],
            [
             1,
             "#276419"
            ]
           ],
           "sequential": [
            [
             0,
             "#0d0887"
            ],
            [
             0.1111111111111111,
             "#46039f"
            ],
            [
             0.2222222222222222,
             "#7201a8"
            ],
            [
             0.3333333333333333,
             "#9c179e"
            ],
            [
             0.4444444444444444,
             "#bd3786"
            ],
            [
             0.5555555555555556,
             "#d8576b"
            ],
            [
             0.6666666666666666,
             "#ed7953"
            ],
            [
             0.7777777777777778,
             "#fb9f3a"
            ],
            [
             0.8888888888888888,
             "#fdca26"
            ],
            [
             1,
             "#f0f921"
            ]
           ],
           "sequentialminus": [
            [
             0,
             "#0d0887"
            ],
            [
             0.1111111111111111,
             "#46039f"
            ],
            [
             0.2222222222222222,
             "#7201a8"
            ],
            [
             0.3333333333333333,
             "#9c179e"
            ],
            [
             0.4444444444444444,
             "#bd3786"
            ],
            [
             0.5555555555555556,
             "#d8576b"
            ],
            [
             0.6666666666666666,
             "#ed7953"
            ],
            [
             0.7777777777777778,
             "#fb9f3a"
            ],
            [
             0.8888888888888888,
             "#fdca26"
            ],
            [
             1,
             "#f0f921"
            ]
           ]
          },
          "colorway": [
           "#636efa",
           "#EF553B",
           "#00cc96",
           "#ab63fa",
           "#FFA15A",
           "#19d3f3",
           "#FF6692",
           "#B6E880",
           "#FF97FF",
           "#FECB52"
          ],
          "font": {
           "color": "#f2f5fa"
          },
          "geo": {
           "bgcolor": "rgb(17,17,17)",
           "lakecolor": "rgb(17,17,17)",
           "landcolor": "rgb(17,17,17)",
           "showlakes": true,
           "showland": true,
           "subunitcolor": "#506784"
          },
          "hoverlabel": {
           "align": "left"
          },
          "hovermode": "closest",
          "mapbox": {
           "style": "dark"
          },
          "paper_bgcolor": "rgb(17,17,17)",
          "plot_bgcolor": "rgb(17,17,17)",
          "polar": {
           "angularaxis": {
            "gridcolor": "#506784",
            "linecolor": "#506784",
            "ticks": ""
           },
           "bgcolor": "rgb(17,17,17)",
           "radialaxis": {
            "gridcolor": "#506784",
            "linecolor": "#506784",
            "ticks": ""
           }
          },
          "scene": {
           "xaxis": {
            "backgroundcolor": "rgb(17,17,17)",
            "gridcolor": "#506784",
            "gridwidth": 2,
            "linecolor": "#506784",
            "showbackground": true,
            "ticks": "",
            "zerolinecolor": "#C8D4E3"
           },
           "yaxis": {
            "backgroundcolor": "rgb(17,17,17)",
            "gridcolor": "#506784",
            "gridwidth": 2,
            "linecolor": "#506784",
            "showbackground": true,
            "ticks": "",
            "zerolinecolor": "#C8D4E3"
           },
           "zaxis": {
            "backgroundcolor": "rgb(17,17,17)",
            "gridcolor": "#506784",
            "gridwidth": 2,
            "linecolor": "#506784",
            "showbackground": true,
            "ticks": "",
            "zerolinecolor": "#C8D4E3"
           }
          },
          "shapedefaults": {
           "line": {
            "color": "#f2f5fa"
           }
          },
          "sliderdefaults": {
           "bgcolor": "#C8D4E3",
           "bordercolor": "rgb(17,17,17)",
           "borderwidth": 1,
           "tickwidth": 0
          },
          "ternary": {
           "aaxis": {
            "gridcolor": "#506784",
            "linecolor": "#506784",
            "ticks": ""
           },
           "baxis": {
            "gridcolor": "#506784",
            "linecolor": "#506784",
            "ticks": ""
           },
           "bgcolor": "rgb(17,17,17)",
           "caxis": {
            "gridcolor": "#506784",
            "linecolor": "#506784",
            "ticks": ""
           }
          },
          "title": {
           "x": 0.05
          },
          "updatemenudefaults": {
           "bgcolor": "#506784",
           "borderwidth": 0
          },
          "xaxis": {
           "automargin": true,
           "gridcolor": "#283442",
           "linecolor": "#506784",
           "ticks": "",
           "title": {
            "standoff": 15
           },
           "zerolinecolor": "#283442",
           "zerolinewidth": 2
          },
          "yaxis": {
           "automargin": true,
           "gridcolor": "#283442",
           "linecolor": "#506784",
           "ticks": "",
           "title": {
            "standoff": 15
           },
           "zerolinecolor": "#283442",
           "zerolinewidth": 2
          }
         }
        },
        "title": {
         "text": "<b>Daily visualization</b>"
        },
        "xaxis": {
         "anchor": "y",
         "domain": [
          0,
          1
         ],
         "title": {
          "text": "weekday"
         }
        },
        "yaxis": {
         "anchor": "x",
         "domain": [
          0,
          1
         ],
         "title": {
          "text": "number_of_patient"
         }
        }
       }
      }
     },
     "metadata": {},
     "output_type": "display_data"
    }
   ],
   "source": [
    "answer2 =  grouped_data('weekday')\n",
    "# Create Chart for the Daily\n",
    "fig2 = px.bar(answer2,\n",
    "             x='weekday',\n",
    "             y='number_of_patient',\n",
    "             color='waiting_ber_munets',\n",
    "             labels={'waiting_ber_munets':'the waiting time per m'} ,\n",
    "             color_continuous_scale=['green','yellow','red'],\n",
    "             template = template_style,\n",
    "             title = '<b>Daily visualization</b>')\n",
    "# Display Plot\n",
    "fig2.show()"
   ]
  },
  {
   "cell_type": "markdown",
   "metadata": {},
   "source": [
    "# Results"
   ]
  }
 ],
 "metadata": {
  "kernelspec": {
   "display_name": ".venv",
   "language": "python",
   "name": "python3"
  },
  "language_info": {
   "codemirror_mode": {
    "name": "ipython",
    "version": 3
   },
   "file_extension": ".py",
   "mimetype": "text/x-python",
   "name": "python",
   "nbconvert_exporter": "python",
   "pygments_lexer": "ipython3",
   "version": "3.12.1"
  }
 },
 "nbformat": 4,
 "nbformat_minor": 2
}
